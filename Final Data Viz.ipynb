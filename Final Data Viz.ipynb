{
  "nbformat": 4,
  "nbformat_minor": 0,
  "metadata": {
    "colab": {
      "name": "ข้อสอบไฟนอลจ้า.ipynb",
      "provenance": [],
      "collapsed_sections": [],
      "toc_visible": true,
      "authorship_tag": "ABX9TyNomo0nD3VWY6gAnz8BCqIr",
      "include_colab_link": true
    },
    "kernelspec": {
      "name": "python3",
      "display_name": "Python 3"
    },
    "language_info": {
      "name": "python"
    }
  },
  "cells": [
    {
      "cell_type": "markdown",
      "metadata": {
        "id": "view-in-github",
        "colab_type": "text"
      },
      "source": [
        "<a href=\"https://colab.research.google.com/github/therealzh/Data_viz/blob/main/Final%20Data%20Viz.ipynb\" target=\"_parent\"><img src=\"https://colab.research.google.com/assets/colab-badge.svg\" alt=\"Open In Colab\"/></a>"
      ]
    },
    {
      "cell_type": "code",
      "metadata": {
        "id": "P4MpE5UgXrpw"
      },
      "source": [
        "import pandas as pd\n",
        "import os\n",
        "import numpy as np\n",
        "import matplotlib.pyplot as plt\n",
        "import datetime as datetime\n",
        "from datetime import datetime\n",
        "from datetime import time\n",
        "import matplotlib\n",
        "import matplotlib.pyplot as plt\n",
        "import numpy as np"
      ],
      "execution_count": null,
      "outputs": []
    },
    {
      "cell_type": "code",
      "metadata": {
        "colab": {
          "base_uri": "https://localhost:8080/"
        },
        "id": "ifVDU9ipX2k_",
        "outputId": "98e28bf1-4b25-419c-ec0f-acf7def5afed"
      },
      "source": [
        "from google.colab import drive\n",
        "drive.mount('/content/drive')"
      ],
      "execution_count": null,
      "outputs": [
        {
          "output_type": "stream",
          "text": [
            "Mounted at /content/drive\n"
          ],
          "name": "stdout"
        }
      ]
    },
    {
      "cell_type": "code",
      "metadata": {
        "id": "L-5tYC0EX4ib"
      },
      "source": [
        "import os\n",
        "path = '/content/drive/My Drive/Data viz/Final'"
      ],
      "execution_count": null,
      "outputs": []
    },
    {
      "cell_type": "markdown",
      "metadata": {
        "id": "y-A94MP7e0DG"
      },
      "source": [
        "#**นำเข้าข้อมูลผู้ป่วย**"
      ]
    },
    {
      "cell_type": "code",
      "metadata": {
        "colab": {
          "base_uri": "https://localhost:8080/"
        },
        "id": "pTbp3iW-YFlW",
        "outputId": "ff4ab3cb-ec35-44eb-f910-44ad64a80280"
      },
      "source": [
        "covid_file_path = os.path.join(path,'covid19cases.csv')\n",
        "print(covid_file_path)"
      ],
      "execution_count": null,
      "outputs": [
        {
          "output_type": "stream",
          "text": [
            "/content/drive/My Drive/Data viz/Final/covid19cases.csv\n"
          ],
          "name": "stdout"
        }
      ]
    },
    {
      "cell_type": "code",
      "metadata": {
        "colab": {
          "base_uri": "https://localhost:8080/",
          "height": 80
        },
        "id": "ROM52OSlYxZG",
        "outputId": "ba469b49-cf39-41a1-c4ff-3ed28302f6b8"
      },
      "source": [
        "dtc = pd.read_csv(covid_file_path)\n",
        "dtc.head(1)"
      ],
      "execution_count": null,
      "outputs": [
        {
          "output_type": "execute_result",
          "data": {
            "text/html": [
              "<div>\n",
              "<style scoped>\n",
              "    .dataframe tbody tr th:only-of-type {\n",
              "        vertical-align: middle;\n",
              "    }\n",
              "\n",
              "    .dataframe tbody tr th {\n",
              "        vertical-align: top;\n",
              "    }\n",
              "\n",
              "    .dataframe thead th {\n",
              "        text-align: right;\n",
              "    }\n",
              "</style>\n",
              "<table border=\"1\" class=\"dataframe\">\n",
              "  <thead>\n",
              "    <tr style=\"text-align: right;\">\n",
              "      <th></th>\n",
              "      <th>No.</th>\n",
              "      <th>announce_date</th>\n",
              "      <th>Notified date</th>\n",
              "      <th>sex</th>\n",
              "      <th>age</th>\n",
              "      <th>Unit</th>\n",
              "      <th>nationality</th>\n",
              "      <th>province_of_isolation</th>\n",
              "      <th>risk</th>\n",
              "      <th>province_of_onset</th>\n",
              "      <th>district_of_onset</th>\n",
              "    </tr>\n",
              "  </thead>\n",
              "  <tbody>\n",
              "    <tr>\n",
              "      <th>0</th>\n",
              "      <td>1</td>\n",
              "      <td>12/1/2020</td>\n",
              "      <td>NaN</td>\n",
              "      <td>หญิง</td>\n",
              "      <td>61.0</td>\n",
              "      <td>ปี</td>\n",
              "      <td>China</td>\n",
              "      <td>กรุงเทพมหานคร</td>\n",
              "      <td>คนต่างชาติเดินทางมาจากต่างประเทศ</td>\n",
              "      <td>กรุงเทพมหานคร</td>\n",
              "      <td>NaN</td>\n",
              "    </tr>\n",
              "  </tbody>\n",
              "</table>\n",
              "</div>"
            ],
            "text/plain": [
              "   No. announce_date  ... province_of_onset district_of_onset\n",
              "0    1     12/1/2020  ...     กรุงเทพมหานคร               NaN\n",
              "\n",
              "[1 rows x 11 columns]"
            ]
          },
          "metadata": {
            "tags": []
          },
          "execution_count": 5
        }
      ]
    },
    {
      "cell_type": "code",
      "metadata": {
        "colab": {
          "base_uri": "https://localhost:8080/"
        },
        "id": "X934NXtVZN1o",
        "outputId": "ae706ff0-e37b-4bc5-8b69-1bbfddd11854"
      },
      "source": [
        "dtc.isnull().any()"
      ],
      "execution_count": null,
      "outputs": [
        {
          "output_type": "execute_result",
          "data": {
            "text/plain": [
              "No.                      False\n",
              "announce_date            False\n",
              "Notified date            False\n",
              "sex                      False\n",
              "age                      False\n",
              "Unit                      True\n",
              "nationality              False\n",
              "province_of_isolation    False\n",
              "risk                     False\n",
              "province_of_onset        False\n",
              "district_of_onset        False\n",
              "dtype: bool"
            ]
          },
          "metadata": {
            "tags": []
          },
          "execution_count": 8
        }
      ]
    },
    {
      "cell_type": "markdown",
      "metadata": {
        "id": "f5e5HZ1Ve7lE"
      },
      "source": [
        "## **แทนค่า missing ด้วยคำว่าไม่ระบุ**"
      ]
    },
    {
      "cell_type": "code",
      "metadata": {
        "id": "vj4T9iRjZa-V"
      },
      "source": [
        "dtc['Notified date'] = dtc['Notified date'].fillna('ไม่ระบุ')\n",
        "dtc['sex'] = dtc['sex'].fillna('ไม่ระบุ')\n",
        "dtc['age'] = dtc['age'].fillna('ไม่ระบุ')\n",
        "dtc['nationality'] = dtc['nationality'].fillna('ไม่ระบุ')\n",
        "dtc['province_of_isolation'] = dtc['province_of_isolation'].fillna('ไม่ระบุ')\n",
        "dtc['risk'] = dtc['risk'].fillna('ไม่ระบุ')\n",
        "dtc['province_of_onset'] = dtc['province_of_onset'].fillna('ไม่ระบุ')\n",
        "dtc['district_of_onset'] = dtc['district_of_onset'].fillna('ไม่ระบุ')"
      ],
      "execution_count": null,
      "outputs": []
    },
    {
      "cell_type": "code",
      "metadata": {
        "colab": {
          "base_uri": "https://localhost:8080/",
          "height": 204
        },
        "id": "tiQmpANLehiT",
        "outputId": "7b4ed4df-e53e-4339-e376-6a8a6ad5a05d"
      },
      "source": [
        "dtc.head()"
      ],
      "execution_count": null,
      "outputs": [
        {
          "output_type": "execute_result",
          "data": {
            "text/html": [
              "<div>\n",
              "<style scoped>\n",
              "    .dataframe tbody tr th:only-of-type {\n",
              "        vertical-align: middle;\n",
              "    }\n",
              "\n",
              "    .dataframe tbody tr th {\n",
              "        vertical-align: top;\n",
              "    }\n",
              "\n",
              "    .dataframe thead th {\n",
              "        text-align: right;\n",
              "    }\n",
              "</style>\n",
              "<table border=\"1\" class=\"dataframe\">\n",
              "  <thead>\n",
              "    <tr style=\"text-align: right;\">\n",
              "      <th></th>\n",
              "      <th>No.</th>\n",
              "      <th>announce_date</th>\n",
              "      <th>Notified date</th>\n",
              "      <th>sex</th>\n",
              "      <th>age</th>\n",
              "      <th>Unit</th>\n",
              "      <th>nationality</th>\n",
              "      <th>province_of_isolation</th>\n",
              "      <th>risk</th>\n",
              "      <th>province_of_onset</th>\n",
              "      <th>district_of_onset</th>\n",
              "    </tr>\n",
              "  </thead>\n",
              "  <tbody>\n",
              "    <tr>\n",
              "      <th>0</th>\n",
              "      <td>1</td>\n",
              "      <td>12/1/2020</td>\n",
              "      <td>ไม่ระบุ</td>\n",
              "      <td>หญิง</td>\n",
              "      <td>61</td>\n",
              "      <td>ปี</td>\n",
              "      <td>China</td>\n",
              "      <td>กรุงเทพมหานคร</td>\n",
              "      <td>คนต่างชาติเดินทางมาจากต่างประเทศ</td>\n",
              "      <td>กรุงเทพมหานคร</td>\n",
              "      <td>ไม่ระบุ</td>\n",
              "    </tr>\n",
              "    <tr>\n",
              "      <th>1</th>\n",
              "      <td>2</td>\n",
              "      <td>17/1/2020</td>\n",
              "      <td>ไม่ระบุ</td>\n",
              "      <td>หญิง</td>\n",
              "      <td>74</td>\n",
              "      <td>ปี</td>\n",
              "      <td>China</td>\n",
              "      <td>กรุงเทพมหานคร</td>\n",
              "      <td>คนต่างชาติเดินทางมาจากต่างประเทศ</td>\n",
              "      <td>กรุงเทพมหานคร</td>\n",
              "      <td>ไม่ระบุ</td>\n",
              "    </tr>\n",
              "    <tr>\n",
              "      <th>2</th>\n",
              "      <td>3</td>\n",
              "      <td>22/1/2020</td>\n",
              "      <td>ไม่ระบุ</td>\n",
              "      <td>หญิง</td>\n",
              "      <td>73</td>\n",
              "      <td>ปี</td>\n",
              "      <td>Thailand</td>\n",
              "      <td>นครปฐม</td>\n",
              "      <td>คนต่างชาติเดินทางมาจากต่างประเทศ</td>\n",
              "      <td>นครปฐม</td>\n",
              "      <td>เมือง</td>\n",
              "    </tr>\n",
              "    <tr>\n",
              "      <th>3</th>\n",
              "      <td>4</td>\n",
              "      <td>22/1/2020</td>\n",
              "      <td>ไม่ระบุ</td>\n",
              "      <td>ชาย</td>\n",
              "      <td>68</td>\n",
              "      <td>ปี</td>\n",
              "      <td>China</td>\n",
              "      <td>กรุงเทพมหานคร</td>\n",
              "      <td>คนต่างชาติเดินทางมาจากต่างประเทศ</td>\n",
              "      <td>กรุงเทพมหานคร</td>\n",
              "      <td>ไม่ระบุ</td>\n",
              "    </tr>\n",
              "    <tr>\n",
              "      <th>4</th>\n",
              "      <td>5</td>\n",
              "      <td>24/1/2020</td>\n",
              "      <td>ไม่ระบุ</td>\n",
              "      <td>หญิง</td>\n",
              "      <td>66</td>\n",
              "      <td>ปี</td>\n",
              "      <td>China</td>\n",
              "      <td>นนทบุรี</td>\n",
              "      <td>คนต่างชาติเดินทางมาจากต่างประเทศ</td>\n",
              "      <td>กรุงเทพมหานคร</td>\n",
              "      <td>ไม่ระบุ</td>\n",
              "    </tr>\n",
              "  </tbody>\n",
              "</table>\n",
              "</div>"
            ],
            "text/plain": [
              "   No. announce_date  ... province_of_onset district_of_onset\n",
              "0    1     12/1/2020  ...     กรุงเทพมหานคร           ไม่ระบุ\n",
              "1    2     17/1/2020  ...     กรุงเทพมหานคร           ไม่ระบุ\n",
              "2    3     22/1/2020  ...            นครปฐม             เมือง\n",
              "3    4     22/1/2020  ...     กรุงเทพมหานคร           ไม่ระบุ\n",
              "4    5     24/1/2020  ...     กรุงเทพมหานคร           ไม่ระบุ\n",
              "\n",
              "[5 rows x 11 columns]"
            ]
          },
          "metadata": {
            "tags": []
          },
          "execution_count": 10
        }
      ]
    },
    {
      "cell_type": "code",
      "metadata": {
        "colab": {
          "base_uri": "https://localhost:8080/",
          "height": 204
        },
        "id": "FICEhlfDfVey",
        "outputId": "efb60dc8-1eb5-4475-cb46-60d76110b87e"
      },
      "source": [
        "dtc['announce_date']  = pd.to_datetime(dtc['announce_date'],format='%d/%m/%Y')\n",
        "dtc.head()"
      ],
      "execution_count": null,
      "outputs": [
        {
          "output_type": "execute_result",
          "data": {
            "text/html": [
              "<div>\n",
              "<style scoped>\n",
              "    .dataframe tbody tr th:only-of-type {\n",
              "        vertical-align: middle;\n",
              "    }\n",
              "\n",
              "    .dataframe tbody tr th {\n",
              "        vertical-align: top;\n",
              "    }\n",
              "\n",
              "    .dataframe thead th {\n",
              "        text-align: right;\n",
              "    }\n",
              "</style>\n",
              "<table border=\"1\" class=\"dataframe\">\n",
              "  <thead>\n",
              "    <tr style=\"text-align: right;\">\n",
              "      <th></th>\n",
              "      <th>No.</th>\n",
              "      <th>announce_date</th>\n",
              "      <th>Notified date</th>\n",
              "      <th>sex</th>\n",
              "      <th>age</th>\n",
              "      <th>Unit</th>\n",
              "      <th>nationality</th>\n",
              "      <th>province_of_isolation</th>\n",
              "      <th>risk</th>\n",
              "      <th>province_of_onset</th>\n",
              "      <th>district_of_onset</th>\n",
              "    </tr>\n",
              "  </thead>\n",
              "  <tbody>\n",
              "    <tr>\n",
              "      <th>0</th>\n",
              "      <td>1</td>\n",
              "      <td>2020-01-12</td>\n",
              "      <td>ไม่ระบุ</td>\n",
              "      <td>หญิง</td>\n",
              "      <td>61</td>\n",
              "      <td>ปี</td>\n",
              "      <td>China</td>\n",
              "      <td>กรุงเทพมหานคร</td>\n",
              "      <td>คนต่างชาติเดินทางมาจากต่างประเทศ</td>\n",
              "      <td>กรุงเทพมหานคร</td>\n",
              "      <td>ไม่ระบุ</td>\n",
              "    </tr>\n",
              "    <tr>\n",
              "      <th>1</th>\n",
              "      <td>2</td>\n",
              "      <td>2020-01-17</td>\n",
              "      <td>ไม่ระบุ</td>\n",
              "      <td>หญิง</td>\n",
              "      <td>74</td>\n",
              "      <td>ปี</td>\n",
              "      <td>China</td>\n",
              "      <td>กรุงเทพมหานคร</td>\n",
              "      <td>คนต่างชาติเดินทางมาจากต่างประเทศ</td>\n",
              "      <td>กรุงเทพมหานคร</td>\n",
              "      <td>ไม่ระบุ</td>\n",
              "    </tr>\n",
              "    <tr>\n",
              "      <th>2</th>\n",
              "      <td>3</td>\n",
              "      <td>2020-01-22</td>\n",
              "      <td>ไม่ระบุ</td>\n",
              "      <td>หญิง</td>\n",
              "      <td>73</td>\n",
              "      <td>ปี</td>\n",
              "      <td>Thailand</td>\n",
              "      <td>นครปฐม</td>\n",
              "      <td>คนต่างชาติเดินทางมาจากต่างประเทศ</td>\n",
              "      <td>นครปฐม</td>\n",
              "      <td>เมือง</td>\n",
              "    </tr>\n",
              "    <tr>\n",
              "      <th>3</th>\n",
              "      <td>4</td>\n",
              "      <td>2020-01-22</td>\n",
              "      <td>ไม่ระบุ</td>\n",
              "      <td>ชาย</td>\n",
              "      <td>68</td>\n",
              "      <td>ปี</td>\n",
              "      <td>China</td>\n",
              "      <td>กรุงเทพมหานคร</td>\n",
              "      <td>คนต่างชาติเดินทางมาจากต่างประเทศ</td>\n",
              "      <td>กรุงเทพมหานคร</td>\n",
              "      <td>ไม่ระบุ</td>\n",
              "    </tr>\n",
              "    <tr>\n",
              "      <th>4</th>\n",
              "      <td>5</td>\n",
              "      <td>2020-01-24</td>\n",
              "      <td>ไม่ระบุ</td>\n",
              "      <td>หญิง</td>\n",
              "      <td>66</td>\n",
              "      <td>ปี</td>\n",
              "      <td>China</td>\n",
              "      <td>นนทบุรี</td>\n",
              "      <td>คนต่างชาติเดินทางมาจากต่างประเทศ</td>\n",
              "      <td>กรุงเทพมหานคร</td>\n",
              "      <td>ไม่ระบุ</td>\n",
              "    </tr>\n",
              "  </tbody>\n",
              "</table>\n",
              "</div>"
            ],
            "text/plain": [
              "   No. announce_date  ... province_of_onset district_of_onset\n",
              "0    1    2020-01-12  ...     กรุงเทพมหานคร           ไม่ระบุ\n",
              "1    2    2020-01-17  ...     กรุงเทพมหานคร           ไม่ระบุ\n",
              "2    3    2020-01-22  ...            นครปฐม             เมือง\n",
              "3    4    2020-01-22  ...     กรุงเทพมหานคร           ไม่ระบุ\n",
              "4    5    2020-01-24  ...     กรุงเทพมหานคร           ไม่ระบุ\n",
              "\n",
              "[5 rows x 11 columns]"
            ]
          },
          "metadata": {
            "tags": []
          },
          "execution_count": 11
        }
      ]
    },
    {
      "cell_type": "markdown",
      "metadata": {
        "id": "hFBFZnsqgUBb"
      },
      "source": [
        "##จัดกลุ่มเดือน"
      ]
    },
    {
      "cell_type": "code",
      "metadata": {
        "id": "5Qzr5B__fpnO"
      },
      "source": [
        "covid1 = dtc.groupby('announce_date')['No.'].count()\n",
        "covid_M = pd.DataFrame(covid1).reset_index()\n",
        "covid_M['Month'] = covid_M['announce_date'].dt.month"
      ],
      "execution_count": null,
      "outputs": []
    },
    {
      "cell_type": "code",
      "metadata": {
        "colab": {
          "base_uri": "https://localhost:8080/"
        },
        "id": "v3SVgVeQgGax",
        "outputId": "67b7f608-648b-4c9e-eaa9-a7d587a67a20"
      },
      "source": [
        "covid_M.groupby('Month')['No.'].sum()"
      ],
      "execution_count": null,
      "outputs": [
        {
          "output_type": "execute_result",
          "data": {
            "text/plain": [
              "Month\n",
              "1     11917\n",
              "2      7192\n",
              "3      4521\n",
              "4     29950\n",
              "5       127\n",
              "6        90\n",
              "7       139\n",
              "8       102\n",
              "9       152\n",
              "10      216\n",
              "11      218\n",
              "12     2886\n",
              "Name: No., dtype: int64"
            ]
          },
          "metadata": {
            "tags": []
          },
          "execution_count": 14
        }
      ]
    },
    {
      "cell_type": "markdown",
      "metadata": {
        "id": "9BVWCdUJgXc9"
      },
      "source": [
        "#นำเข้าข้อมูลการเดินทาง 63-64"
      ]
    },
    {
      "cell_type": "code",
      "metadata": {
        "colab": {
          "base_uri": "https://localhost:8080/",
          "height": 180
        },
        "id": "iB9YQ5que8Ij",
        "outputId": "30652ba8-f07a-46d2-e9b9-43cd4091207d"
      },
      "source": [
        "dtp = pd.read_excel('/content/passenger-covid19.xlsx',sheet_name='2563-2564 รวมในประเทศ',skiprows=1,skipfooter=33)\n",
        "dtp..head(1)"
      ],
      "execution_count": null,
      "outputs": [
        {
          "output_type": "execute_result",
          "data": {
            "text/html": [
              "<div>\n",
              "<style scoped>\n",
              "    .dataframe tbody tr th:only-of-type {\n",
              "        vertical-align: middle;\n",
              "    }\n",
              "\n",
              "    .dataframe tbody tr th {\n",
              "        vertical-align: top;\n",
              "    }\n",
              "\n",
              "    .dataframe thead th {\n",
              "        text-align: right;\n",
              "    }\n",
              "</style>\n",
              "<table border=\"1\" class=\"dataframe\">\n",
              "  <thead>\n",
              "    <tr style=\"text-align: right;\">\n",
              "      <th></th>\n",
              "      <th>Unnamed: 0</th>\n",
              "      <th>2020-01-01 00:00:00</th>\n",
              "      <th>2020-01-02 00:00:00</th>\n",
              "      <th>2020-01-03 00:00:00</th>\n",
              "      <th>2020-01-04 00:00:00</th>\n",
              "      <th>2020-01-05 00:00:00</th>\n",
              "      <th>2020-01-06 00:00:00</th>\n",
              "      <th>2020-01-07 00:00:00</th>\n",
              "      <th>2020-01-08 00:00:00</th>\n",
              "      <th>2020-01-09 00:00:00</th>\n",
              "      <th>2020-01-10 00:00:00</th>\n",
              "      <th>2020-01-11 00:00:00</th>\n",
              "      <th>2020-01-12 00:00:00</th>\n",
              "      <th>2020-01-13 00:00:00</th>\n",
              "      <th>2020-01-14 00:00:00</th>\n",
              "      <th>2020-01-15 00:00:00</th>\n",
              "      <th>2020-01-16 00:00:00</th>\n",
              "      <th>2020-01-17 00:00:00</th>\n",
              "      <th>2020-01-18 00:00:00</th>\n",
              "      <th>2020-01-19 00:00:00</th>\n",
              "      <th>2020-01-20 00:00:00</th>\n",
              "      <th>2020-01-21 00:00:00</th>\n",
              "      <th>2020-01-22 00:00:00</th>\n",
              "      <th>2020-01-23 00:00:00</th>\n",
              "      <th>2020-01-24 00:00:00</th>\n",
              "      <th>2020-01-25 00:00:00</th>\n",
              "      <th>2020-01-26 00:00:00</th>\n",
              "      <th>2020-01-27 00:00:00</th>\n",
              "      <th>2020-01-28 00:00:00</th>\n",
              "      <th>2020-01-29 00:00:00</th>\n",
              "      <th>2020-01-30 00:00:00</th>\n",
              "      <th>2020-01-31 00:00:00</th>\n",
              "      <th>2020-02-01 00:00:00</th>\n",
              "      <th>2020-02-02 00:00:00</th>\n",
              "      <th>2020-02-03 00:00:00</th>\n",
              "      <th>2020-02-04 00:00:00</th>\n",
              "      <th>2020-02-05 00:00:00</th>\n",
              "      <th>2020-02-06 00:00:00</th>\n",
              "      <th>2020-02-07 00:00:00</th>\n",
              "      <th>2020-02-08 00:00:00</th>\n",
              "      <th>...</th>\n",
              "      <th>2021-03-18 00:00:00</th>\n",
              "      <th>2021-03-19 00:00:00</th>\n",
              "      <th>2021-03-20 00:00:00</th>\n",
              "      <th>2021-03-21 00:00:00</th>\n",
              "      <th>2021-03-22 00:00:00</th>\n",
              "      <th>2021-03-23 00:00:00</th>\n",
              "      <th>2021-03-24 00:00:00</th>\n",
              "      <th>2021-03-25 00:00:00</th>\n",
              "      <th>2021-03-26 00:00:00</th>\n",
              "      <th>2021-03-27 00:00:00</th>\n",
              "      <th>2021-03-28 00:00:00</th>\n",
              "      <th>2021-03-29 00:00:00</th>\n",
              "      <th>2021-03-30 00:00:00</th>\n",
              "      <th>2021-03-31 00:00:00</th>\n",
              "      <th>2021-04-01 00:00:00</th>\n",
              "      <th>2021-04-02 00:00:00</th>\n",
              "      <th>2021-04-03 00:00:00</th>\n",
              "      <th>2021-04-04 00:00:00</th>\n",
              "      <th>2021-04-05 00:00:00</th>\n",
              "      <th>2021-04-06 00:00:00</th>\n",
              "      <th>2021-04-07 00:00:00</th>\n",
              "      <th>2021-04-08 00:00:00</th>\n",
              "      <th>2021-04-09 00:00:00</th>\n",
              "      <th>2021-04-10 00:00:00</th>\n",
              "      <th>2021-04-11 00:00:00</th>\n",
              "      <th>2021-04-12 00:00:00</th>\n",
              "      <th>2021-04-13 00:00:00</th>\n",
              "      <th>2021-04-14 00:00:00</th>\n",
              "      <th>2021-04-15 00:00:00</th>\n",
              "      <th>2021-04-16 00:00:00</th>\n",
              "      <th>2021-04-17 00:00:00</th>\n",
              "      <th>2021-04-18 00:00:00</th>\n",
              "      <th>2021-04-19 00:00:00</th>\n",
              "      <th>2021-04-20 00:00:00</th>\n",
              "      <th>2021-04-21 00:00:00</th>\n",
              "      <th>2021-04-22 00:00:00</th>\n",
              "      <th>2021-04-23 00:00:00</th>\n",
              "      <th>2021-04-24 00:00:00</th>\n",
              "      <th>2021-04-25 00:00:00</th>\n",
              "      <th>2021-04-26 00:00:00</th>\n",
              "    </tr>\n",
              "  </thead>\n",
              "  <tbody>\n",
              "    <tr>\n",
              "      <th>0</th>\n",
              "      <td>ทางถนน (คน)</td>\n",
              "      <td>1483255</td>\n",
              "      <td>1705026</td>\n",
              "      <td>1752572</td>\n",
              "      <td>1576146</td>\n",
              "      <td>1565134</td>\n",
              "      <td>1746239</td>\n",
              "      <td>1730243</td>\n",
              "      <td>1721777</td>\n",
              "      <td>1698594</td>\n",
              "      <td>1727356</td>\n",
              "      <td>1522765</td>\n",
              "      <td>1511236</td>\n",
              "      <td>1683606</td>\n",
              "      <td>1691301</td>\n",
              "      <td>1727613</td>\n",
              "      <td>1676901</td>\n",
              "      <td>1732040</td>\n",
              "      <td>1556750</td>\n",
              "      <td>1511356</td>\n",
              "      <td>1718946</td>\n",
              "      <td>1710079</td>\n",
              "      <td>1678182</td>\n",
              "      <td>1685422</td>\n",
              "      <td>1658692</td>\n",
              "      <td>1523835</td>\n",
              "      <td>1498975</td>\n",
              "      <td>1696898</td>\n",
              "      <td>1679988</td>\n",
              "      <td>1668462</td>\n",
              "      <td>1640721</td>\n",
              "      <td>1704546</td>\n",
              "      <td>1400174</td>\n",
              "      <td>1483074</td>\n",
              "      <td>1706497</td>\n",
              "      <td>1731697</td>\n",
              "      <td>1727513</td>\n",
              "      <td>1662866</td>\n",
              "      <td>1746742</td>\n",
              "      <td>1505635</td>\n",
              "      <td>...</td>\n",
              "      <td>997062</td>\n",
              "      <td>1017447</td>\n",
              "      <td>849673</td>\n",
              "      <td>787616</td>\n",
              "      <td>937505</td>\n",
              "      <td>969454</td>\n",
              "      <td>958065</td>\n",
              "      <td>981683</td>\n",
              "      <td>1011976</td>\n",
              "      <td>877911</td>\n",
              "      <td>794001</td>\n",
              "      <td>974571</td>\n",
              "      <td>965117</td>\n",
              "      <td>967022</td>\n",
              "      <td>987469</td>\n",
              "      <td>1006485</td>\n",
              "      <td>868194</td>\n",
              "      <td>789312</td>\n",
              "      <td>965421</td>\n",
              "      <td>753176</td>\n",
              "      <td>908431</td>\n",
              "      <td>936938</td>\n",
              "      <td>929038</td>\n",
              "      <td>719618</td>\n",
              "      <td>555680</td>\n",
              "      <td>578184</td>\n",
              "      <td>424539</td>\n",
              "      <td>454352</td>\n",
              "      <td>479063</td>\n",
              "      <td>596596</td>\n",
              "      <td>540688</td>\n",
              "      <td>507339</td>\n",
              "      <td>695769</td>\n",
              "      <td>665925</td>\n",
              "      <td>648848</td>\n",
              "      <td>631892</td>\n",
              "      <td>635830</td>\n",
              "      <td>516751</td>\n",
              "      <td>425707</td>\n",
              "      <td>580580</td>\n",
              "    </tr>\n",
              "  </tbody>\n",
              "</table>\n",
              "<p>1 rows × 483 columns</p>\n",
              "</div>"
            ],
            "text/plain": [
              "    Unnamed: 0  2020-01-01 00:00:00  ...  2021-04-25 00:00:00  2021-04-26 00:00:00\n",
              "0  ทางถนน (คน)              1483255  ...               425707               580580\n",
              "\n",
              "[1 rows x 483 columns]"
            ]
          },
          "metadata": {
            "tags": []
          },
          "execution_count": 22
        }
      ]
    },
    {
      "cell_type": "code",
      "metadata": {
        "colab": {
          "base_uri": "https://localhost:8080/",
          "height": 197
        },
        "id": "LNdRYLt_hxN4",
        "outputId": "7acfbeda-f625-4289-9809-1fe3190096cc"
      },
      "source": [
        "dtp.drop([0,1,2,3],inplace=True)\n",
        "dtp"
      ],
      "execution_count": null,
      "outputs": [
        {
          "output_type": "execute_result",
          "data": {
            "text/html": [
              "<div>\n",
              "<style scoped>\n",
              "    .dataframe tbody tr th:only-of-type {\n",
              "        vertical-align: middle;\n",
              "    }\n",
              "\n",
              "    .dataframe tbody tr th {\n",
              "        vertical-align: top;\n",
              "    }\n",
              "\n",
              "    .dataframe thead th {\n",
              "        text-align: right;\n",
              "    }\n",
              "</style>\n",
              "<table border=\"1\" class=\"dataframe\">\n",
              "  <thead>\n",
              "    <tr style=\"text-align: right;\">\n",
              "      <th></th>\n",
              "      <th>Unnamed: 0</th>\n",
              "      <th>2020-01-01 00:00:00</th>\n",
              "      <th>2020-01-02 00:00:00</th>\n",
              "      <th>2020-01-03 00:00:00</th>\n",
              "      <th>2020-01-04 00:00:00</th>\n",
              "      <th>2020-01-05 00:00:00</th>\n",
              "      <th>2020-01-06 00:00:00</th>\n",
              "      <th>2020-01-07 00:00:00</th>\n",
              "      <th>2020-01-08 00:00:00</th>\n",
              "      <th>2020-01-09 00:00:00</th>\n",
              "      <th>2020-01-10 00:00:00</th>\n",
              "      <th>2020-01-11 00:00:00</th>\n",
              "      <th>2020-01-12 00:00:00</th>\n",
              "      <th>2020-01-13 00:00:00</th>\n",
              "      <th>2020-01-14 00:00:00</th>\n",
              "      <th>2020-01-15 00:00:00</th>\n",
              "      <th>2020-01-16 00:00:00</th>\n",
              "      <th>2020-01-17 00:00:00</th>\n",
              "      <th>2020-01-18 00:00:00</th>\n",
              "      <th>2020-01-19 00:00:00</th>\n",
              "      <th>2020-01-20 00:00:00</th>\n",
              "      <th>2020-01-21 00:00:00</th>\n",
              "      <th>2020-01-22 00:00:00</th>\n",
              "      <th>2020-01-23 00:00:00</th>\n",
              "      <th>2020-01-24 00:00:00</th>\n",
              "      <th>2020-01-25 00:00:00</th>\n",
              "      <th>2020-01-26 00:00:00</th>\n",
              "      <th>2020-01-27 00:00:00</th>\n",
              "      <th>2020-01-28 00:00:00</th>\n",
              "      <th>2020-01-29 00:00:00</th>\n",
              "      <th>2020-01-30 00:00:00</th>\n",
              "      <th>2020-01-31 00:00:00</th>\n",
              "      <th>2020-02-01 00:00:00</th>\n",
              "      <th>2020-02-02 00:00:00</th>\n",
              "      <th>2020-02-03 00:00:00</th>\n",
              "      <th>2020-02-04 00:00:00</th>\n",
              "      <th>2020-02-05 00:00:00</th>\n",
              "      <th>2020-02-06 00:00:00</th>\n",
              "      <th>2020-02-07 00:00:00</th>\n",
              "      <th>2020-02-08 00:00:00</th>\n",
              "      <th>...</th>\n",
              "      <th>2021-03-18 00:00:00</th>\n",
              "      <th>2021-03-19 00:00:00</th>\n",
              "      <th>2021-03-20 00:00:00</th>\n",
              "      <th>2021-03-21 00:00:00</th>\n",
              "      <th>2021-03-22 00:00:00</th>\n",
              "      <th>2021-03-23 00:00:00</th>\n",
              "      <th>2021-03-24 00:00:00</th>\n",
              "      <th>2021-03-25 00:00:00</th>\n",
              "      <th>2021-03-26 00:00:00</th>\n",
              "      <th>2021-03-27 00:00:00</th>\n",
              "      <th>2021-03-28 00:00:00</th>\n",
              "      <th>2021-03-29 00:00:00</th>\n",
              "      <th>2021-03-30 00:00:00</th>\n",
              "      <th>2021-03-31 00:00:00</th>\n",
              "      <th>2021-04-01 00:00:00</th>\n",
              "      <th>2021-04-02 00:00:00</th>\n",
              "      <th>2021-04-03 00:00:00</th>\n",
              "      <th>2021-04-04 00:00:00</th>\n",
              "      <th>2021-04-05 00:00:00</th>\n",
              "      <th>2021-04-06 00:00:00</th>\n",
              "      <th>2021-04-07 00:00:00</th>\n",
              "      <th>2021-04-08 00:00:00</th>\n",
              "      <th>2021-04-09 00:00:00</th>\n",
              "      <th>2021-04-10 00:00:00</th>\n",
              "      <th>2021-04-11 00:00:00</th>\n",
              "      <th>2021-04-12 00:00:00</th>\n",
              "      <th>2021-04-13 00:00:00</th>\n",
              "      <th>2021-04-14 00:00:00</th>\n",
              "      <th>2021-04-15 00:00:00</th>\n",
              "      <th>2021-04-16 00:00:00</th>\n",
              "      <th>2021-04-17 00:00:00</th>\n",
              "      <th>2021-04-18 00:00:00</th>\n",
              "      <th>2021-04-19 00:00:00</th>\n",
              "      <th>2021-04-20 00:00:00</th>\n",
              "      <th>2021-04-21 00:00:00</th>\n",
              "      <th>2021-04-22 00:00:00</th>\n",
              "      <th>2021-04-23 00:00:00</th>\n",
              "      <th>2021-04-24 00:00:00</th>\n",
              "      <th>2021-04-25 00:00:00</th>\n",
              "      <th>2021-04-26 00:00:00</th>\n",
              "    </tr>\n",
              "  </thead>\n",
              "  <tbody>\n",
              "    <tr>\n",
              "      <th>4</th>\n",
              "      <td>รวมประชาชนเดินทาง (คน)</td>\n",
              "      <td>2743864</td>\n",
              "      <td>3370836</td>\n",
              "      <td>3520819</td>\n",
              "      <td>2975450</td>\n",
              "      <td>2835519</td>\n",
              "      <td>3606451</td>\n",
              "      <td>3601007</td>\n",
              "      <td>3568342</td>\n",
              "      <td>3586381</td>\n",
              "      <td>3739415</td>\n",
              "      <td>3052605</td>\n",
              "      <td>2845067</td>\n",
              "      <td>3538827</td>\n",
              "      <td>3557271</td>\n",
              "      <td>3583076</td>\n",
              "      <td>3540578</td>\n",
              "      <td>3719430</td>\n",
              "      <td>3080385</td>\n",
              "      <td>2828993</td>\n",
              "      <td>3613007</td>\n",
              "      <td>3586260</td>\n",
              "      <td>3534816</td>\n",
              "      <td>3553612</td>\n",
              "      <td>3571009</td>\n",
              "      <td>2999481</td>\n",
              "      <td>2787267</td>\n",
              "      <td>3489920</td>\n",
              "      <td>3506480</td>\n",
              "      <td>3458172</td>\n",
              "      <td>3458709</td>\n",
              "      <td>3663798</td>\n",
              "      <td>2809229</td>\n",
              "      <td>2744876</td>\n",
              "      <td>3511747</td>\n",
              "      <td>3514595</td>\n",
              "      <td>3541737</td>\n",
              "      <td>3479387</td>\n",
              "      <td>3704945</td>\n",
              "      <td>2870882</td>\n",
              "      <td>...</td>\n",
              "      <td>2118941</td>\n",
              "      <td>2241939</td>\n",
              "      <td>1680066</td>\n",
              "      <td>1483317</td>\n",
              "      <td>2048598</td>\n",
              "      <td>2116190</td>\n",
              "      <td>2084419</td>\n",
              "      <td>2136748</td>\n",
              "      <td>2252695</td>\n",
              "      <td>1756657</td>\n",
              "      <td>1530169</td>\n",
              "      <td>2150744</td>\n",
              "      <td>2126157</td>\n",
              "      <td>2155874</td>\n",
              "      <td>2180370</td>\n",
              "      <td>2274954</td>\n",
              "      <td>1786223</td>\n",
              "      <td>1513789</td>\n",
              "      <td>2125466</td>\n",
              "      <td>1500660</td>\n",
              "      <td>2032142</td>\n",
              "      <td>1952409</td>\n",
              "      <td>1916257</td>\n",
              "      <td>1382877</td>\n",
              "      <td>1088806</td>\n",
              "      <td>1194468</td>\n",
              "      <td>890406</td>\n",
              "      <td>897609</td>\n",
              "      <td>925295</td>\n",
              "      <td>1171059</td>\n",
              "      <td>991380</td>\n",
              "      <td>886623</td>\n",
              "      <td>1323452</td>\n",
              "      <td>1249329</td>\n",
              "      <td>1208025</td>\n",
              "      <td>1175707</td>\n",
              "      <td>1180619</td>\n",
              "      <td>869281</td>\n",
              "      <td>708446</td>\n",
              "      <td>1066591</td>\n",
              "    </tr>\n",
              "  </tbody>\n",
              "</table>\n",
              "<p>1 rows × 483 columns</p>\n",
              "</div>"
            ],
            "text/plain": [
              "               Unnamed: 0  ...  2021-04-26 00:00:00\n",
              "4  รวมประชาชนเดินทาง (คน)  ...              1066591\n",
              "\n",
              "[1 rows x 483 columns]"
            ]
          },
          "metadata": {
            "tags": []
          },
          "execution_count": 23
        }
      ]
    },
    {
      "cell_type": "code",
      "metadata": {
        "colab": {
          "base_uri": "https://localhost:8080/"
        },
        "id": "BPP-T6mxg5EN",
        "outputId": "0afee03f-c2c5-47b1-89b6-4461118e4da6"
      },
      "source": [
        "travel = dtp.iloc[:,:].sum()\n",
        "travel"
      ],
      "execution_count": null,
      "outputs": [
        {
          "output_type": "execute_result",
          "data": {
            "text/plain": [
              "Unnamed: 0             รวมประชาชนเดินทาง (คน)\n",
              "2020-01-01 00:00:00                   2743864\n",
              "2020-01-02 00:00:00                   3370836\n",
              "2020-01-03 00:00:00                   3520819\n",
              "2020-01-04 00:00:00                   2975450\n",
              "                                ...          \n",
              "2021-04-22 00:00:00                   1175707\n",
              "2021-04-23 00:00:00                   1180619\n",
              "2021-04-24 00:00:00                    869281\n",
              "2021-04-25 00:00:00                    708446\n",
              "2021-04-26 00:00:00                   1066591\n",
              "Length: 483, dtype: object"
            ]
          },
          "metadata": {
            "tags": []
          },
          "execution_count": 24
        }
      ]
    },
    {
      "cell_type": "code",
      "metadata": {
        "id": "E9tboT3mfyOX",
        "colab": {
          "base_uri": "https://localhost:8080/",
          "height": 204
        },
        "outputId": "a8fd1bfb-24b6-4f45-fe31-95ac1b4ffa3c"
      },
      "source": [
        "travel_n = pd.DataFrame(travel).reset_index()\n",
        "travel_n.head()"
      ],
      "execution_count": null,
      "outputs": [
        {
          "output_type": "execute_result",
          "data": {
            "text/html": [
              "<div>\n",
              "<style scoped>\n",
              "    .dataframe tbody tr th:only-of-type {\n",
              "        vertical-align: middle;\n",
              "    }\n",
              "\n",
              "    .dataframe tbody tr th {\n",
              "        vertical-align: top;\n",
              "    }\n",
              "\n",
              "    .dataframe thead th {\n",
              "        text-align: right;\n",
              "    }\n",
              "</style>\n",
              "<table border=\"1\" class=\"dataframe\">\n",
              "  <thead>\n",
              "    <tr style=\"text-align: right;\">\n",
              "      <th></th>\n",
              "      <th>index</th>\n",
              "      <th>0</th>\n",
              "    </tr>\n",
              "  </thead>\n",
              "  <tbody>\n",
              "    <tr>\n",
              "      <th>0</th>\n",
              "      <td>Unnamed: 0</td>\n",
              "      <td>รวมประชาชนเดินทาง (คน)</td>\n",
              "    </tr>\n",
              "    <tr>\n",
              "      <th>1</th>\n",
              "      <td>2020-01-01 00:00:00</td>\n",
              "      <td>2743864</td>\n",
              "    </tr>\n",
              "    <tr>\n",
              "      <th>2</th>\n",
              "      <td>2020-01-02 00:00:00</td>\n",
              "      <td>3370836</td>\n",
              "    </tr>\n",
              "    <tr>\n",
              "      <th>3</th>\n",
              "      <td>2020-01-03 00:00:00</td>\n",
              "      <td>3520819</td>\n",
              "    </tr>\n",
              "    <tr>\n",
              "      <th>4</th>\n",
              "      <td>2020-01-04 00:00:00</td>\n",
              "      <td>2975450</td>\n",
              "    </tr>\n",
              "  </tbody>\n",
              "</table>\n",
              "</div>"
            ],
            "text/plain": [
              "                 index                       0\n",
              "0           Unnamed: 0  รวมประชาชนเดินทาง (คน)\n",
              "1  2020-01-01 00:00:00                 2743864\n",
              "2  2020-01-02 00:00:00                 3370836\n",
              "3  2020-01-03 00:00:00                 3520819\n",
              "4  2020-01-04 00:00:00                 2975450"
            ]
          },
          "metadata": {
            "tags": []
          },
          "execution_count": 25
        }
      ]
    },
    {
      "cell_type": "code",
      "metadata": {
        "id": "8gUcP2Jwf92v"
      },
      "source": [
        "travel_n.drop(index=0,inplace=True)"
      ],
      "execution_count": null,
      "outputs": []
    },
    {
      "cell_type": "code",
      "metadata": {
        "id": "C1cfYV3Rf-ng"
      },
      "source": [
        "travel_n.rename(columns={'index':'announce_date',0:'Total'},inplace=True)"
      ],
      "execution_count": null,
      "outputs": []
    },
    {
      "cell_type": "code",
      "metadata": {
        "id": "byi7CbWtgQv4",
        "colab": {
          "base_uri": "https://localhost:8080/",
          "height": 419
        },
        "outputId": "eadae7ac-ae37-49e0-be69-19b48767cd93"
      },
      "source": [
        "travel_n['announce_date'] = pd.to_datetime(travel_n['announce_date'],format='%d/%m/%Y')\n",
        "travel_n"
      ],
      "execution_count": null,
      "outputs": [
        {
          "output_type": "execute_result",
          "data": {
            "text/html": [
              "<div>\n",
              "<style scoped>\n",
              "    .dataframe tbody tr th:only-of-type {\n",
              "        vertical-align: middle;\n",
              "    }\n",
              "\n",
              "    .dataframe tbody tr th {\n",
              "        vertical-align: top;\n",
              "    }\n",
              "\n",
              "    .dataframe thead th {\n",
              "        text-align: right;\n",
              "    }\n",
              "</style>\n",
              "<table border=\"1\" class=\"dataframe\">\n",
              "  <thead>\n",
              "    <tr style=\"text-align: right;\">\n",
              "      <th></th>\n",
              "      <th>announce_date</th>\n",
              "      <th>Num_travel</th>\n",
              "    </tr>\n",
              "  </thead>\n",
              "  <tbody>\n",
              "    <tr>\n",
              "      <th>1</th>\n",
              "      <td>2020-01-01</td>\n",
              "      <td>2743864</td>\n",
              "    </tr>\n",
              "    <tr>\n",
              "      <th>2</th>\n",
              "      <td>2020-01-02</td>\n",
              "      <td>3370836</td>\n",
              "    </tr>\n",
              "    <tr>\n",
              "      <th>3</th>\n",
              "      <td>2020-01-03</td>\n",
              "      <td>3520819</td>\n",
              "    </tr>\n",
              "    <tr>\n",
              "      <th>4</th>\n",
              "      <td>2020-01-04</td>\n",
              "      <td>2975450</td>\n",
              "    </tr>\n",
              "    <tr>\n",
              "      <th>5</th>\n",
              "      <td>2020-01-05</td>\n",
              "      <td>2835519</td>\n",
              "    </tr>\n",
              "    <tr>\n",
              "      <th>...</th>\n",
              "      <td>...</td>\n",
              "      <td>...</td>\n",
              "    </tr>\n",
              "    <tr>\n",
              "      <th>478</th>\n",
              "      <td>2021-04-22</td>\n",
              "      <td>1175707</td>\n",
              "    </tr>\n",
              "    <tr>\n",
              "      <th>479</th>\n",
              "      <td>2021-04-23</td>\n",
              "      <td>1180619</td>\n",
              "    </tr>\n",
              "    <tr>\n",
              "      <th>480</th>\n",
              "      <td>2021-04-24</td>\n",
              "      <td>869281</td>\n",
              "    </tr>\n",
              "    <tr>\n",
              "      <th>481</th>\n",
              "      <td>2021-04-25</td>\n",
              "      <td>708446</td>\n",
              "    </tr>\n",
              "    <tr>\n",
              "      <th>482</th>\n",
              "      <td>2021-04-26</td>\n",
              "      <td>1066591</td>\n",
              "    </tr>\n",
              "  </tbody>\n",
              "</table>\n",
              "<p>482 rows × 2 columns</p>\n",
              "</div>"
            ],
            "text/plain": [
              "    announce_date Num_travel\n",
              "1      2020-01-01    2743864\n",
              "2      2020-01-02    3370836\n",
              "3      2020-01-03    3520819\n",
              "4      2020-01-04    2975450\n",
              "5      2020-01-05    2835519\n",
              "..            ...        ...\n",
              "478    2021-04-22    1175707\n",
              "479    2021-04-23    1180619\n",
              "480    2021-04-24     869281\n",
              "481    2021-04-25     708446\n",
              "482    2021-04-26    1066591\n",
              "\n",
              "[482 rows x 2 columns]"
            ]
          },
          "metadata": {
            "tags": []
          },
          "execution_count": 33
        }
      ]
    },
    {
      "cell_type": "code",
      "metadata": {
        "colab": {
          "base_uri": "https://localhost:8080/",
          "height": 419
        },
        "id": "-qfn312JhV9O",
        "outputId": "115ffccc-e317-4711-f91c-27e86fe48f96"
      },
      "source": [
        "covid_M = pd.DataFrame(covid1).reset_index()\n",
        "covid_M.rename(columns={'index':'announce_date','No.':'count_p'},inplace=True)\n",
        "covid_M"
      ],
      "execution_count": null,
      "outputs": [
        {
          "output_type": "execute_result",
          "data": {
            "text/html": [
              "<div>\n",
              "<style scoped>\n",
              "    .dataframe tbody tr th:only-of-type {\n",
              "        vertical-align: middle;\n",
              "    }\n",
              "\n",
              "    .dataframe tbody tr th {\n",
              "        vertical-align: top;\n",
              "    }\n",
              "\n",
              "    .dataframe thead th {\n",
              "        text-align: right;\n",
              "    }\n",
              "</style>\n",
              "<table border=\"1\" class=\"dataframe\">\n",
              "  <thead>\n",
              "    <tr style=\"text-align: right;\">\n",
              "      <th></th>\n",
              "      <th>announce_date</th>\n",
              "      <th>count_p</th>\n",
              "    </tr>\n",
              "  </thead>\n",
              "  <tbody>\n",
              "    <tr>\n",
              "      <th>0</th>\n",
              "      <td>2020-01-12</td>\n",
              "      <td>1</td>\n",
              "    </tr>\n",
              "    <tr>\n",
              "      <th>1</th>\n",
              "      <td>2020-01-17</td>\n",
              "      <td>1</td>\n",
              "    </tr>\n",
              "    <tr>\n",
              "      <th>2</th>\n",
              "      <td>2020-01-22</td>\n",
              "      <td>2</td>\n",
              "    </tr>\n",
              "    <tr>\n",
              "      <th>3</th>\n",
              "      <td>2020-01-24</td>\n",
              "      <td>1</td>\n",
              "    </tr>\n",
              "    <tr>\n",
              "      <th>4</th>\n",
              "      <td>2020-01-25</td>\n",
              "      <td>1</td>\n",
              "    </tr>\n",
              "    <tr>\n",
              "      <th>...</th>\n",
              "      <td>...</td>\n",
              "      <td>...</td>\n",
              "    </tr>\n",
              "    <tr>\n",
              "      <th>410</th>\n",
              "      <td>2021-04-22</td>\n",
              "      <td>1470</td>\n",
              "    </tr>\n",
              "    <tr>\n",
              "      <th>411</th>\n",
              "      <td>2021-04-23</td>\n",
              "      <td>2070</td>\n",
              "    </tr>\n",
              "    <tr>\n",
              "      <th>412</th>\n",
              "      <td>2021-04-24</td>\n",
              "      <td>2839</td>\n",
              "    </tr>\n",
              "    <tr>\n",
              "      <th>413</th>\n",
              "      <td>2021-04-25</td>\n",
              "      <td>2438</td>\n",
              "    </tr>\n",
              "    <tr>\n",
              "      <th>414</th>\n",
              "      <td>2021-04-26</td>\n",
              "      <td>2048</td>\n",
              "    </tr>\n",
              "  </tbody>\n",
              "</table>\n",
              "<p>415 rows × 2 columns</p>\n",
              "</div>"
            ],
            "text/plain": [
              "    announce_date  count_p\n",
              "0      2020-01-12        1\n",
              "1      2020-01-17        1\n",
              "2      2020-01-22        2\n",
              "3      2020-01-24        1\n",
              "4      2020-01-25        1\n",
              "..            ...      ...\n",
              "410    2021-04-22     1470\n",
              "411    2021-04-23     2070\n",
              "412    2021-04-24     2839\n",
              "413    2021-04-25     2438\n",
              "414    2021-04-26     2048\n",
              "\n",
              "[415 rows x 2 columns]"
            ]
          },
          "metadata": {
            "tags": []
          },
          "execution_count": 34
        }
      ]
    },
    {
      "cell_type": "code",
      "metadata": {
        "colab": {
          "base_uri": "https://localhost:8080/",
          "height": 419
        },
        "id": "3LhPCwy-hb9v",
        "outputId": "0135bb81-49c7-4fe6-9e8d-e6e5efb926c6"
      },
      "source": [
        "covid_M['month'] = covid_M['announce_date'].dt.month\n",
        "covid_M"
      ],
      "execution_count": null,
      "outputs": [
        {
          "output_type": "execute_result",
          "data": {
            "text/html": [
              "<div>\n",
              "<style scoped>\n",
              "    .dataframe tbody tr th:only-of-type {\n",
              "        vertical-align: middle;\n",
              "    }\n",
              "\n",
              "    .dataframe tbody tr th {\n",
              "        vertical-align: top;\n",
              "    }\n",
              "\n",
              "    .dataframe thead th {\n",
              "        text-align: right;\n",
              "    }\n",
              "</style>\n",
              "<table border=\"1\" class=\"dataframe\">\n",
              "  <thead>\n",
              "    <tr style=\"text-align: right;\">\n",
              "      <th></th>\n",
              "      <th>announce_date</th>\n",
              "      <th>count_p</th>\n",
              "      <th>month</th>\n",
              "    </tr>\n",
              "  </thead>\n",
              "  <tbody>\n",
              "    <tr>\n",
              "      <th>0</th>\n",
              "      <td>2020-01-12</td>\n",
              "      <td>1</td>\n",
              "      <td>1</td>\n",
              "    </tr>\n",
              "    <tr>\n",
              "      <th>1</th>\n",
              "      <td>2020-01-17</td>\n",
              "      <td>1</td>\n",
              "      <td>1</td>\n",
              "    </tr>\n",
              "    <tr>\n",
              "      <th>2</th>\n",
              "      <td>2020-01-22</td>\n",
              "      <td>2</td>\n",
              "      <td>1</td>\n",
              "    </tr>\n",
              "    <tr>\n",
              "      <th>3</th>\n",
              "      <td>2020-01-24</td>\n",
              "      <td>1</td>\n",
              "      <td>1</td>\n",
              "    </tr>\n",
              "    <tr>\n",
              "      <th>4</th>\n",
              "      <td>2020-01-25</td>\n",
              "      <td>1</td>\n",
              "      <td>1</td>\n",
              "    </tr>\n",
              "    <tr>\n",
              "      <th>...</th>\n",
              "      <td>...</td>\n",
              "      <td>...</td>\n",
              "      <td>...</td>\n",
              "    </tr>\n",
              "    <tr>\n",
              "      <th>410</th>\n",
              "      <td>2021-04-22</td>\n",
              "      <td>1470</td>\n",
              "      <td>4</td>\n",
              "    </tr>\n",
              "    <tr>\n",
              "      <th>411</th>\n",
              "      <td>2021-04-23</td>\n",
              "      <td>2070</td>\n",
              "      <td>4</td>\n",
              "    </tr>\n",
              "    <tr>\n",
              "      <th>412</th>\n",
              "      <td>2021-04-24</td>\n",
              "      <td>2839</td>\n",
              "      <td>4</td>\n",
              "    </tr>\n",
              "    <tr>\n",
              "      <th>413</th>\n",
              "      <td>2021-04-25</td>\n",
              "      <td>2438</td>\n",
              "      <td>4</td>\n",
              "    </tr>\n",
              "    <tr>\n",
              "      <th>414</th>\n",
              "      <td>2021-04-26</td>\n",
              "      <td>2048</td>\n",
              "      <td>4</td>\n",
              "    </tr>\n",
              "  </tbody>\n",
              "</table>\n",
              "<p>415 rows × 3 columns</p>\n",
              "</div>"
            ],
            "text/plain": [
              "    announce_date  count_p  month\n",
              "0      2020-01-12        1      1\n",
              "1      2020-01-17        1      1\n",
              "2      2020-01-22        2      1\n",
              "3      2020-01-24        1      1\n",
              "4      2020-01-25        1      1\n",
              "..            ...      ...    ...\n",
              "410    2021-04-22     1470      4\n",
              "411    2021-04-23     2070      4\n",
              "412    2021-04-24     2839      4\n",
              "413    2021-04-25     2438      4\n",
              "414    2021-04-26     2048      4\n",
              "\n",
              "[415 rows x 3 columns]"
            ]
          },
          "metadata": {
            "tags": []
          },
          "execution_count": 36
        }
      ]
    },
    {
      "cell_type": "code",
      "metadata": {
        "id": "3Xfyl0lHh6GE",
        "colab": {
          "base_uri": "https://localhost:8080/",
          "height": 419
        },
        "outputId": "55532946-f79d-4eb4-bb36-8660f955167f"
      },
      "source": [
        "cm = covid_M[covid_M['announce_date'] <= datetime(year=2020,month=12,day=31)]\n",
        "cm"
      ],
      "execution_count": null,
      "outputs": [
        {
          "output_type": "execute_result",
          "data": {
            "text/html": [
              "<div>\n",
              "<style scoped>\n",
              "    .dataframe tbody tr th:only-of-type {\n",
              "        vertical-align: middle;\n",
              "    }\n",
              "\n",
              "    .dataframe tbody tr th {\n",
              "        vertical-align: top;\n",
              "    }\n",
              "\n",
              "    .dataframe thead th {\n",
              "        text-align: right;\n",
              "    }\n",
              "</style>\n",
              "<table border=\"1\" class=\"dataframe\">\n",
              "  <thead>\n",
              "    <tr style=\"text-align: right;\">\n",
              "      <th></th>\n",
              "      <th>announce_date</th>\n",
              "      <th>count_p</th>\n",
              "      <th>month</th>\n",
              "    </tr>\n",
              "  </thead>\n",
              "  <tbody>\n",
              "    <tr>\n",
              "      <th>0</th>\n",
              "      <td>2020-01-12</td>\n",
              "      <td>1</td>\n",
              "      <td>1</td>\n",
              "    </tr>\n",
              "    <tr>\n",
              "      <th>1</th>\n",
              "      <td>2020-01-17</td>\n",
              "      <td>1</td>\n",
              "      <td>1</td>\n",
              "    </tr>\n",
              "    <tr>\n",
              "      <th>2</th>\n",
              "      <td>2020-01-22</td>\n",
              "      <td>2</td>\n",
              "      <td>1</td>\n",
              "    </tr>\n",
              "    <tr>\n",
              "      <th>3</th>\n",
              "      <td>2020-01-24</td>\n",
              "      <td>1</td>\n",
              "      <td>1</td>\n",
              "    </tr>\n",
              "    <tr>\n",
              "      <th>4</th>\n",
              "      <td>2020-01-25</td>\n",
              "      <td>1</td>\n",
              "      <td>1</td>\n",
              "    </tr>\n",
              "    <tr>\n",
              "      <th>...</th>\n",
              "      <td>...</td>\n",
              "      <td>...</td>\n",
              "      <td>...</td>\n",
              "    </tr>\n",
              "    <tr>\n",
              "      <th>294</th>\n",
              "      <td>2020-12-27</td>\n",
              "      <td>121</td>\n",
              "      <td>12</td>\n",
              "    </tr>\n",
              "    <tr>\n",
              "      <th>295</th>\n",
              "      <td>2020-12-28</td>\n",
              "      <td>144</td>\n",
              "      <td>12</td>\n",
              "    </tr>\n",
              "    <tr>\n",
              "      <th>296</th>\n",
              "      <td>2020-12-29</td>\n",
              "      <td>155</td>\n",
              "      <td>12</td>\n",
              "    </tr>\n",
              "    <tr>\n",
              "      <th>297</th>\n",
              "      <td>2020-12-30</td>\n",
              "      <td>250</td>\n",
              "      <td>12</td>\n",
              "    </tr>\n",
              "    <tr>\n",
              "      <th>298</th>\n",
              "      <td>2020-12-31</td>\n",
              "      <td>194</td>\n",
              "      <td>12</td>\n",
              "    </tr>\n",
              "  </tbody>\n",
              "</table>\n",
              "<p>299 rows × 3 columns</p>\n",
              "</div>"
            ],
            "text/plain": [
              "    announce_date  count_p  month\n",
              "0      2020-01-12        1      1\n",
              "1      2020-01-17        1      1\n",
              "2      2020-01-22        2      1\n",
              "3      2020-01-24        1      1\n",
              "4      2020-01-25        1      1\n",
              "..            ...      ...    ...\n",
              "294    2020-12-27      121     12\n",
              "295    2020-12-28      144     12\n",
              "296    2020-12-29      155     12\n",
              "297    2020-12-30      250     12\n",
              "298    2020-12-31      194     12\n",
              "\n",
              "[299 rows x 3 columns]"
            ]
          },
          "metadata": {
            "tags": []
          },
          "execution_count": 40
        }
      ]
    },
    {
      "cell_type": "code",
      "metadata": {
        "id": "VmfF2BTCadHV",
        "colab": {
          "base_uri": "https://localhost:8080/"
        },
        "outputId": "048f448a-fb3b-4c6c-b6d1-815fecf32393"
      },
      "source": [
        "cm.groupby('month')['count_p'].sum()"
      ],
      "execution_count": null,
      "outputs": [
        {
          "output_type": "execute_result",
          "data": {
            "text/plain": [
              "month\n",
              "1       19\n",
              "2       23\n",
              "3     1609\n",
              "4     1303\n",
              "5      127\n",
              "6       90\n",
              "7      139\n",
              "8      102\n",
              "9      152\n",
              "10     216\n",
              "11     218\n",
              "12    2886\n",
              "Name: count_p, dtype: int64"
            ]
          },
          "metadata": {
            "tags": []
          },
          "execution_count": 41
        }
      ]
    },
    {
      "cell_type": "markdown",
      "metadata": {
        "id": "piJ_gaZ1mhQK"
      },
      "source": [
        "#รวมตาราง"
      ]
    },
    {
      "cell_type": "code",
      "metadata": {
        "colab": {
          "base_uri": "https://localhost:8080/",
          "height": 419
        },
        "id": "qSK8NPV0bLIR",
        "outputId": "6361c8f3-dc97-48ac-ca6f-667b10eef763"
      },
      "source": [
        "travel_n['Num_Travel'] = travel_n['announce_date'].map(covid_M.set_index('announce_date')['count_p'])\n",
        "travel_n['month'] = travel_n['announce_date'].dt.month\n",
        "travel_n"
      ],
      "execution_count": null,
      "outputs": [
        {
          "output_type": "execute_result",
          "data": {
            "text/html": [
              "<div>\n",
              "<style scoped>\n",
              "    .dataframe tbody tr th:only-of-type {\n",
              "        vertical-align: middle;\n",
              "    }\n",
              "\n",
              "    .dataframe tbody tr th {\n",
              "        vertical-align: top;\n",
              "    }\n",
              "\n",
              "    .dataframe thead th {\n",
              "        text-align: right;\n",
              "    }\n",
              "</style>\n",
              "<table border=\"1\" class=\"dataframe\">\n",
              "  <thead>\n",
              "    <tr style=\"text-align: right;\">\n",
              "      <th></th>\n",
              "      <th>announce_date</th>\n",
              "      <th>Num_travel</th>\n",
              "      <th>Num_Travel</th>\n",
              "      <th>month</th>\n",
              "    </tr>\n",
              "  </thead>\n",
              "  <tbody>\n",
              "    <tr>\n",
              "      <th>1</th>\n",
              "      <td>2020-01-01</td>\n",
              "      <td>2743864</td>\n",
              "      <td>NaN</td>\n",
              "      <td>1</td>\n",
              "    </tr>\n",
              "    <tr>\n",
              "      <th>2</th>\n",
              "      <td>2020-01-02</td>\n",
              "      <td>3370836</td>\n",
              "      <td>NaN</td>\n",
              "      <td>1</td>\n",
              "    </tr>\n",
              "    <tr>\n",
              "      <th>3</th>\n",
              "      <td>2020-01-03</td>\n",
              "      <td>3520819</td>\n",
              "      <td>NaN</td>\n",
              "      <td>1</td>\n",
              "    </tr>\n",
              "    <tr>\n",
              "      <th>4</th>\n",
              "      <td>2020-01-04</td>\n",
              "      <td>2975450</td>\n",
              "      <td>NaN</td>\n",
              "      <td>1</td>\n",
              "    </tr>\n",
              "    <tr>\n",
              "      <th>5</th>\n",
              "      <td>2020-01-05</td>\n",
              "      <td>2835519</td>\n",
              "      <td>NaN</td>\n",
              "      <td>1</td>\n",
              "    </tr>\n",
              "    <tr>\n",
              "      <th>...</th>\n",
              "      <td>...</td>\n",
              "      <td>...</td>\n",
              "      <td>...</td>\n",
              "      <td>...</td>\n",
              "    </tr>\n",
              "    <tr>\n",
              "      <th>478</th>\n",
              "      <td>2021-04-22</td>\n",
              "      <td>1175707</td>\n",
              "      <td>1470.0</td>\n",
              "      <td>4</td>\n",
              "    </tr>\n",
              "    <tr>\n",
              "      <th>479</th>\n",
              "      <td>2021-04-23</td>\n",
              "      <td>1180619</td>\n",
              "      <td>2070.0</td>\n",
              "      <td>4</td>\n",
              "    </tr>\n",
              "    <tr>\n",
              "      <th>480</th>\n",
              "      <td>2021-04-24</td>\n",
              "      <td>869281</td>\n",
              "      <td>2839.0</td>\n",
              "      <td>4</td>\n",
              "    </tr>\n",
              "    <tr>\n",
              "      <th>481</th>\n",
              "      <td>2021-04-25</td>\n",
              "      <td>708446</td>\n",
              "      <td>2438.0</td>\n",
              "      <td>4</td>\n",
              "    </tr>\n",
              "    <tr>\n",
              "      <th>482</th>\n",
              "      <td>2021-04-26</td>\n",
              "      <td>1066591</td>\n",
              "      <td>2048.0</td>\n",
              "      <td>4</td>\n",
              "    </tr>\n",
              "  </tbody>\n",
              "</table>\n",
              "<p>482 rows × 4 columns</p>\n",
              "</div>"
            ],
            "text/plain": [
              "    announce_date Num_travel  Num_Travel  month\n",
              "1      2020-01-01    2743864         NaN      1\n",
              "2      2020-01-02    3370836         NaN      1\n",
              "3      2020-01-03    3520819         NaN      1\n",
              "4      2020-01-04    2975450         NaN      1\n",
              "5      2020-01-05    2835519         NaN      1\n",
              "..            ...        ...         ...    ...\n",
              "478    2021-04-22    1175707      1470.0      4\n",
              "479    2021-04-23    1180619      2070.0      4\n",
              "480    2021-04-24     869281      2839.0      4\n",
              "481    2021-04-25     708446      2438.0      4\n",
              "482    2021-04-26    1066591      2048.0      4\n",
              "\n",
              "[482 rows x 4 columns]"
            ]
          },
          "metadata": {
            "tags": []
          },
          "execution_count": 43
        }
      ]
    },
    {
      "cell_type": "code",
      "metadata": {
        "colab": {
          "base_uri": "https://localhost:8080/"
        },
        "id": "nORRcZPNyJVo",
        "outputId": "b0154e0c-b4f9-4b1b-9fb9-c3327bdaae9a"
      },
      "source": [
        "cv20 = travel_n[travel_n['announce_date'] <= datetime(year=2020,month=12,day=31)]\n",
        "cv20.groupby('month')['Num_Travel'].sum()"
      ],
      "execution_count": null,
      "outputs": [
        {
          "output_type": "execute_result",
          "data": {
            "text/plain": [
              "month\n",
              "1       19.0\n",
              "2       23.0\n",
              "3     1609.0\n",
              "4     1303.0\n",
              "5      127.0\n",
              "6       90.0\n",
              "7      139.0\n",
              "8      102.0\n",
              "9      152.0\n",
              "10     216.0\n",
              "11     218.0\n",
              "12    2886.0\n",
              "Name: Num_Travel, dtype: float64"
            ]
          },
          "metadata": {
            "tags": []
          },
          "execution_count": 45
        }
      ]
    },
    {
      "cell_type": "code",
      "metadata": {
        "id": "vhiJ-UfPySJD"
      },
      "source": [
        "almost1 = pd.DataFrame(cv20.groupby('month')['Num_travel'].sum()).reset_index()"
      ],
      "execution_count": null,
      "outputs": []
    },
    {
      "cell_type": "code",
      "metadata": {
        "id": "qLltAIHZVRlV"
      },
      "source": [
        "almost2 = pd.DataFrame(cv20.groupby('month')['Num_Travel'].sum()).reset_index()"
      ],
      "execution_count": null,
      "outputs": []
    },
    {
      "cell_type": "code",
      "metadata": {
        "id": "cmYvc4CShZOr"
      },
      "source": [
        "almost1['Num_Travel'] = almost1['month'].map(almost2.set_index('month')['Num_Travel'])"
      ],
      "execution_count": null,
      "outputs": []
    },
    {
      "cell_type": "code",
      "metadata": {
        "id": "i_82cYodv4pE"
      },
      "source": [
        "almost3 = almost1"
      ],
      "execution_count": null,
      "outputs": []
    },
    {
      "cell_type": "code",
      "metadata": {
        "id": "oG4tBRmWyuO-"
      },
      "source": [
        "almost3['Num_travel'] = almost1['Num_travel']/10000"
      ],
      "execution_count": null,
      "outputs": []
    },
    {
      "cell_type": "code",
      "metadata": {
        "colab": {
          "base_uri": "https://localhost:8080/",
          "height": 421
        },
        "id": "2PsBsWlnyvU4",
        "outputId": "abf48ed8-e8b5-4168-ff4e-378727108fa3"
      },
      "source": [
        "almost3"
      ],
      "execution_count": null,
      "outputs": [
        {
          "output_type": "execute_result",
          "data": {
            "text/html": [
              "<div>\n",
              "<style scoped>\n",
              "    .dataframe tbody tr th:only-of-type {\n",
              "        vertical-align: middle;\n",
              "    }\n",
              "\n",
              "    .dataframe tbody tr th {\n",
              "        vertical-align: top;\n",
              "    }\n",
              "\n",
              "    .dataframe thead th {\n",
              "        text-align: right;\n",
              "    }\n",
              "</style>\n",
              "<table border=\"1\" class=\"dataframe\">\n",
              "  <thead>\n",
              "    <tr style=\"text-align: right;\">\n",
              "      <th></th>\n",
              "      <th>month</th>\n",
              "      <th>Num_travel</th>\n",
              "      <th>Num_Travel</th>\n",
              "    </tr>\n",
              "  </thead>\n",
              "  <tbody>\n",
              "    <tr>\n",
              "      <th>0</th>\n",
              "      <td>1</td>\n",
              "      <td>0.000105</td>\n",
              "      <td>19.0</td>\n",
              "    </tr>\n",
              "    <tr>\n",
              "      <th>1</th>\n",
              "      <td>2</td>\n",
              "      <td>0.000093</td>\n",
              "      <td>23.0</td>\n",
              "    </tr>\n",
              "    <tr>\n",
              "      <th>2</th>\n",
              "      <td>3</td>\n",
              "      <td>0.000062</td>\n",
              "      <td>1609.0</td>\n",
              "    </tr>\n",
              "    <tr>\n",
              "      <th>3</th>\n",
              "      <td>4</td>\n",
              "      <td>0.000023</td>\n",
              "      <td>1303.0</td>\n",
              "    </tr>\n",
              "    <tr>\n",
              "      <th>4</th>\n",
              "      <td>5</td>\n",
              "      <td>0.000033</td>\n",
              "      <td>127.0</td>\n",
              "    </tr>\n",
              "    <tr>\n",
              "      <th>5</th>\n",
              "      <td>6</td>\n",
              "      <td>0.000048</td>\n",
              "      <td>90.0</td>\n",
              "    </tr>\n",
              "    <tr>\n",
              "      <th>6</th>\n",
              "      <td>7</td>\n",
              "      <td>0.000062</td>\n",
              "      <td>139.0</td>\n",
              "    </tr>\n",
              "    <tr>\n",
              "      <th>7</th>\n",
              "      <td>8</td>\n",
              "      <td>0.000067</td>\n",
              "      <td>102.0</td>\n",
              "    </tr>\n",
              "    <tr>\n",
              "      <th>8</th>\n",
              "      <td>9</td>\n",
              "      <td>0.000068</td>\n",
              "      <td>152.0</td>\n",
              "    </tr>\n",
              "    <tr>\n",
              "      <th>9</th>\n",
              "      <td>10</td>\n",
              "      <td>0.000068</td>\n",
              "      <td>216.0</td>\n",
              "    </tr>\n",
              "    <tr>\n",
              "      <th>10</th>\n",
              "      <td>11</td>\n",
              "      <td>0.000069</td>\n",
              "      <td>218.0</td>\n",
              "    </tr>\n",
              "    <tr>\n",
              "      <th>11</th>\n",
              "      <td>12</td>\n",
              "      <td>0.000065</td>\n",
              "      <td>2886.0</td>\n",
              "    </tr>\n",
              "  </tbody>\n",
              "</table>\n",
              "</div>"
            ],
            "text/plain": [
              "    month  Num_travel  Num_Travel\n",
              "0       1    0.000105        19.0\n",
              "1       2    0.000093        23.0\n",
              "2       3    0.000062      1609.0\n",
              "3       4    0.000023      1303.0\n",
              "4       5    0.000033       127.0\n",
              "5       6    0.000048        90.0\n",
              "6       7    0.000062       139.0\n",
              "7       8    0.000067       102.0\n",
              "8       9    0.000068       152.0\n",
              "9      10    0.000068       216.0\n",
              "10     11    0.000069       218.0\n",
              "11     12    0.000065      2886.0"
            ]
          },
          "metadata": {
            "tags": []
          },
          "execution_count": 68
        }
      ]
    },
    {
      "cell_type": "markdown",
      "metadata": {
        "id": "PP7m3AyCpPEd"
      },
      "source": [
        "#กราฟข้อที่  1"
      ]
    },
    {
      "cell_type": "code",
      "metadata": {
        "id": "zBxhwBpBpcL8"
      },
      "source": [
        "width = 0.35"
      ],
      "execution_count": null,
      "outputs": []
    },
    {
      "cell_type": "code",
      "metadata": {
        "id": "v1IBZUONzbTe"
      },
      "source": [
        "x = np.arange(len(almost1['month'])) "
      ],
      "execution_count": null,
      "outputs": []
    },
    {
      "cell_type": "code",
      "metadata": {
        "colab": {
          "base_uri": "https://localhost:8080/",
          "height": 284
        },
        "id": "H3Jws14T1kf7",
        "outputId": "9f2b1512-6a93-4b0a-e3af-c0287dd66b5e"
      },
      "source": [
        "plt.bar(almost3['month'],almost3['Num_travel'],label = 'Num_travel',color = 'red',)\n",
        "plt.bar(almost3['month'],almost3['Num_Travel'],label = 'Num_Travel',color = 'black',bottom=almost3['Num_travel'])"
      ],
      "execution_count": null,
      "outputs": [
        {
          "output_type": "execute_result",
          "data": {
            "text/plain": [
              "<BarContainer object of 12 artists>"
            ]
          },
          "metadata": {
            "tags": []
          },
          "execution_count": 72
        },
        {
          "output_type": "display_data",
          "data": {
            "image/png": "[encoded data removed]",
            "text/plain": [
              "<Figure size 432x288 with 1 Axes>"
            ]
          },
          "metadata": {
            "tags": [],
            "needs_background": "light"
          }
        }
      ]
    },
    {
      "cell_type": "code",
      "metadata": {
        "id": "IDlKjMBonMTX"
      },
      "source": [
        "travel_n.to_csv('คนเดินทาง.csv',index=False)"
      ],
      "execution_count": null,
      "outputs": []
    },
    {
      "cell_type": "code",
      "metadata": {
        "id": "4IpcS9Bnrrca"
      },
      "source": [
        "dtc.to_csv('คนป่วย.csv',index=False)"
      ],
      "execution_count": null,
      "outputs": []
    },
    {
      "cell_type": "code",
      "metadata": {
        "id": "OhEDGA-BzdfK"
      },
      "source": [
        "dtp.to_csv('move.csv',index=False)"
      ],
      "execution_count": null,
      "outputs": []
    },
    {
      "cell_type": "code",
      "metadata": {
        "id": "CB7DzwH7zitp"
      },
      "source": [
        ""
      ],
      "execution_count": null,
      "outputs": []
    }
  ]
}