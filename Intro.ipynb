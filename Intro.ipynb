{
  "nbformat": 4,
  "nbformat_minor": 0,
  "metadata": {
    "colab": {
      "name": "Intro.ipynb",
      "provenance": [],
      "authorship_tag": "ABX9TyMPe1a8HDUtNpZsvtTjcpJi",
      "include_colab_link": true
    },
    "kernelspec": {
      "name": "python3",
      "display_name": "Python 3"
    }
  },
  "cells": [
    {
      "cell_type": "markdown",
      "metadata": {
        "id": "view-in-github",
        "colab_type": "text"
      },
      "source": [
        "<a href=\"https://colab.research.google.com/github/therealzh/Data_viz/blob/main/Intro.ipynb\" target=\"_parent\"><img src=\"https://colab.research.google.com/assets/colab-badge.svg\" alt=\"Open In Colab\"/></a>"
      ]
    },
    {
      "cell_type": "markdown",
      "metadata": {
        "id": "Ir5T7wi0MeKk"
      },
      "source": [
        "ยุวลักษณ์ ดวงมะลา 613020196-2"
      ]
    },
    {
      "cell_type": "markdown",
      "metadata": {
        "id": "y_OcemT3NKwg"
      },
      "source": [
        "ภาษา Mark down\r\n",
        "#Zhou-Zhan\r\n",
        "จะทำให้ข้อความใหญ่ขึ้น หรือเป็น Heading\r\n",
        "\r\n",
        "##Zhou-Zhan\r\n",
        "ข้อความจะตัวเล็กลง แต่ไม่เล็กเท่าข้อความปกติ\r\n",
        "\r\n",
        "~Zhou-Zhan~\r\n",
        "ใช้เพื่อขีดทับข้อความ"
      ]
    },
    {
      "cell_type": "code",
      "metadata": {
        "colab": {
          "base_uri": "https://localhost:8080/"
        },
        "id": "uk2yJMFVOnyU",
        "outputId": "35585643-a8c6-4359-c31f-2a563906d292"
      },
      "source": [
        "print('Zhou-Zhan')"
      ],
      "execution_count": 1,
      "outputs": [
        {
          "output_type": "stream",
          "text": [
            "Zhou-Zhan\n"
          ],
          "name": "stdout"
        }
      ]
    }
  ]
}