{
  "nbformat": 4,
  "nbformat_minor": 0,
  "metadata": {
    "colab": {
      "name": "Fuction_Loop_Condition.ipynb",
      "provenance": [],
      "authorship_tag": "ABX9TyMEYoUGUcHzx1qRUrCJhVpu",
      "include_colab_link": true
    },
    "kernelspec": {
      "name": "python3",
      "display_name": "Python 3"
    }
  },
  "cells": [
    {
      "cell_type": "markdown",
      "metadata": {
        "id": "view-in-github",
        "colab_type": "text"
      },
      "source": [
        "<a href=\"https://colab.research.google.com/github/therealzh/Data_viz/blob/main/Fuction_Loop_Condition.ipynb\" target=\"_parent\"><img src=\"https://colab.research.google.com/assets/colab-badge.svg\" alt=\"Open In Colab\"/></a>"
      ]
    },
    {
      "cell_type": "code",
      "metadata": {
        "colab": {
          "base_uri": "https://localhost:8080/"
        },
        "id": "Jhwo31uxf0zs",
        "outputId": "56bf550b-5914-45a6-b5f6-108531d9a456"
      },
      "source": [
        "name = 'zhou zhan'\r\n",
        "surname = 'Suh'\r\n",
        "ID = '613020196-2'\r\n",
        "\r\n",
        "b = (f'ชื่อ {name} นามสกุล {surname} ID {ID}')\r\n",
        "print (b)"
      ],
      "execution_count": 7,
      "outputs": [
        {
          "output_type": "stream",
          "text": [
            "ชื่อ zhou zhan นามสกุล Suh ID 613020196-2\n"
          ],
          "name": "stdout"
        }
      ]
    },
    {
      "cell_type": "markdown",
      "metadata": {
        "id": "NMPM9JSqguxx"
      },
      "source": [
        "###Function\r\n",
        "ทำหน้าทีรับ input มาประมวณผลออกเป็น output\r\n",
        "f(x) = y"
      ]
    },
    {
      "cell_type": "markdown",
      "metadata": {
        "id": "ZXUMvRy0hGug"
      },
      "source": [
        "##Def คือการกำหนดฟังก์ชัน"
      ]
    },
    {
      "cell_type": "code",
      "metadata": {
        "id": "3wkmFiAshOZR"
      },
      "source": [
        ""
      ],
      "execution_count": null,
      "outputs": []
    },
    {
      "cell_type": "markdown",
      "metadata": {
        "id": "WqdD7XgVhhST"
      },
      "source": [
        "``` python\r\n",
        "      def functoin_name(_Input_) :\r\n",
        "      do_something with _Input_ to get _Output_\r\n",
        "      return _Output_\r\n",
        "``` \r\n",
        "`  backtick\r\n",
        "~ tilde\r\n",
        "{} curly bracket\r\n",
        "[] square bracket"
      ]
    },
    {
      "cell_type": "markdown",
      "metadata": {
        "id": "rjq93UBOo2LK"
      },
      "source": [
        "##ตัวอย่างฟังก์ชัน"
      ]
    },
    {
      "cell_type": "code",
      "metadata": {
        "id": "TEbgMgzmkZ0q"
      },
      "source": [
        "def print_name (name , surname , ID) :\r\n",
        "      st = f'ชื่อ {name} นามสกุล {surname} ID {ID}'\r\n",
        "      return st"
      ],
      "execution_count": 8,
      "outputs": []
    },
    {
      "cell_type": "code",
      "metadata": {
        "colab": {
          "base_uri": "https://localhost:8080/",
          "height": 36
        },
        "id": "N7cNtIFelBGO",
        "outputId": "7fed25f1-d143-4064-dd3a-e9c3ca6df7a1"
      },
      "source": [
        "print_name ('613020196-2' , 'zhou zhan', 'Suh')"
      ],
      "execution_count": 9,
      "outputs": [
        {
          "output_type": "execute_result",
          "data": {
            "application/vnd.google.colaboratory.intrinsic+json": {
              "type": "string"
            },
            "text/plain": [
              "'ชื่อ 613020196-2 นามสกุล zhou zhan ID Suh'"
            ]
          },
          "metadata": {
            "tags": []
          },
          "execution_count": 9
        }
      ]
    },
    {
      "cell_type": "code",
      "metadata": {
        "id": "QoN9hAh1pDwv"
      },
      "source": [
        "print(print_name (ID = '613020XXX-X' , name = 'Johnny', surname 'Suh'))"
      ],
      "execution_count": null,
      "outputs": []
    },
    {
      "cell_type": "markdown",
      "metadata": {
        "id": "h3HPLq8jo6U5"
      },
      "source": [
        "###เราใช้ เว้นวรรค (indent) เพื่อบอกขอบเขตของโปรแกรม"
      ]
    },
    {
      "cell_type": "code",
      "metadata": {
        "id": "DOsZPrCWpq1Q"
      },
      "source": [
        "def print_name2 (name , surname , ID) :\r\n",
        "      st = f'ชื่อ {name} นามสกุล {surname} ID {ID}'\r\n",
        "      print(st)"
      ],
      "execution_count": 34,
      "outputs": []
    },
    {
      "cell_type": "code",
      "metadata": {
        "colab": {
          "base_uri": "https://localhost:8080/",
          "height": 127
        },
        "id": "jhF4ObT3pz_c",
        "outputId": "4f40ca1a-f012-4a8b-af79-1ab62ddc5448"
      },
      "source": [
        "print_name2 (name = 'Johnny', surname 'Suh', ID = '613020XXX-X')"
      ],
      "execution_count": 35,
      "outputs": [
        {
          "output_type": "error",
          "ename": "SyntaxError",
          "evalue": "ignored",
          "traceback": [
            "\u001b[0;36m  File \u001b[0;32m\"<ipython-input-35-7664624393ee>\"\u001b[0;36m, line \u001b[0;32m1\u001b[0m\n\u001b[0;31m    print_name2 (name = 'Johnny', surname 'Suh', ID = '613020XXX-X')\u001b[0m\n\u001b[0m                                              ^\u001b[0m\n\u001b[0;31mSyntaxError\u001b[0m\u001b[0;31m:\u001b[0m invalid syntax\n"
          ]
        }
      ]
    },
    {
      "cell_type": "markdown",
      "metadata": {
        "id": "9xkKG3AqqhKT"
      },
      "source": [
        "##ฟังก์ชันไม่จำเป็นต้องมี่ Input"
      ]
    },
    {
      "cell_type": "code",
      "metadata": {
        "id": "3iZStRmZqlWS"
      },
      "source": [
        "def Pi() :\r\n",
        "      return 3.14159265359"
      ],
      "execution_count": 21,
      "outputs": []
    },
    {
      "cell_type": "code",
      "metadata": {
        "colab": {
          "base_uri": "https://localhost:8080/"
        },
        "id": "QZy13wLUqtH_",
        "outputId": "510e16f1-3b92-4779-d913-c3d751402620"
      },
      "source": [
        "Pi()*(2**2)"
      ],
      "execution_count": 22,
      "outputs": [
        {
          "output_type": "execute_result",
          "data": {
            "text/plain": [
              "12.56637061436"
            ]
          },
          "metadata": {
            "tags": []
          },
          "execution_count": 22
        }
      ]
    },
    {
      "cell_type": "markdown",
      "metadata": {
        "id": "dt8M1_AYrdfK"
      },
      "source": [
        "###สามารถกำหนด default"
      ]
    },
    {
      "cell_type": "code",
      "metadata": {
        "id": "AtzpjC8Wr0G-"
      },
      "source": [
        "def print_2lines_default(name,surname,ID,grade='F') :\r\n",
        "      st = f'Name {name} Surname {surname} ID {ID}'\r\n",
        "      print(st)\r\n",
        "      st2=f'เกรดวิชา Data viz >>> {grade}'\r\n",
        "      print(st2)"
      ],
      "execution_count": 25,
      "outputs": []
    },
    {
      "cell_type": "code",
      "metadata": {
        "colab": {
          "base_uri": "https://localhost:8080/"
        },
        "id": "V-zfPNnyszyb",
        "outputId": "67418b8a-46c6-4327-ebb8-efecc3b4d008"
      },
      "source": [
        "print_2lines_default('zhou zhan' , 'Suh' , '613020196-2', 'A')"
      ],
      "execution_count": 24,
      "outputs": [
        {
          "output_type": "stream",
          "text": [
            "Name zhou zhan Surname Suh ID 613020196-2\n",
            "เกรดวิชา Data viz >>> A\n"
          ],
          "name": "stdout"
        }
      ]
    },
    {
      "cell_type": "markdown",
      "metadata": {
        "id": "VRznI7D91ex1"
      },
      "source": [
        "###คำสั่ง for เป็นคำสั่งวนซ้ำที่ใช้ควบคุมการทำงานซ้ำๆ ในจำนวนรอบที่แน่นอน"
      ]
    },
    {
      "cell_type": "code",
      "metadata": {
        "colab": {
          "base_uri": "https://localhost:8080/"
        },
        "id": "XDTHuP8-1nG6",
        "outputId": "dbdb31b8-7b74-4395-cbb5-a85724c23d03"
      },
      "source": [
        "for i in [1,2,3] :\r\n",
        "      print(f'this number = {i} after process = {i**2}')"
      ],
      "execution_count": 33,
      "outputs": [
        {
          "output_type": "stream",
          "text": [
            "this number = 1 after process = 1\n",
            "this number = 2 after process = 4\n",
            "this number = 3 after process = 9\n"
          ],
          "name": "stdout"
        }
      ]
    }
  ]
}