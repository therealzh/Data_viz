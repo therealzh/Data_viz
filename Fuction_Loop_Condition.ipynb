{
  "nbformat": 4,
  "nbformat_minor": 0,
  "metadata": {
    "colab": {
      "name": "Fuction_Loop_Condition.ipynb",
      "provenance": [],
      "authorship_tag": "ABX9TyNC8LJccjJMGUNsHpw1yjDJ",
      "include_colab_link": true
    },
    "kernelspec": {
      "name": "python3",
      "display_name": "Python 3"
    }
  },
  "cells": [
    {
      "cell_type": "markdown",
      "metadata": {
        "id": "view-in-github",
        "colab_type": "text"
      },
      "source": [
        "<a href=\"https://colab.research.google.com/github/therealzh/Data_viz/blob/main/Fuction_Loop_Condition.ipynb\" target=\"_parent\"><img src=\"https://colab.research.google.com/assets/colab-badge.svg\" alt=\"Open In Colab\"/></a>"
      ]
    },
    {
      "cell_type": "code",
      "metadata": {
        "colab": {
          "base_uri": "https://localhost:8080/"
        },
        "id": "Jhwo31uxf0zs",
        "outputId": "56bf550b-5914-45a6-b5f6-108531d9a456"
      },
      "source": [
        "name = 'zhou zhan'\r\n",
        "surname = 'Suh'\r\n",
        "ID = '613020196-2'\r\n",
        "\r\n",
        "b = (f'ชื่อ {name} นามสกุล {surname} ID {ID}')\r\n",
        "print (b)"
      ],
      "execution_count": null,
      "outputs": [
        {
          "output_type": "stream",
          "text": [
            "ชื่อ zhou zhan นามสกุล Suh ID 613020196-2\n"
          ],
          "name": "stdout"
        }
      ]
    },
    {
      "cell_type": "markdown",
      "metadata": {
        "id": "NMPM9JSqguxx"
      },
      "source": [
        "###Function\r\n",
        "ทำหน้าทีรับ input มาประมวณผลออกเป็น output\r\n",
        "f(x) = y"
      ]
    },
    {
      "cell_type": "markdown",
      "metadata": {
        "id": "ZXUMvRy0hGug"
      },
      "source": [
        "##Def คือการกำหนดฟังก์ชัน"
      ]
    },
    {
      "cell_type": "code",
      "metadata": {
        "id": "3wkmFiAshOZR"
      },
      "source": [
        ""
      ],
      "execution_count": null,
      "outputs": []
    },
    {
      "cell_type": "markdown",
      "metadata": {
        "id": "WqdD7XgVhhST"
      },
      "source": [
        "``` python\r\n",
        "      def functoin_name(_Input_) :\r\n",
        "      do_something with _Input_ to get _Output_\r\n",
        "      return _Output_\r\n",
        "``` \r\n",
        "`  backtick\r\n",
        "~ tilde\r\n",
        "{} curly bracket\r\n",
        "[] square bracket"
      ]
    },
    {
      "cell_type": "markdown",
      "metadata": {
        "id": "rjq93UBOo2LK"
      },
      "source": [
        "##ตัวอย่างฟังก์ชัน"
      ]
    },
    {
      "cell_type": "code",
      "metadata": {
        "id": "TEbgMgzmkZ0q"
      },
      "source": [
        "def print_name (name , surname , ID) :\r\n",
        "      st = f'ชื่อ {name} นามสกุล {surname} ID {ID}'\r\n",
        "      return st"
      ],
      "execution_count": null,
      "outputs": []
    },
    {
      "cell_type": "code",
      "metadata": {
        "colab": {
          "base_uri": "https://localhost:8080/",
          "height": 36
        },
        "id": "N7cNtIFelBGO",
        "outputId": "7fed25f1-d143-4064-dd3a-e9c3ca6df7a1"
      },
      "source": [
        "print_name ('613020196-2' , 'zhou zhan', 'Suh')"
      ],
      "execution_count": null,
      "outputs": [
        {
          "output_type": "execute_result",
          "data": {
            "application/vnd.google.colaboratory.intrinsic+json": {
              "type": "string"
            },
            "text/plain": [
              "'ชื่อ 613020196-2 นามสกุล zhou zhan ID Suh'"
            ]
          },
          "metadata": {
            "tags": []
          },
          "execution_count": 9
        }
      ]
    },
    {
      "cell_type": "code",
      "metadata": {
        "id": "QoN9hAh1pDwv"
      },
      "source": [
        "print(print_name (ID = '613020XXX-X' , name = 'Johnny', surname 'Suh'))"
      ],
      "execution_count": null,
      "outputs": []
    },
    {
      "cell_type": "markdown",
      "metadata": {
        "id": "h3HPLq8jo6U5"
      },
      "source": [
        "###เราใช้ เว้นวรรค (indent) เพื่อบอกขอบเขตของโปรแกรม"
      ]
    },
    {
      "cell_type": "code",
      "metadata": {
        "id": "DOsZPrCWpq1Q"
      },
      "source": [
        "def print_name2 (name , surname , ID) :\r\n",
        "      st = f'ชื่อ {name} นามสกุล {surname} ID {ID}'\r\n",
        "      print(st)"
      ],
      "execution_count": null,
      "outputs": []
    },
    {
      "cell_type": "code",
      "metadata": {
        "colab": {
          "base_uri": "https://localhost:8080/",
          "height": 127
        },
        "id": "jhF4ObT3pz_c",
        "outputId": "4f40ca1a-f012-4a8b-af79-1ab62ddc5448"
      },
      "source": [
        "print_name2 (name = 'Johnny', surname 'Suh', ID = '613020XXX-X')"
      ],
      "execution_count": null,
      "outputs": [
        {
          "output_type": "error",
          "ename": "SyntaxError",
          "evalue": "ignored",
          "traceback": [
            "\u001b[0;36m  File \u001b[0;32m\"<ipython-input-35-7664624393ee>\"\u001b[0;36m, line \u001b[0;32m1\u001b[0m\n\u001b[0;31m    print_name2 (name = 'Johnny', surname 'Suh', ID = '613020XXX-X')\u001b[0m\n\u001b[0m                                              ^\u001b[0m\n\u001b[0;31mSyntaxError\u001b[0m\u001b[0;31m:\u001b[0m invalid syntax\n"
          ]
        }
      ]
    },
    {
      "cell_type": "markdown",
      "metadata": {
        "id": "9xkKG3AqqhKT"
      },
      "source": [
        "##ฟังก์ชันไม่จำเป็นต้องมี่ Input"
      ]
    },
    {
      "cell_type": "code",
      "metadata": {
        "id": "3iZStRmZqlWS"
      },
      "source": [
        "def Pi() :\r\n",
        "      return 3.14159265359"
      ],
      "execution_count": null,
      "outputs": []
    },
    {
      "cell_type": "code",
      "metadata": {
        "colab": {
          "base_uri": "https://localhost:8080/"
        },
        "id": "QZy13wLUqtH_",
        "outputId": "510e16f1-3b92-4779-d913-c3d751402620"
      },
      "source": [
        "Pi()*(2**2)"
      ],
      "execution_count": null,
      "outputs": [
        {
          "output_type": "execute_result",
          "data": {
            "text/plain": [
              "12.56637061436"
            ]
          },
          "metadata": {
            "tags": []
          },
          "execution_count": 22
        }
      ]
    },
    {
      "cell_type": "markdown",
      "metadata": {
        "id": "dt8M1_AYrdfK"
      },
      "source": [
        "###สามารถกำหนด default"
      ]
    },
    {
      "cell_type": "code",
      "metadata": {
        "id": "AtzpjC8Wr0G-"
      },
      "source": [
        "def print_2lines_default(name,surname,ID,grade='F') :\r\n",
        "      st = f'Name {name} Surname {surname} ID {ID}'\r\n",
        "      print(st)\r\n",
        "      st2=f'เกรดวิชา Data viz >>> {grade}'\r\n",
        "      print(st2)"
      ],
      "execution_count": null,
      "outputs": []
    },
    {
      "cell_type": "code",
      "metadata": {
        "colab": {
          "base_uri": "https://localhost:8080/"
        },
        "id": "V-zfPNnyszyb",
        "outputId": "67418b8a-46c6-4327-ebb8-efecc3b4d008"
      },
      "source": [
        "print_2lines_default('zhou zhan' , 'Suh' , '613020196-2', 'A')"
      ],
      "execution_count": null,
      "outputs": [
        {
          "output_type": "stream",
          "text": [
            "Name zhou zhan Surname Suh ID 613020196-2\n",
            "เกรดวิชา Data viz >>> A\n"
          ],
          "name": "stdout"
        }
      ]
    },
    {
      "cell_type": "markdown",
      "metadata": {
        "id": "VRznI7D91ex1"
      },
      "source": [
        "###คำสั่ง for เป็นคำสั่งวนซ้ำที่ใช้ควบคุมการทำงานซ้ำๆ ในจำนวนรอบที่แน่นอน"
      ]
    },
    {
      "cell_type": "code",
      "metadata": {
        "colab": {
          "base_uri": "https://localhost:8080/"
        },
        "id": "XDTHuP8-1nG6",
        "outputId": "dbdb31b8-7b74-4395-cbb5-a85724c23d03"
      },
      "source": [
        "for i in [1,2,3] :\r\n",
        "      print(f'this number = {i} after process = {i**2}')"
      ],
      "execution_count": null,
      "outputs": [
        {
          "output_type": "stream",
          "text": [
            "this number = 1 after process = 1\n",
            "this number = 2 after process = 4\n",
            "this number = 3 after process = 9\n"
          ],
          "name": "stdout"
        }
      ]
    },
    {
      "cell_type": "markdown",
      "metadata": {
        "id": "y1zy1bBjFuKU"
      },
      "source": [
        "###ตัวอย่างการใช้คำสั่ง for ในการวนซ้ำค่าของ i เมื่อ i คือ 'Zhouzhan'\r\n",
        "คำสั่ง print(f'{i} -> /') เพื่อกำหนดให้ผลลัพธ์แสดงสัญลักษณ์ -> /\r\n",
        "จากนั้นเพิ่มคำสั่ง print(' ') อีกครั้งเพื่อให้ผลลัพธ์มีการเว้นวรรค"
      ]
    },
    {
      "cell_type": "code",
      "metadata": {
        "id": "e8UINX36F7oG",
        "outputId": "1063521d-b08e-4d9a-843c-83af3a4f274d",
        "colab": {
          "base_uri": "https://localhost:8080/"
        }
      },
      "source": [
        "for i in 'Zhouzhan':\r\n",
        "    print(f'{i} -> / ' )\r\n",
        "    print('  ')"
      ],
      "execution_count": 1,
      "outputs": [
        {
          "output_type": "stream",
          "text": [
            "Z -> / \n",
            "  \n",
            "h -> / \n",
            "  \n",
            "o -> / \n",
            "  \n",
            "u -> / \n",
            "  \n",
            "z -> / \n",
            "  \n",
            "h -> / \n",
            "  \n",
            "a -> / \n",
            "  \n",
            "n -> / \n",
            "  \n"
          ],
          "name": "stdout"
        }
      ]
    },
    {
      "cell_type": "code",
      "metadata": {
        "id": "XPGq_7iLGIjU",
        "outputId": "708d85d8-180b-42a4-d7ed-f9eccb93f50a",
        "colab": {
          "base_uri": "https://localhost:8080/"
        }
      },
      "source": [
        "for i in 'Zhouzhan':\r\n",
        "    print(f'{i} -> / ' ,end='') #สั่งให้printไม่เว้นบรรทัด"
      ],
      "execution_count": 3,
      "outputs": [
        {
          "output_type": "stream",
          "text": [
            "Z -> / h -> / o -> / u -> / z -> / h -> / a -> / n -> / "
          ],
          "name": "stdout"
        }
      ]
    },
    {
      "cell_type": "code",
      "metadata": {
        "id": "N4605f4VGMnN",
        "outputId": "c6a193cb-d313-4985-eb61-e0312a53a2f1",
        "colab": {
          "base_uri": "https://localhost:8080/"
        }
      },
      "source": [
        "for i in 'Zhouzhan':\r\n",
        "    print(f'{i} -> / ' ,end=',') #สั่งให้printไม่เว้นบรรทัด"
      ],
      "execution_count": 4,
      "outputs": [
        {
          "output_type": "stream",
          "text": [
            "Z -> / ,h -> / ,o -> / ,u -> / ,z -> / ,h -> / ,a -> / ,n -> / ,"
          ],
          "name": "stdout"
        }
      ]
    },
    {
      "cell_type": "markdown",
      "metadata": {
        "id": "wZyEM3nHGRZX"
      },
      "source": [
        "###สร้าง list ตัวเลขแบบอัตโนมัติ range()"
      ]
    },
    {
      "cell_type": "code",
      "metadata": {
        "id": "NUog6lbBGaBy",
        "outputId": "212be962-ceea-4360-c453-2442a1b990f8",
        "colab": {
          "base_uri": "https://localhost:8080/"
        }
      },
      "source": [
        "range5_output = range(5)\r\n",
        "print(list(range5_output))"
      ],
      "execution_count": 5,
      "outputs": [
        {
          "output_type": "stream",
          "text": [
            "[0, 1, 2, 3, 4]\n"
          ],
          "name": "stdout"
        }
      ]
    },
    {
      "cell_type": "code",
      "metadata": {
        "id": "1RSqfZUgGdvl",
        "outputId": "943d6f92-a51c-406b-b597-58619b4a8b1d",
        "colab": {
          "base_uri": "https://localhost:8080/"
        }
      },
      "source": [
        "for i in range(100):\r\n",
        "    print('งง',end=' ')"
      ],
      "execution_count": 6,
      "outputs": [
        {
          "output_type": "stream",
          "text": [
            "งง งง งง งง งง งง งง งง งง งง งง งง งง งง งง งง งง งง งง งง งง งง งง งง งง งง งง งง งง งง งง งง งง งง งง งง งง งง งง งง งง งง งง งง งง งง งง งง งง งง งง งง งง งง งง งง งง งง งง งง งง งง งง งง งง งง งง งง งง งง งง งง งง งง งง งง งง งง งง งง งง งง งง งง งง งง งง งง งง งง งง งง งง งง งง งง งง งง งง งง "
          ],
          "name": "stdout"
        }
      ]
    },
    {
      "cell_type": "code",
      "metadata": {
        "id": "W6kzzW9RGf5K",
        "outputId": "97d0889a-ed37-4fc4-e177-a774ea5b6e68",
        "colab": {
          "base_uri": "https://localhost:8080/"
        }
      },
      "source": [
        "list(range(1,11)) #เริ่มต้นเป็นวงทึบ จบเป็นวงโปร่ง [,)"
      ],
      "execution_count": 7,
      "outputs": [
        {
          "output_type": "execute_result",
          "data": {
            "text/plain": [
              "[1, 2, 3, 4, 5, 6, 7, 8, 9, 10]"
            ]
          },
          "metadata": {
            "tags": []
          },
          "execution_count": 7
        }
      ]
    },
    {
      "cell_type": "code",
      "metadata": {
        "id": "4vVcMcEYGj81",
        "outputId": "482380b6-fa93-4dca-d89f-bdbb69426bc0",
        "colab": {
          "base_uri": "https://localhost:8080/"
        }
      },
      "source": [
        "list(range(-3,20,4))"
      ],
      "execution_count": 8,
      "outputs": [
        {
          "output_type": "execute_result",
          "data": {
            "text/plain": [
              "[-3, 1, 5, 9, 13, 17]"
            ]
          },
          "metadata": {
            "tags": []
          },
          "execution_count": 8
        }
      ]
    },
    {
      "cell_type": "markdown",
      "metadata": {
        "id": "_JsjgI_PGmT-"
      },
      "source": [
        "###Loop in Loop\r\n",
        "###สามารถใช้ for loop ซ้อนกันสองรอบได้"
      ]
    },
    {
      "cell_type": "code",
      "metadata": {
        "id": "9V1ty2g9GtNz",
        "outputId": "3c2acf35-8086-48a3-b035-76bac8d0751d",
        "colab": {
          "base_uri": "https://localhost:8080/"
        }
      },
      "source": [
        "for i in range(2,5):\r\n",
        "    print(f'now i = {i}')\r\n",
        "    for j in range(1,13):\r\n",
        "        print(i,' x ',j,'=',i*j)\r\n",
        "    print(f'The inner loop is end')"
      ],
      "execution_count": 10,
      "outputs": [
        {
          "output_type": "stream",
          "text": [
            "now i = 2\n",
            "2  x  1 = 2\n",
            "2  x  2 = 4\n",
            "2  x  3 = 6\n",
            "2  x  4 = 8\n",
            "2  x  5 = 10\n",
            "2  x  6 = 12\n",
            "2  x  7 = 14\n",
            "2  x  8 = 16\n",
            "2  x  9 = 18\n",
            "2  x  10 = 20\n",
            "2  x  11 = 22\n",
            "2  x  12 = 24\n",
            "The inner loop is end\n",
            "now i = 3\n",
            "3  x  1 = 3\n",
            "3  x  2 = 6\n",
            "3  x  3 = 9\n",
            "3  x  4 = 12\n",
            "3  x  5 = 15\n",
            "3  x  6 = 18\n",
            "3  x  7 = 21\n",
            "3  x  8 = 24\n",
            "3  x  9 = 27\n",
            "3  x  10 = 30\n",
            "3  x  11 = 33\n",
            "3  x  12 = 36\n",
            "The inner loop is end\n",
            "now i = 4\n",
            "4  x  1 = 4\n",
            "4  x  2 = 8\n",
            "4  x  3 = 12\n",
            "4  x  4 = 16\n",
            "4  x  5 = 20\n",
            "4  x  6 = 24\n",
            "4  x  7 = 28\n",
            "4  x  8 = 32\n",
            "4  x  9 = 36\n",
            "4  x  10 = 40\n",
            "4  x  11 = 44\n",
            "4  x  12 = 48\n",
            "The inner loop is end\n"
          ],
          "name": "stdout"
        }
      ]
    },
    {
      "cell_type": "markdown",
      "metadata": {
        "id": "8oySd1GVG4H4"
      },
      "source": [
        "###Loop in fucntion"
      ]
    },
    {
      "cell_type": "code",
      "metadata": {
        "id": "eSt1ZNJ0G8lM"
      },
      "source": [
        "list_friends = ['EXO','NCT','VICTON','MONSTAX','ONEUS']"
      ],
      "execution_count": 15,
      "outputs": []
    },
    {
      "cell_type": "code",
      "metadata": {
        "id": "yFVIal7vHNQQ"
      },
      "source": [
        "def print_feelings(I,friends,feeling ='love'):\r\n",
        "    for friend in friends :\r\n",
        "        print(f'{I} {feeling} {friend}')"
      ],
      "execution_count": 16,
      "outputs": []
    },
    {
      "cell_type": "code",
      "metadata": {
        "id": "5jPCezjUHVVI",
        "outputId": "f09b8d54-3586-4f91-f0c1-7dd23a0200e8",
        "colab": {
          "base_uri": "https://localhost:8080/"
        }
      },
      "source": [
        "print_feelings('I',list_friends)\r\n"
      ],
      "execution_count": 17,
      "outputs": [
        {
          "output_type": "stream",
          "text": [
            "I love EXO\n",
            "I love NCT\n",
            "I love VICTON\n",
            "I love MONSTAX\n",
            "I love ONEUS\n"
          ],
          "name": "stdout"
        }
      ]
    },
    {
      "cell_type": "markdown",
      "metadata": {
        "id": "UWx9iNsOHm32"
      },
      "source": [
        "###Condition คือ เงื่อนไข/ประโยคเงื่อนไข"
      ]
    },
    {
      "cell_type": "markdown",
      "metadata": {
        "id": "8AoaZw0eHqzV"
      },
      "source": [
        "if condition1 :\r\n",
        "do something\r\n",
        "elif condition2 : #elif คือ else if\r\n",
        "do another thing\r\n",
        "else :\r\n",
        "do"
      ]
    },
    {
      "cell_type": "code",
      "metadata": {
        "id": "cqa6CooCHoQW",
        "outputId": "8a11fc2b-4658-4666-b33f-e0da3bb24e93",
        "colab": {
          "base_uri": "https://localhost:8080/"
        }
      },
      "source": [
        "for name1 in list_friends :\r\n",
        "    for name2 in list_friends :\r\n",
        "        print(name1, 'know' , name2)\r\n"
      ],
      "execution_count": 18,
      "outputs": [
        {
          "output_type": "stream",
          "text": [
            "EXO know EXO\n",
            "EXO know NCT\n",
            "EXO know VICTON\n",
            "EXO know MONSTAX\n",
            "EXO know ONEUS\n",
            "NCT know EXO\n",
            "NCT know NCT\n",
            "NCT know VICTON\n",
            "NCT know MONSTAX\n",
            "NCT know ONEUS\n",
            "VICTON know EXO\n",
            "VICTON know NCT\n",
            "VICTON know VICTON\n",
            "VICTON know MONSTAX\n",
            "VICTON know ONEUS\n",
            "MONSTAX know EXO\n",
            "MONSTAX know NCT\n",
            "MONSTAX know VICTON\n",
            "MONSTAX know MONSTAX\n",
            "MONSTAX know ONEUS\n",
            "ONEUS know EXO\n",
            "ONEUS know NCT\n",
            "ONEUS know VICTON\n",
            "ONEUS know MONSTAX\n",
            "ONEUS know ONEUS\n"
          ],
          "name": "stdout"
        }
      ]
    },
    {
      "cell_type": "code",
      "metadata": {
        "id": "4oIjdvxRH6HK",
        "outputId": "7457ca0f-b2cb-445e-dce4-5b605d81c7d0",
        "colab": {
          "base_uri": "https://localhost:8080/"
        }
      },
      "source": [
        "for name1 in list_friends :\r\n",
        "    for name2 in list_friends :\r\n",
        "        if name1 != name2 :#ไม่ปริ้นชื่อเดียวกันซ้ำ\r\n",
        "           print(name1, 'Killed' , name2,)"
      ],
      "execution_count": 19,
      "outputs": [
        {
          "output_type": "stream",
          "text": [
            "EXO Killed NCT\n",
            "EXO Killed VICTON\n",
            "EXO Killed MONSTAX\n",
            "EXO Killed ONEUS\n",
            "NCT Killed EXO\n",
            "NCT Killed VICTON\n",
            "NCT Killed MONSTAX\n",
            "NCT Killed ONEUS\n",
            "VICTON Killed EXO\n",
            "VICTON Killed NCT\n",
            "VICTON Killed MONSTAX\n",
            "VICTON Killed ONEUS\n",
            "MONSTAX Killed EXO\n",
            "MONSTAX Killed NCT\n",
            "MONSTAX Killed VICTON\n",
            "MONSTAX Killed ONEUS\n",
            "ONEUS Killed EXO\n",
            "ONEUS Killed NCT\n",
            "ONEUS Killed VICTON\n",
            "ONEUS Killed MONSTAX\n"
          ],
          "name": "stdout"
        }
      ]
    },
    {
      "cell_type": "code",
      "metadata": {
        "id": "nSb76fyxH_It",
        "outputId": "ce3a7b5e-56c3-40d2-9e04-29e281c42926",
        "colab": {
          "base_uri": "https://localhost:8080/"
        }
      },
      "source": [
        "for name1 in list_friends :\r\n",
        "    for name2 in list_friends :\r\n",
        "        if name1 == name2 :#ปริ้นชื่อเดียวกันซ้ำ\r\n",
        "           print(name1, 'Killed' , name2,)"
      ],
      "execution_count": 20,
      "outputs": [
        {
          "output_type": "stream",
          "text": [
            "EXO Killed EXO\n",
            "NCT Killed NCT\n",
            "VICTON Killed VICTON\n",
            "MONSTAX Killed MONSTAX\n",
            "ONEUS Killed ONEUS\n"
          ],
          "name": "stdout"
        }
      ]
    },
    {
      "cell_type": "code",
      "metadata": {
        "id": "YelEZkwLIB17",
        "outputId": "47a2c306-d370-45f9-f7d4-fe20df4666e7",
        "colab": {
          "base_uri": "https://localhost:8080/"
        }
      },
      "source": [
        "for name1 in list_friends :\r\n",
        "    for name2 in list_friends :\r\n",
        "        if name1 == name2 :#ไม่ปริ้นชื่อเดียวกันซ้ำ\r\n",
        "           'do nothing'\r\n",
        "        else:\r\n",
        "           print(name1, 'Killed' , name2,)"
      ],
      "execution_count": 21,
      "outputs": [
        {
          "output_type": "stream",
          "text": [
            "EXO Killed NCT\n",
            "EXO Killed VICTON\n",
            "EXO Killed MONSTAX\n",
            "EXO Killed ONEUS\n",
            "NCT Killed EXO\n",
            "NCT Killed VICTON\n",
            "NCT Killed MONSTAX\n",
            "NCT Killed ONEUS\n",
            "VICTON Killed EXO\n",
            "VICTON Killed NCT\n",
            "VICTON Killed MONSTAX\n",
            "VICTON Killed ONEUS\n",
            "MONSTAX Killed EXO\n",
            "MONSTAX Killed NCT\n",
            "MONSTAX Killed VICTON\n",
            "MONSTAX Killed ONEUS\n",
            "ONEUS Killed EXO\n",
            "ONEUS Killed NCT\n",
            "ONEUS Killed VICTON\n",
            "ONEUS Killed MONSTAX\n"
          ],
          "name": "stdout"
        }
      ]
    },
    {
      "cell_type": "markdown",
      "metadata": {
        "id": "F_O0EEi0IEXU"
      },
      "source": [
        "###Condition syntex (==,!=,>=,<=,>,<)"
      ]
    },
    {
      "cell_type": "code",
      "metadata": {
        "id": "fKSRIlJlIHcI",
        "outputId": "f198a3b7-e297-4cdc-f007-f3a26b9e33e3",
        "colab": {
          "base_uri": "https://localhost:8080/"
        }
      },
      "source": [
        "'EXO' == 'ONEUS'"
      ],
      "execution_count": 22,
      "outputs": [
        {
          "output_type": "execute_result",
          "data": {
            "text/plain": [
              "False"
            ]
          },
          "metadata": {
            "tags": []
          },
          "execution_count": 22
        }
      ]
    },
    {
      "cell_type": "code",
      "metadata": {
        "id": "SXILuTdEIOlU",
        "outputId": "7cd4300a-6046-4e12-8b70-6b108a103448",
        "colab": {
          "base_uri": "https://localhost:8080/"
        }
      },
      "source": [
        "'EXO' != 'ONEUS'"
      ],
      "execution_count": 23,
      "outputs": [
        {
          "output_type": "execute_result",
          "data": {
            "text/plain": [
              "True"
            ]
          },
          "metadata": {
            "tags": []
          },
          "execution_count": 23
        }
      ]
    },
    {
      "cell_type": "markdown",
      "metadata": {
        "id": "cK5hTarYIVn4"
      },
      "source": [
        "หากหลังมีเงื่อนไข True"
      ]
    },
    {
      "cell_type": "code",
      "metadata": {
        "id": "cLav3Yw_ISO9",
        "outputId": "dc3a4a2a-8b4d-45fe-a480-bbe24ae5d708",
        "colab": {
          "base_uri": "https://localhost:8080/"
        }
      },
      "source": [
        "if True :\r\n",
        "   print('Yes')\r\n",
        "else :\r\n",
        "   print('No')"
      ],
      "execution_count": 24,
      "outputs": [
        {
          "output_type": "stream",
          "text": [
            "Yes\n"
          ],
          "name": "stdout"
        }
      ]
    },
    {
      "cell_type": "markdown",
      "metadata": {
        "id": "AKEEPIuXIg_I"
      },
      "source": [
        "###**HW**\r\n",
        "###เขียน function ตัดเกรด โดยที่ iputเป็นคะแนน(0-100) ,output เป็นเกรด (F-A)\r\n",
        "###วนลูป input [1,50,65,90,101,-5,49]"
      ]
    },
    {
      "cell_type": "code",
      "metadata": {
        "id": "bvwZqElXIqPZ"
      },
      "source": [
        "def GPA(score) :\r\n",
        "    if score > 100 :\r\n",
        "       print(f'Cannot Calculate YOUR GRADE!!')\r\n",
        "    elif 80 <= score < 101 :\r\n",
        "       print(f'Your score is {score}. Your grade is A.')\r\n",
        "    elif 75 <= score < 80  :\r\n",
        "       print(f'Your score is {score}. Your grade is B+.')\r\n",
        "    elif 70 <= score < 75  :\r\n",
        "       print(f'Your score is {score}. Your grade is B.')\r\n",
        "    elif 65 <= score < 70 :\r\n",
        "       print(f'Your score is {score}. Your grade is C+.')\r\n",
        "    elif 60 <= score < 65 :\r\n",
        "       print(f'Your score is {score}. Your grade is C.')\r\n",
        "    elif 55 <= score < 60 :\r\n",
        "       print(f'Your score is {score}. Your grade is D+.')\r\n",
        "    elif 50 <= score < 55 :\r\n",
        "       print(f'Your score is {score}. Your grade is D.')\r\n",
        "    elif 0 <= score < 50 :\r\n",
        "       print(f'Your score is {score}. Your grade is F.')\r\n",
        "    elif score < 0 :\r\n",
        "       print(f'Cannot Calculate YOUR GRADE!!')"
      ],
      "execution_count": 34,
      "outputs": []
    },
    {
      "cell_type": "code",
      "metadata": {
        "id": "YR3yK06NJbmx",
        "outputId": "de001420-39ad-4e27-b4e5-c6291257acaf",
        "colab": {
          "base_uri": "https://localhost:8080/"
        }
      },
      "source": [
        "list_GPA = [1,50,65,90,101,-5,49]\r\n",
        "list_GPA"
      ],
      "execution_count": 35,
      "outputs": [
        {
          "output_type": "execute_result",
          "data": {
            "text/plain": [
              "[1, 50, 65, 90, 101, -5, 49]"
            ]
          },
          "metadata": {
            "tags": []
          },
          "execution_count": 35
        }
      ]
    },
    {
      "cell_type": "code",
      "metadata": {
        "id": "QZxozjKGJeg7",
        "outputId": "ba306813-3449-42a6-b25d-54202cd1cc0d",
        "colab": {
          "base_uri": "https://localhost:8080/"
        }
      },
      "source": [
        "for i in list_GPA :\r\n",
        "    GPA(i)"
      ],
      "execution_count": 36,
      "outputs": [
        {
          "output_type": "stream",
          "text": [
            "Your score is 1. Your grade is F.\n",
            "Your score is 50. Your grade is D.\n",
            "Your score is 65. Your grade is C+.\n",
            "Your score is 90. Your grade is A.\n",
            "Cannot Calculate YOUR GRADE!!\n",
            "Cannot Calculate YOUR GRADE!!\n",
            "Your score is 49. Your grade is F.\n"
          ],
          "name": "stdout"
        }
      ]
    }
  ]
}