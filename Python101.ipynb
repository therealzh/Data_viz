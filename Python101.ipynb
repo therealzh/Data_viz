{
  "nbformat": 4,
  "nbformat_minor": 0,
  "metadata": {
    "colab": {
      "name": "Python101.ipynb",
      "provenance": [],
      "authorship_tag": "ABX9TyODm5C2uUx0lW5Ifvb8eWBF",
      "include_colab_link": true
    },
    "kernelspec": {
      "name": "python3",
      "display_name": "Python 3"
    }
  },
  "cells": [
    {
      "cell_type": "markdown",
      "metadata": {
        "id": "view-in-github",
        "colab_type": "text"
      },
      "source": [
        "<a href=\"https://colab.research.google.com/github/therealzh/Data_viz/blob/main/Python101.ipynb\" target=\"_parent\"><img src=\"https://colab.research.google.com/assets/colab-badge.svg\" alt=\"Open In Colab\"/></a>"
      ]
    },
    {
      "cell_type": "markdown",
      "metadata": {
        "id": "HqgZt75ONNjz"
      },
      "source": [
        "\r\n",
        "#**Variable**"
      ]
    },
    {
      "cell_type": "code",
      "metadata": {
        "colab": {
          "base_uri": "https://localhost:8080/"
        },
        "id": "8LcH2WOeS063",
        "outputId": "7880f86a-e26b-4068-e446-3a14830c59cd"
      },
      "source": [
        "a = 2\r\n",
        "print (a)"
      ],
      "execution_count": 10,
      "outputs": [
        {
          "output_type": "stream",
          "text": [
            "2\n"
          ],
          "name": "stdout"
        }
      ]
    },
    {
      "cell_type": "markdown",
      "metadata": {
        "id": "L_bdKZJ5Qt-v"
      },
      "source": [
        "ใช้ # สำหรับคอมเม้น"
      ]
    },
    {
      "cell_type": "code",
      "metadata": {
        "colab": {
          "base_uri": "https://localhost:8080/"
        },
        "id": "O4JYPzZQQ8rZ",
        "outputId": "19346b3b-18fd-46da-8d53-dd3e76adc4b3"
      },
      "source": [
        "c = 'zhouzhan'   # จะบอกว่าตัวแปรเป็นข้อความหรือตัวอักษร จะใช้ single qoute (') หรือ double qoute (\")\r\n",
        "print (c)"
      ],
      "execution_count": 4,
      "outputs": [
        {
          "output_type": "stream",
          "text": [
            "zhouzhan\n"
          ],
          "name": "stdout"
        }
      ]
    },
    {
      "cell_type": "markdown",
      "metadata": {
        "id": "mjL21duZRlcg"
      },
      "source": [
        "#**Stringไม่สามารถบวกกับตัวเลขได้**"
      ]
    },
    {
      "cell_type": "code",
      "metadata": {
        "colab": {
          "base_uri": "https://localhost:8080/"
        },
        "id": "INtltvyWSFw-",
        "outputId": "3b6889d2-6ec6-4616-fefb-f158a58df452"
      },
      "source": [
        "d = 10.1\r\n",
        "print (d)"
      ],
      "execution_count": 41,
      "outputs": [
        {
          "output_type": "stream",
          "text": [
            "10.1\n"
          ],
          "name": "stdout"
        }
      ]
    },
    {
      "cell_type": "code",
      "metadata": {
        "colab": {
          "base_uri": "https://localhost:8080/"
        },
        "id": "8QU6cHsrSPRL",
        "outputId": "9d9062f9-06f5-40ba-a10f-14597a2249a0"
      },
      "source": [
        "d+1"
      ],
      "execution_count": 43,
      "outputs": [
        {
          "output_type": "execute_result",
          "data": {
            "text/plain": [
              "11.1"
            ]
          },
          "metadata": {
            "tags": []
          },
          "execution_count": 43
        }
      ]
    },
    {
      "cell_type": "markdown",
      "metadata": {
        "id": "9NCObBAjRzvk"
      },
      "source": [
        "เปล่ี่ยนชนิดตัวแปร"
      ]
    },
    {
      "cell_type": "code",
      "metadata": {
        "colab": {
          "base_uri": "https://localhost:8080/"
        },
        "id": "iGLPFYUJR-SV",
        "outputId": "4a1217f6-5435-43ce-c371-d8434d4f05e1"
      },
      "source": [
        "int (d) + 1  #int จำนวนเต็ม"
      ],
      "execution_count": 44,
      "outputs": [
        {
          "output_type": "execute_result",
          "data": {
            "text/plain": [
              "11"
            ]
          },
          "metadata": {
            "tags": []
          },
          "execution_count": 44
        }
      ]
    },
    {
      "cell_type": "code",
      "metadata": {
        "colab": {
          "base_uri": "https://localhost:8080/"
        },
        "id": "OLyEphhDSgvv",
        "outputId": "754c20f9-ca48-4a40-a5f0-ab7a199f18a0"
      },
      "source": [
        "print (d)\r\n",
        "print (float(d)) #float ทศนิยม\r\n",
        "print (str(d)) #ตัวอักษร"
      ],
      "execution_count": 9,
      "outputs": [
        {
          "output_type": "stream",
          "text": [
            "10\n",
            "10.0\n",
            "10\n"
          ],
          "name": "stdout"
        }
      ]
    },
    {
      "cell_type": "markdown",
      "metadata": {
        "id": "3FxEdhxnSsGv"
      },
      "source": [
        "#Operation +,-,*,/,%"
      ]
    },
    {
      "cell_type": "code",
      "metadata": {
        "colab": {
          "base_uri": "https://localhost:8080/"
        },
        "id": "hs17LePjSy1F",
        "outputId": "8b4c3a7d-6ae9-46cc-eabd-c768e1d3ae52"
      },
      "source": [
        "a+d"
      ],
      "execution_count": 11,
      "outputs": [
        {
          "output_type": "execute_result",
          "data": {
            "text/plain": [
              "12"
            ]
          },
          "metadata": {
            "tags": []
          },
          "execution_count": 11
        }
      ]
    },
    {
      "cell_type": "code",
      "metadata": {
        "colab": {
          "base_uri": "https://localhost:8080/"
        },
        "id": "ccYkh3hVS-ED",
        "outputId": "e77d58fe-62e4-4384-ea78-bfd5664ce27b"
      },
      "source": [
        "ad = a+d\r\n",
        "print (ad)"
      ],
      "execution_count": 13,
      "outputs": [
        {
          "output_type": "stream",
          "text": [
            "12\n"
          ],
          "name": "stdout"
        }
      ]
    },
    {
      "cell_type": "markdown",
      "metadata": {
        "id": "KdZy_kaZTLo7"
      },
      "source": [
        "#% modulo การหารเอาเศษ"
      ]
    },
    {
      "cell_type": "code",
      "metadata": {
        "colab": {
          "base_uri": "https://localhost:8080/"
        },
        "id": "ukVhsBJ_TRR0",
        "outputId": "0d5c4bfa-2067-43ab-bcab-13b92458d215"
      },
      "source": [
        "5%3"
      ],
      "execution_count": 14,
      "outputs": [
        {
          "output_type": "execute_result",
          "data": {
            "text/plain": [
              "2"
            ]
          },
          "metadata": {
            "tags": []
          },
          "execution_count": 14
        }
      ]
    },
    {
      "cell_type": "code",
      "metadata": {
        "colab": {
          "base_uri": "https://localhost:8080/"
        },
        "id": "vZoCjUdMTTcz",
        "outputId": "d2b24d2f-6e08-4bd1-8408-a3fa8b5c1ed1"
      },
      "source": [
        "209%3"
      ],
      "execution_count": 16,
      "outputs": [
        {
          "output_type": "execute_result",
          "data": {
            "text/plain": [
              "2"
            ]
          },
          "metadata": {
            "tags": []
          },
          "execution_count": 16
        }
      ]
    },
    {
      "cell_type": "markdown",
      "metadata": {
        "id": "Al4yzBRRTXDZ"
      },
      "source": [
        "# **คำสั่ง print แบบบพิเศษ (การ format string)**"
      ]
    },
    {
      "cell_type": "code",
      "metadata": {
        "id": "eAuTSQrRToOG"
      },
      "source": [
        "print ('ตัวแปร') #สิ่งที่อยู่ข้างในวงเล็บคือ ตัวแปร และ str(ข้อความ)"
      ],
      "execution_count": null,
      "outputs": []
    },
    {
      "cell_type": "code",
      "metadata": {
        "colab": {
          "base_uri": "https://localhost:8080/"
        },
        "id": "VJWtKmbOT2Yn",
        "outputId": "81278e16-54a7-4d28-c5e8-b7fc6336e038"
      },
      "source": [
        "print ('Johnny Suh NCT \\n IG : johnnysuh' )"
      ],
      "execution_count": 24,
      "outputs": [
        {
          "output_type": "stream",
          "text": [
            "Johnny Suh NCT \n",
            " IG : johnnysuh\n"
          ],
          "name": "stdout"
        }
      ]
    },
    {
      "cell_type": "code",
      "metadata": {
        "colab": {
          "base_uri": "https://localhost:8080/"
        },
        "id": "4IzAey_BUKt6",
        "outputId": "1e13e743-c210-4881-8b02-85f8e59b80a6"
      },
      "source": [
        "print (f'% คือการหาญเอาเศษ เช่น 7%3 = {7%3} \\\\\r\n",
        "แต่ \\n / คือการหารแบบปกติ เช่น 7/3 ={7/3} \\\\\r\n",
        "และ \\n // คือการหารเอาส่วน เช่น 7//3 ={7//3} ')  #คำนวนค่าใบ {} ให้เพิ่ม f ในวงเล็บ หน้า single qoute "
      ],
      "execution_count": 35,
      "outputs": [
        {
          "output_type": "stream",
          "text": [
            "% คือการหาญเอาเศษ เช่น 7%3 = 1 \\แต่ \n",
            " / คือการหารแบบปกติ เช่น 7/3 =2.3333333333333335 \\และ \n",
            " // คือการหารเอาส่วน เช่น 7//3 =2 \n"
          ],
          "name": "stdout"
        }
      ]
    },
    {
      "cell_type": "code",
      "metadata": {
        "colab": {
          "base_uri": "https://localhost:8080/"
        },
        "id": "S8hpwIU1V3NR",
        "outputId": "cc5019b0-580d-435b-d641-b17922066157"
      },
      "source": [
        "print (f' 127//3 = {127//3} \\n ')\r\n",
        "int(127/3)"
      ],
      "execution_count": 45,
      "outputs": [
        {
          "output_type": "stream",
          "text": [
            " 127//3 = 42 \n",
            " \n"
          ],
          "name": "stdout"
        },
        {
          "output_type": "execute_result",
          "data": {
            "text/plain": [
              "42"
            ]
          },
          "metadata": {
            "tags": []
          },
          "execution_count": 45
        }
      ]
    },
    {
      "cell_type": "markdown",
      "metadata": {
        "id": "RLLXGT3oac6o"
      },
      "source": [
        "#DATA STRUCTURE โครงสร้างข้อมูล"
      ]
    },
    {
      "cell_type": "markdown",
      "metadata": {
        "id": "b8Yb8jSWaksc"
      },
      "source": [
        "# #List คือการเอาตัวแปรหลายๆตัวมาเรียงกัน : ได้ทั้งตัวเลขและอักษร"
      ]
    },
    {
      "cell_type": "markdown",
      "metadata": {
        "id": "tjJx2699a1vy"
      },
      "source": [
        "#แบบที่ 1 > square brackets"
      ]
    },
    {
      "cell_type": "code",
      "metadata": {
        "colab": {
          "base_uri": "https://localhost:8080/"
        },
        "id": "varccnBba9ha",
        "outputId": "3ba4c928-6502-48b4-8b66-9168c3f67b8c"
      },
      "source": [
        "list_a = []\r\n",
        "print (list_a)"
      ],
      "execution_count": 88,
      "outputs": [
        {
          "output_type": "stream",
          "text": [
            "[]\n"
          ],
          "name": "stdout"
        }
      ]
    },
    {
      "cell_type": "code",
      "metadata": {
        "colab": {
          "base_uri": "https://localhost:8080/"
        },
        "id": "sawIgiBRbArH",
        "outputId": "6e692ead-9889-4de3-baec-4921a2f38291"
      },
      "source": [
        "list_b = ['U',127,'Dream','Way V']\r\n",
        "print (list_b)"
      ],
      "execution_count": 89,
      "outputs": [
        {
          "output_type": "stream",
          "text": [
            "['U', 127, 'Dream', 'Way V']\n"
          ],
          "name": "stdout"
        }
      ]
    },
    {
      "cell_type": "markdown",
      "metadata": {
        "id": "aMNjl6wHbV8F"
      },
      "source": [
        "##ลำดับที่อยู่ใน list มีความสำคัญ เนิ่มจาก 0,1,2,..."
      ]
    },
    {
      "cell_type": "code",
      "metadata": {
        "colab": {
          "base_uri": "https://localhost:8080/",
          "height": 36
        },
        "id": "OzIfXvVFbrUm",
        "outputId": "7781daf4-aba0-4228-b776-e8e6d1ef0c77"
      },
      "source": [
        "list_b[0]"
      ],
      "execution_count": 90,
      "outputs": [
        {
          "output_type": "execute_result",
          "data": {
            "application/vnd.google.colaboratory.intrinsic+json": {
              "type": "string"
            },
            "text/plain": [
              "'U'"
            ]
          },
          "metadata": {
            "tags": []
          },
          "execution_count": 90
        }
      ]
    },
    {
      "cell_type": "markdown",
      "metadata": {
        "id": "bJv-DTVocHPj"
      },
      "source": [
        "#แบบที่ 2 "
      ]
    },
    {
      "cell_type": "markdown",
      "metadata": {
        "id": "sb5BOl8ncQGw"
      },
      "source": [
        "#append() เพิ่มสมาชิกใน list"
      ]
    },
    {
      "cell_type": "code",
      "metadata": {
        "colab": {
          "base_uri": "https://localhost:8080/"
        },
        "id": "qIxC4iS6cVof",
        "outputId": "5cb08ca0-4342-42da-8b2b-fb5e0b39ca71"
      },
      "source": [
        "list_b.append('2020')\r\n",
        "print (list_b)"
      ],
      "execution_count": 91,
      "outputs": [
        {
          "output_type": "stream",
          "text": [
            "['U', 127, 'Dream', 'Way V', '2020']\n"
          ],
          "name": "stdout"
        }
      ]
    },
    {
      "cell_type": "markdown",
      "metadata": {
        "id": "jN50iSU0dGDx"
      },
      "source": [
        "##String > list of characcharacters "
      ]
    },
    {
      "cell_type": "code",
      "metadata": {
        "colab": {
          "base_uri": "https://localhost:8080/",
          "height": 36
        },
        "id": "ITiMQwNZdKlj",
        "outputId": "a6e4dbae-ef6b-46f0-a4bb-0e80135b92fa"
      },
      "source": [
        "t = 'Johnny Suh is my DADDY'\r\n",
        "t"
      ],
      "execution_count": 65,
      "outputs": [
        {
          "output_type": "execute_result",
          "data": {
            "application/vnd.google.colaboratory.intrinsic+json": {
              "type": "string"
            },
            "text/plain": [
              "'Johnny Suh is my DADDY'"
            ]
          },
          "metadata": {
            "tags": []
          },
          "execution_count": 65
        }
      ]
    },
    {
      "cell_type": "code",
      "metadata": {
        "colab": {
          "base_uri": "https://localhost:8080/"
        },
        "id": "gkRBOON0dTM1",
        "outputId": "e49dacfe-faa6-4a70-ea16-176cd1569ac3"
      },
      "source": [
        "len (list_b) # len คือคำสั่งตรวจสอบความยาวของ list หรือ จำนวนสมาชิก"
      ],
      "execution_count": 67,
      "outputs": [
        {
          "output_type": "execute_result",
          "data": {
            "text/plain": [
              "0"
            ]
          },
          "metadata": {
            "tags": []
          },
          "execution_count": 67
        }
      ]
    },
    {
      "cell_type": "code",
      "metadata": {
        "colab": {
          "base_uri": "https://localhost:8080/"
        },
        "id": "D6g1KfaMdvVN",
        "outputId": "5cef4d7d-d2e5-4d84-cd99-a9e4f3e0df28"
      },
      "source": [
        "len(t)"
      ],
      "execution_count": 70,
      "outputs": [
        {
          "output_type": "execute_result",
          "data": {
            "text/plain": [
              "22"
            ]
          },
          "metadata": {
            "tags": []
          },
          "execution_count": 70
        }
      ]
    },
    {
      "cell_type": "markdown",
      "metadata": {
        "id": "Hk6HEK5zeCrW"
      },
      "source": [
        "### access a member of a list (list&string)\r\n",
        "### โดยเริ่มนับจาก 0\r\n",
        "### สมาชิกตัวแรก คือ 0\r\n",
        "### ตัวสุดท้ายคือ -1\r\n",
        "###หรือสามารถนับเริ่มจาก -1 ได้ จะเป็นการนับจากด้านหลัง"
      ]
    },
    {
      "cell_type": "code",
      "metadata": {
        "colab": {
          "base_uri": "https://localhost:8080/",
          "height": 36
        },
        "id": "PCZRXYe2eRsj",
        "outputId": "078d3a15-c409-4c29-b1c4-4d8f46f77144"
      },
      "source": [
        "t[0]"
      ],
      "execution_count": 73,
      "outputs": [
        {
          "output_type": "execute_result",
          "data": {
            "application/vnd.google.colaboratory.intrinsic+json": {
              "type": "string"
            },
            "text/plain": [
              "'J'"
            ]
          },
          "metadata": {
            "tags": []
          },
          "execution_count": 73
        }
      ]
    },
    {
      "cell_type": "code",
      "metadata": {
        "colab": {
          "base_uri": "https://localhost:8080/",
          "height": 36
        },
        "id": "oRzXgO1Zel7w",
        "outputId": "1df40797-3483-4e57-fb2c-10a3e521462e"
      },
      "source": [
        "t[3]"
      ],
      "execution_count": 74,
      "outputs": [
        {
          "output_type": "execute_result",
          "data": {
            "application/vnd.google.colaboratory.intrinsic+json": {
              "type": "string"
            },
            "text/plain": [
              "'n'"
            ]
          },
          "metadata": {
            "tags": []
          },
          "execution_count": 74
        }
      ]
    },
    {
      "cell_type": "code",
      "metadata": {
        "colab": {
          "base_uri": "https://localhost:8080/",
          "height": 36
        },
        "id": "L8dTgPeOepyV",
        "outputId": "86e48b8c-8b4f-416e-9a5d-5e7f563a586f"
      },
      "source": [
        "t[21]"
      ],
      "execution_count": 75,
      "outputs": [
        {
          "output_type": "execute_result",
          "data": {
            "application/vnd.google.colaboratory.intrinsic+json": {
              "type": "string"
            },
            "text/plain": [
              "'Y'"
            ]
          },
          "metadata": {
            "tags": []
          },
          "execution_count": 75
        }
      ]
    },
    {
      "cell_type": "code",
      "metadata": {
        "colab": {
          "base_uri": "https://localhost:8080/",
          "height": 36
        },
        "id": "Cpe3ysJUesyl",
        "outputId": "b537fa0d-618f-496d-ec4c-6514f750a76d"
      },
      "source": [
        "t[20]"
      ],
      "execution_count": 76,
      "outputs": [
        {
          "output_type": "execute_result",
          "data": {
            "application/vnd.google.colaboratory.intrinsic+json": {
              "type": "string"
            },
            "text/plain": [
              "'D'"
            ]
          },
          "metadata": {
            "tags": []
          },
          "execution_count": 76
        }
      ]
    },
    {
      "cell_type": "code",
      "metadata": {
        "colab": {
          "base_uri": "https://localhost:8080/",
          "height": 36
        },
        "id": "geZovNbce2CW",
        "outputId": "de35382f-bfe0-4b60-876c-ab3cbfb226c4"
      },
      "source": [
        "t[-3]"
      ],
      "execution_count": 77,
      "outputs": [
        {
          "output_type": "execute_result",
          "data": {
            "application/vnd.google.colaboratory.intrinsic+json": {
              "type": "string"
            },
            "text/plain": [
              "'D'"
            ]
          },
          "metadata": {
            "tags": []
          },
          "execution_count": 77
        }
      ]
    },
    {
      "cell_type": "code",
      "metadata": {
        "colab": {
          "base_uri": "https://localhost:8080/",
          "height": 36
        },
        "id": "c6gzENdee4ts",
        "outputId": "4ff3bcf7-61fa-4e89-a9bc-a6dbf3f45712"
      },
      "source": [
        "t[-4]"
      ],
      "execution_count": 78,
      "outputs": [
        {
          "output_type": "execute_result",
          "data": {
            "application/vnd.google.colaboratory.intrinsic+json": {
              "type": "string"
            },
            "text/plain": [
              "'A'"
            ]
          },
          "metadata": {
            "tags": []
          },
          "execution_count": 78
        }
      ]
    },
    {
      "cell_type": "markdown",
      "metadata": {
        "id": "WM4s20iCfcLT"
      },
      "source": [
        "###List scling สามารถทำได้โดยใช้ colon :\r\n",
        "[a:b] -> [a,b)"
      ]
    },
    {
      "cell_type": "code",
      "metadata": {
        "colab": {
          "base_uri": "https://localhost:8080/"
        },
        "id": "d-Nd2C_ofrsD",
        "outputId": "1549bd48-bd74-4141-83d5-334d7a1f1713"
      },
      "source": [
        "print (t[0:5])\r\n",
        "print (t[ : 6]) #เว้นว่างหน้า : คือ เริ่มตั้งแต่ตัวแรก\r\n",
        "print (t[0: ]) # เว้นหลัง : คือ ถึงตัวสุดท้าย\r\n",
        "print (t [ : ])"
      ],
      "execution_count": 84,
      "outputs": [
        {
          "output_type": "stream",
          "text": [
            "Johnn\n",
            "Johnny\n",
            "Johnny Suh is my DADDY\n",
            "Johnny Suh is my DADDY\n"
          ],
          "name": "stdout"
        }
      ]
    },
    {
      "cell_type": "code",
      "metadata": {
        "colab": {
          "base_uri": "https://localhost:8080/",
          "height": 36
        },
        "id": "iY7rQ0FAiaUe",
        "outputId": "6e381465-0c99-41cc-9b10-cb52fcc06593"
      },
      "source": [
        "t + ' !!'"
      ],
      "execution_count": 86,
      "outputs": [
        {
          "output_type": "execute_result",
          "data": {
            "application/vnd.google.colaboratory.intrinsic+json": {
              "type": "string"
            },
            "text/plain": [
              "'Johnny Suh is my DADDY !!'"
            ]
          },
          "metadata": {
            "tags": []
          },
          "execution_count": 86
        }
      ]
    },
    {
      "cell_type": "code",
      "metadata": {
        "colab": {
          "base_uri": "https://localhost:8080/"
        },
        "id": "TlFItLutigwh",
        "outputId": "e8cd2752-5925-4a5c-c03e-de8491fe9ed1"
      },
      "source": [
        "list_a + list_b"
      ],
      "execution_count": 92,
      "outputs": [
        {
          "output_type": "execute_result",
          "data": {
            "text/plain": [
              "['U', 127, 'Dream', 'Way V', '2020']"
            ]
          },
          "metadata": {
            "tags": []
          },
          "execution_count": 92
        }
      ]
    },
    {
      "cell_type": "code",
      "metadata": {
        "colab": {
          "base_uri": "https://localhost:8080/",
          "height": 161
        },
        "id": "5NFnlHnJiymj",
        "outputId": "4ce7e5f6-bbb1-42aa-ffe1-e480b0ff9861"
      },
      "source": [
        "t + list_b  #ไม่สามารถเอา list มาต่อ string ได้"
      ],
      "execution_count": 93,
      "outputs": [
        {
          "output_type": "error",
          "ename": "TypeError",
          "evalue": "ignored",
          "traceback": [
            "\u001b[0;31m---------------------------------------------------------------------------\u001b[0m",
            "\u001b[0;31mTypeError\u001b[0m                                 Traceback (most recent call last)",
            "\u001b[0;32m<ipython-input-93-595774a47886>\u001b[0m in \u001b[0;36m<module>\u001b[0;34m()\u001b[0m\n\u001b[0;32m----> 1\u001b[0;31m \u001b[0mt\u001b[0m \u001b[0;34m+\u001b[0m \u001b[0mlist_b\u001b[0m\u001b[0;34m\u001b[0m\u001b[0;34m\u001b[0m\u001b[0m\n\u001b[0m",
            "\u001b[0;31mTypeError\u001b[0m: must be str, not list"
          ]
        }
      ]
    },
    {
      "cell_type": "markdown",
      "metadata": {
        "id": "7PsxdsH7jIIq"
      },
      "source": [
        "##split string : การแบ่ง string"
      ]
    },
    {
      "cell_type": "code",
      "metadata": {
        "colab": {
          "base_uri": "https://localhost:8080/"
        },
        "id": "LNfuwOoqjKW5",
        "outputId": "808f78a3-c7ad-4a52-94c4-55b38bf96b8a"
      },
      "source": [
        "t.split(' ') #แบ่งคำด้วย ช่องว่าง"
      ],
      "execution_count": 94,
      "outputs": [
        {
          "output_type": "execute_result",
          "data": {
            "text/plain": [
              "['Johnny', 'Suh', 'is', 'my', 'DADDY']"
            ]
          },
          "metadata": {
            "tags": []
          },
          "execution_count": 94
        }
      ]
    },
    {
      "cell_type": "code",
      "metadata": {
        "colab": {
          "base_uri": "https://localhost:8080/"
        },
        "id": "BPXvVvQlk-g-",
        "outputId": "baeca7e3-79d3-45d8-ea9c-f1072d89c00e"
      },
      "source": [
        "t_sp = t.split(' ')\r\n",
        "print(t_sp)\r\n",
        "##วิธีรวมกลับ \r\n",
        "print (' '. join(t_sp))"
      ],
      "execution_count": 95,
      "outputs": [
        {
          "output_type": "stream",
          "text": [
            "['Johnny', 'Suh', 'is', 'my', 'DADDY']\n",
            "Johnny Suh is my DADDY\n"
          ],
          "name": "stdout"
        }
      ]
    },
    {
      "cell_type": "markdown",
      "metadata": {
        "id": "RIfRxWi2kqFN"
      },
      "source": [
        "###  HOME WIRK \r\n",
        "คำนวนเวลาให้เป็นวินาที ต่อไปนี้โดยใช้คำสั่ง split ()  "
      ]
    }
  ]
}