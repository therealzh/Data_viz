{
  "nbformat": 4,
  "nbformat_minor": 0,
  "metadata": {
    "colab": {
      "name": "Python101.ipynb",
      "provenance": [],
      "authorship_tag": "ABX9TyPBLB2Yjham/ZP42EW76MvI",
      "include_colab_link": true
    },
    "kernelspec": {
      "name": "python3",
      "display_name": "Python 3"
    }
  },
  "cells": [
    {
      "cell_type": "markdown",
      "metadata": {
        "id": "view-in-github",
        "colab_type": "text"
      },
      "source": [
        "<a href=\"https://colab.research.google.com/github/therealzh/Data_viz/blob/main/Python101.ipynb\" target=\"_parent\"><img src=\"https://colab.research.google.com/assets/colab-badge.svg\" alt=\"Open In Colab\"/></a>"
      ]
    },
    {
      "cell_type": "markdown",
      "metadata": {
        "id": "HqgZt75ONNjz"
      },
      "source": [
        "\r\n",
        "#**Variable**"
      ]
    },
    {
      "cell_type": "code",
      "metadata": {
        "colab": {
          "base_uri": "https://localhost:8080/"
        },
        "id": "8LcH2WOeS063",
        "outputId": "7880f86a-e26b-4068-e446-3a14830c59cd"
      },
      "source": [
        "a = 2\r\n",
        "print (a)"
      ],
      "execution_count": null,
      "outputs": [
        {
          "output_type": "stream",
          "text": [
            "2\n"
          ],
          "name": "stdout"
        }
      ]
    },
    {
      "cell_type": "markdown",
      "metadata": {
        "id": "L_bdKZJ5Qt-v"
      },
      "source": [
        "ใช้ # สำหรับคอมเม้น"
      ]
    },
    {
      "cell_type": "code",
      "metadata": {
        "colab": {
          "base_uri": "https://localhost:8080/"
        },
        "id": "O4JYPzZQQ8rZ",
        "outputId": "19346b3b-18fd-46da-8d53-dd3e76adc4b3"
      },
      "source": [
        "c = 'zhouzhan'   # จะบอกว่าตัวแปรเป็นข้อความหรือตัวอักษร จะใช้ single qoute (') หรือ double qoute (\")\r\n",
        "print (c)"
      ],
      "execution_count": null,
      "outputs": [
        {
          "output_type": "stream",
          "text": [
            "zhouzhan\n"
          ],
          "name": "stdout"
        }
      ]
    },
    {
      "cell_type": "markdown",
      "metadata": {
        "id": "mjL21duZRlcg"
      },
      "source": [
        "#**Stringไม่สามารถบวกกับตัวเลขได้**"
      ]
    },
    {
      "cell_type": "code",
      "metadata": {
        "colab": {
          "base_uri": "https://localhost:8080/"
        },
        "id": "INtltvyWSFw-",
        "outputId": "3b6889d2-6ec6-4616-fefb-f158a58df452"
      },
      "source": [
        "d = 10.1\r\n",
        "print (d)"
      ],
      "execution_count": null,
      "outputs": [
        {
          "output_type": "stream",
          "text": [
            "10.1\n"
          ],
          "name": "stdout"
        }
      ]
    },
    {
      "cell_type": "code",
      "metadata": {
        "colab": {
          "base_uri": "https://localhost:8080/"
        },
        "id": "8QU6cHsrSPRL",
        "outputId": "9d9062f9-06f5-40ba-a10f-14597a2249a0"
      },
      "source": [
        "d+1"
      ],
      "execution_count": null,
      "outputs": [
        {
          "output_type": "execute_result",
          "data": {
            "text/plain": [
              "11.1"
            ]
          },
          "metadata": {
            "tags": []
          },
          "execution_count": 43
        }
      ]
    },
    {
      "cell_type": "markdown",
      "metadata": {
        "id": "9NCObBAjRzvk"
      },
      "source": [
        "เปล่ี่ยนชนิดตัวแปร"
      ]
    },
    {
      "cell_type": "code",
      "metadata": {
        "colab": {
          "base_uri": "https://localhost:8080/"
        },
        "id": "iGLPFYUJR-SV",
        "outputId": "4a1217f6-5435-43ce-c371-d8434d4f05e1"
      },
      "source": [
        "int (d) + 1  #int จำนวนเต็ม"
      ],
      "execution_count": null,
      "outputs": [
        {
          "output_type": "execute_result",
          "data": {
            "text/plain": [
              "11"
            ]
          },
          "metadata": {
            "tags": []
          },
          "execution_count": 44
        }
      ]
    },
    {
      "cell_type": "code",
      "metadata": {
        "colab": {
          "base_uri": "https://localhost:8080/"
        },
        "id": "OLyEphhDSgvv",
        "outputId": "754c20f9-ca48-4a40-a5f0-ab7a199f18a0"
      },
      "source": [
        "print (d)\r\n",
        "print (float(d)) #float ทศนิยม\r\n",
        "print (str(d)) #ตัวอักษร"
      ],
      "execution_count": null,
      "outputs": [
        {
          "output_type": "stream",
          "text": [
            "10\n",
            "10.0\n",
            "10\n"
          ],
          "name": "stdout"
        }
      ]
    },
    {
      "cell_type": "markdown",
      "metadata": {
        "id": "3FxEdhxnSsGv"
      },
      "source": [
        "#Operation +,-,*,/,%"
      ]
    },
    {
      "cell_type": "code",
      "metadata": {
        "colab": {
          "base_uri": "https://localhost:8080/"
        },
        "id": "hs17LePjSy1F",
        "outputId": "8b4c3a7d-6ae9-46cc-eabd-c768e1d3ae52"
      },
      "source": [
        "a+d"
      ],
      "execution_count": null,
      "outputs": [
        {
          "output_type": "execute_result",
          "data": {
            "text/plain": [
              "12"
            ]
          },
          "metadata": {
            "tags": []
          },
          "execution_count": 11
        }
      ]
    },
    {
      "cell_type": "code",
      "metadata": {
        "colab": {
          "base_uri": "https://localhost:8080/"
        },
        "id": "ccYkh3hVS-ED",
        "outputId": "e77d58fe-62e4-4384-ea78-bfd5664ce27b"
      },
      "source": [
        "ad = a+d\r\n",
        "print (ad)"
      ],
      "execution_count": null,
      "outputs": [
        {
          "output_type": "stream",
          "text": [
            "12\n"
          ],
          "name": "stdout"
        }
      ]
    },
    {
      "cell_type": "markdown",
      "metadata": {
        "id": "KdZy_kaZTLo7"
      },
      "source": [
        "#% modulo การหารเอาเศษ"
      ]
    },
    {
      "cell_type": "code",
      "metadata": {
        "colab": {
          "base_uri": "https://localhost:8080/"
        },
        "id": "ukVhsBJ_TRR0",
        "outputId": "0d5c4bfa-2067-43ab-bcab-13b92458d215"
      },
      "source": [
        "5%3"
      ],
      "execution_count": null,
      "outputs": [
        {
          "output_type": "execute_result",
          "data": {
            "text/plain": [
              "2"
            ]
          },
          "metadata": {
            "tags": []
          },
          "execution_count": 14
        }
      ]
    },
    {
      "cell_type": "code",
      "metadata": {
        "colab": {
          "base_uri": "https://localhost:8080/"
        },
        "id": "vZoCjUdMTTcz",
        "outputId": "d2b24d2f-6e08-4bd1-8408-a3fa8b5c1ed1"
      },
      "source": [
        "209%3"
      ],
      "execution_count": null,
      "outputs": [
        {
          "output_type": "execute_result",
          "data": {
            "text/plain": [
              "2"
            ]
          },
          "metadata": {
            "tags": []
          },
          "execution_count": 16
        }
      ]
    },
    {
      "cell_type": "markdown",
      "metadata": {
        "id": "Al4yzBRRTXDZ"
      },
      "source": [
        "# **คำสั่ง print แบบบพิเศษ (การ format string)**"
      ]
    },
    {
      "cell_type": "code",
      "metadata": {
        "id": "eAuTSQrRToOG"
      },
      "source": [
        "print ('ตัวแปร') #สิ่งที่อยู่ข้างในวงเล็บคือ ตัวแปร และ str(ข้อความ)"
      ],
      "execution_count": null,
      "outputs": []
    },
    {
      "cell_type": "code",
      "metadata": {
        "colab": {
          "base_uri": "https://localhost:8080/"
        },
        "id": "VJWtKmbOT2Yn",
        "outputId": "81278e16-54a7-4d28-c5e8-b7fc6336e038"
      },
      "source": [
        "print ('Johnny Suh NCT \\n IG : johnnysuh' )"
      ],
      "execution_count": null,
      "outputs": [
        {
          "output_type": "stream",
          "text": [
            "Johnny Suh NCT \n",
            " IG : johnnysuh\n"
          ],
          "name": "stdout"
        }
      ]
    },
    {
      "cell_type": "code",
      "metadata": {
        "colab": {
          "base_uri": "https://localhost:8080/"
        },
        "id": "4IzAey_BUKt6",
        "outputId": "1e13e743-c210-4881-8b02-85f8e59b80a6"
      },
      "source": [
        "print (f'% คือการหาญเอาเศษ เช่น 7%3 = {7%3} \\\\\r\n",
        "แต่ \\n / คือการหารแบบปกติ เช่น 7/3 ={7/3} \\\\\r\n",
        "และ \\n // คือการหารเอาส่วน เช่น 7//3 ={7//3} ')  #คำนวนค่าใบ {} ให้เพิ่ม f ในวงเล็บ หน้า single qoute "
      ],
      "execution_count": null,
      "outputs": [
        {
          "output_type": "stream",
          "text": [
            "% คือการหาญเอาเศษ เช่น 7%3 = 1 \\แต่ \n",
            " / คือการหารแบบปกติ เช่น 7/3 =2.3333333333333335 \\และ \n",
            " // คือการหารเอาส่วน เช่น 7//3 =2 \n"
          ],
          "name": "stdout"
        }
      ]
    },
    {
      "cell_type": "code",
      "metadata": {
        "colab": {
          "base_uri": "https://localhost:8080/"
        },
        "id": "S8hpwIU1V3NR",
        "outputId": "cc5019b0-580d-435b-d641-b17922066157"
      },
      "source": [
        "print (f' 127//3 = {127//3} \\n ')\r\n",
        "int(127/3)"
      ],
      "execution_count": null,
      "outputs": [
        {
          "output_type": "stream",
          "text": [
            " 127//3 = 42 \n",
            " \n"
          ],
          "name": "stdout"
        },
        {
          "output_type": "execute_result",
          "data": {
            "text/plain": [
              "42"
            ]
          },
          "metadata": {
            "tags": []
          },
          "execution_count": 45
        }
      ]
    },
    {
      "cell_type": "markdown",
      "metadata": {
        "id": "RLLXGT3oac6o"
      },
      "source": [
        "#DATA STRUCTURE โครงสร้างข้อมูล"
      ]
    },
    {
      "cell_type": "markdown",
      "metadata": {
        "id": "b8Yb8jSWaksc"
      },
      "source": [
        "# #List คือการเอาตัวแปรหลายๆตัวมาเรียงกัน : ได้ทั้งตัวเลขและอักษร"
      ]
    },
    {
      "cell_type": "markdown",
      "metadata": {
        "id": "tjJx2699a1vy"
      },
      "source": [
        "#แบบที่ 1 > square brackets"
      ]
    },
    {
      "cell_type": "code",
      "metadata": {
        "colab": {
          "base_uri": "https://localhost:8080/"
        },
        "id": "varccnBba9ha",
        "outputId": "dd00fdd5-41a7-486b-b9c7-bc4920d8587b"
      },
      "source": [
        "list_a = []\r\n",
        "print (list_a)"
      ],
      "execution_count": 10,
      "outputs": [
        {
          "output_type": "stream",
          "text": [
            "[]\n"
          ],
          "name": "stdout"
        }
      ]
    },
    {
      "cell_type": "code",
      "metadata": {
        "colab": {
          "base_uri": "https://localhost:8080/"
        },
        "id": "sawIgiBRbArH",
        "outputId": "db34f2d5-6586-430c-88b6-405bbdb5cc0b"
      },
      "source": [
        "list_b = ['U',127,'Dream','Way V']\r\n",
        "print (list_b)"
      ],
      "execution_count": 11,
      "outputs": [
        {
          "output_type": "stream",
          "text": [
            "['U', 127, 'Dream', 'Way V']\n"
          ],
          "name": "stdout"
        }
      ]
    },
    {
      "cell_type": "markdown",
      "metadata": {
        "id": "aMNjl6wHbV8F"
      },
      "source": [
        "##ลำดับที่อยู่ใน list มีความสำคัญ เนิ่มจาก 0,1,2,..."
      ]
    },
    {
      "cell_type": "code",
      "metadata": {
        "colab": {
          "base_uri": "https://localhost:8080/",
          "height": 36
        },
        "id": "OzIfXvVFbrUm",
        "outputId": "1111950d-daf4-4c02-9735-6928f1d45f73"
      },
      "source": [
        "list_b[0]"
      ],
      "execution_count": 12,
      "outputs": [
        {
          "output_type": "execute_result",
          "data": {
            "application/vnd.google.colaboratory.intrinsic+json": {
              "type": "string"
            },
            "text/plain": [
              "'U'"
            ]
          },
          "metadata": {
            "tags": []
          },
          "execution_count": 12
        }
      ]
    },
    {
      "cell_type": "markdown",
      "metadata": {
        "id": "bJv-DTVocHPj"
      },
      "source": [
        "#แบบที่ 2 "
      ]
    },
    {
      "cell_type": "markdown",
      "metadata": {
        "id": "sb5BOl8ncQGw"
      },
      "source": [
        "#append() เพิ่มสมาชิกใน list"
      ]
    },
    {
      "cell_type": "code",
      "metadata": {
        "colab": {
          "base_uri": "https://localhost:8080/"
        },
        "id": "qIxC4iS6cVof",
        "outputId": "3c923f97-d430-49a2-cdab-439777a568cb"
      },
      "source": [
        "list_b.append('2020')\r\n",
        "print (list_b)"
      ],
      "execution_count": 13,
      "outputs": [
        {
          "output_type": "stream",
          "text": [
            "['U', 127, 'Dream', 'Way V', '2020']\n"
          ],
          "name": "stdout"
        }
      ]
    },
    {
      "cell_type": "markdown",
      "metadata": {
        "id": "jN50iSU0dGDx"
      },
      "source": [
        "##String > list of characcharacters "
      ]
    },
    {
      "cell_type": "code",
      "metadata": {
        "colab": {
          "base_uri": "https://localhost:8080/",
          "height": 36
        },
        "id": "ITiMQwNZdKlj",
        "outputId": "ec6d02ba-6a00-4a0e-c441-1cc34dc07fbb"
      },
      "source": [
        "t = 'Johnny Suh is my DADDY'\r\n",
        "t"
      ],
      "execution_count": 14,
      "outputs": [
        {
          "output_type": "execute_result",
          "data": {
            "application/vnd.google.colaboratory.intrinsic+json": {
              "type": "string"
            },
            "text/plain": [
              "'Johnny Suh is my DADDY'"
            ]
          },
          "metadata": {
            "tags": []
          },
          "execution_count": 14
        }
      ]
    },
    {
      "cell_type": "code",
      "metadata": {
        "colab": {
          "base_uri": "https://localhost:8080/"
        },
        "id": "gkRBOON0dTM1",
        "outputId": "5df527df-f7a2-4c44-f1af-3e77e194d8be"
      },
      "source": [
        "len (list_b) # len คือคำสั่งตรวจสอบความยาวของ list หรือ จำนวนสมาชิก"
      ],
      "execution_count": 15,
      "outputs": [
        {
          "output_type": "execute_result",
          "data": {
            "text/plain": [
              "5"
            ]
          },
          "metadata": {
            "tags": []
          },
          "execution_count": 15
        }
      ]
    },
    {
      "cell_type": "code",
      "metadata": {
        "colab": {
          "base_uri": "https://localhost:8080/"
        },
        "id": "D6g1KfaMdvVN",
        "outputId": "f07e301c-7333-434f-8032-7d6566941563"
      },
      "source": [
        "len(t)"
      ],
      "execution_count": 16,
      "outputs": [
        {
          "output_type": "execute_result",
          "data": {
            "text/plain": [
              "22"
            ]
          },
          "metadata": {
            "tags": []
          },
          "execution_count": 16
        }
      ]
    },
    {
      "cell_type": "markdown",
      "metadata": {
        "id": "Hk6HEK5zeCrW"
      },
      "source": [
        "### access a member of a list (list&string)\r\n",
        "### โดยเริ่มนับจาก 0\r\n",
        "### สมาชิกตัวแรก คือ 0\r\n",
        "### ตัวสุดท้ายคือ -1\r\n",
        "###หรือสามารถนับเริ่มจาก -1 ได้ จะเป็นการนับจากด้านหลัง"
      ]
    },
    {
      "cell_type": "code",
      "metadata": {
        "colab": {
          "base_uri": "https://localhost:8080/",
          "height": 36
        },
        "id": "PCZRXYe2eRsj",
        "outputId": "078d3a15-c409-4c29-b1c4-4d8f46f77144"
      },
      "source": [
        "t[0]"
      ],
      "execution_count": null,
      "outputs": [
        {
          "output_type": "execute_result",
          "data": {
            "application/vnd.google.colaboratory.intrinsic+json": {
              "type": "string"
            },
            "text/plain": [
              "'J'"
            ]
          },
          "metadata": {
            "tags": []
          },
          "execution_count": 73
        }
      ]
    },
    {
      "cell_type": "code",
      "metadata": {
        "colab": {
          "base_uri": "https://localhost:8080/",
          "height": 36
        },
        "id": "oRzXgO1Zel7w",
        "outputId": "1df40797-3483-4e57-fb2c-10a3e521462e"
      },
      "source": [
        "t[3]"
      ],
      "execution_count": null,
      "outputs": [
        {
          "output_type": "execute_result",
          "data": {
            "application/vnd.google.colaboratory.intrinsic+json": {
              "type": "string"
            },
            "text/plain": [
              "'n'"
            ]
          },
          "metadata": {
            "tags": []
          },
          "execution_count": 74
        }
      ]
    },
    {
      "cell_type": "code",
      "metadata": {
        "colab": {
          "base_uri": "https://localhost:8080/",
          "height": 36
        },
        "id": "L8dTgPeOepyV",
        "outputId": "86e48b8c-8b4f-416e-9a5d-5e7f563a586f"
      },
      "source": [
        "t[21]"
      ],
      "execution_count": null,
      "outputs": [
        {
          "output_type": "execute_result",
          "data": {
            "application/vnd.google.colaboratory.intrinsic+json": {
              "type": "string"
            },
            "text/plain": [
              "'Y'"
            ]
          },
          "metadata": {
            "tags": []
          },
          "execution_count": 75
        }
      ]
    },
    {
      "cell_type": "code",
      "metadata": {
        "colab": {
          "base_uri": "https://localhost:8080/",
          "height": 36
        },
        "id": "Cpe3ysJUesyl",
        "outputId": "b537fa0d-618f-496d-ec4c-6514f750a76d"
      },
      "source": [
        "t[20]"
      ],
      "execution_count": null,
      "outputs": [
        {
          "output_type": "execute_result",
          "data": {
            "application/vnd.google.colaboratory.intrinsic+json": {
              "type": "string"
            },
            "text/plain": [
              "'D'"
            ]
          },
          "metadata": {
            "tags": []
          },
          "execution_count": 76
        }
      ]
    },
    {
      "cell_type": "code",
      "metadata": {
        "colab": {
          "base_uri": "https://localhost:8080/",
          "height": 36
        },
        "id": "geZovNbce2CW",
        "outputId": "de35382f-bfe0-4b60-876c-ab3cbfb226c4"
      },
      "source": [
        "t[-3]"
      ],
      "execution_count": null,
      "outputs": [
        {
          "output_type": "execute_result",
          "data": {
            "application/vnd.google.colaboratory.intrinsic+json": {
              "type": "string"
            },
            "text/plain": [
              "'D'"
            ]
          },
          "metadata": {
            "tags": []
          },
          "execution_count": 77
        }
      ]
    },
    {
      "cell_type": "code",
      "metadata": {
        "colab": {
          "base_uri": "https://localhost:8080/",
          "height": 36
        },
        "id": "c6gzENdee4ts",
        "outputId": "4ff3bcf7-61fa-4e89-a9bc-a6dbf3f45712"
      },
      "source": [
        "t[-4]"
      ],
      "execution_count": null,
      "outputs": [
        {
          "output_type": "execute_result",
          "data": {
            "application/vnd.google.colaboratory.intrinsic+json": {
              "type": "string"
            },
            "text/plain": [
              "'A'"
            ]
          },
          "metadata": {
            "tags": []
          },
          "execution_count": 78
        }
      ]
    },
    {
      "cell_type": "markdown",
      "metadata": {
        "id": "WM4s20iCfcLT"
      },
      "source": [
        "###List scling สามารถทำได้โดยใช้ colon :\r\n",
        "[a:b] -> [a,b)"
      ]
    },
    {
      "cell_type": "code",
      "metadata": {
        "colab": {
          "base_uri": "https://localhost:8080/"
        },
        "id": "d-Nd2C_ofrsD",
        "outputId": "e6156e69-133b-4cfe-fe09-715b01fc4e10"
      },
      "source": [
        "print (t[0:5])\r\n",
        "print (t[ : 6]) #เว้นว่างหน้า : คือ เริ่มตั้งแต่ตัวแรก\r\n",
        "print (t[0: ]) # เว้นหลัง : คือ ถึงตัวสุดท้าย\r\n",
        "print (t [ : ])"
      ],
      "execution_count": 17,
      "outputs": [
        {
          "output_type": "stream",
          "text": [
            "Johnn\n",
            "Johnny\n",
            "Johnny Suh is my DADDY\n",
            "Johnny Suh is my DADDY\n"
          ],
          "name": "stdout"
        }
      ]
    },
    {
      "cell_type": "code",
      "metadata": {
        "id": "zdWR4ceFa4o9",
        "outputId": "8dce2593-74f5-47f4-a18b-6335b6e56d39",
        "colab": {
          "base_uri": "https://localhost:8080/"
        }
      },
      "source": [
        "print(t[::2])"
      ],
      "execution_count": 26,
      "outputs": [
        {
          "output_type": "stream",
          "text": [
            "Jhn u sm AD\n"
          ],
          "name": "stdout"
        }
      ]
    },
    {
      "cell_type": "code",
      "metadata": {
        "colab": {
          "base_uri": "https://localhost:8080/",
          "height": 36
        },
        "id": "iY7rQ0FAiaUe",
        "outputId": "a6ed7c97-3a18-4087-c4c7-7997a54ba4d4"
      },
      "source": [
        "t + ' !!'"
      ],
      "execution_count": 18,
      "outputs": [
        {
          "output_type": "execute_result",
          "data": {
            "application/vnd.google.colaboratory.intrinsic+json": {
              "type": "string"
            },
            "text/plain": [
              "'Johnny Suh is my DADDY !!'"
            ]
          },
          "metadata": {
            "tags": []
          },
          "execution_count": 18
        }
      ]
    },
    {
      "cell_type": "code",
      "metadata": {
        "colab": {
          "base_uri": "https://localhost:8080/"
        },
        "id": "TlFItLutigwh",
        "outputId": "7ab89785-8760-4a37-ef39-9e2772d10c05"
      },
      "source": [
        "list_a + list_b"
      ],
      "execution_count": 19,
      "outputs": [
        {
          "output_type": "execute_result",
          "data": {
            "text/plain": [
              "['U', 127, 'Dream', 'Way V', '2020']"
            ]
          },
          "metadata": {
            "tags": []
          },
          "execution_count": 19
        }
      ]
    },
    {
      "cell_type": "code",
      "metadata": {
        "colab": {
          "base_uri": "https://localhost:8080/",
          "height": 161
        },
        "id": "5NFnlHnJiymj",
        "outputId": "24e2d831-8977-40ca-cd68-d46f85bf0054"
      },
      "source": [
        "t + list_b  #ไม่สามารถเอา list มาต่อ string ได้"
      ],
      "execution_count": 20,
      "outputs": [
        {
          "output_type": "error",
          "ename": "TypeError",
          "evalue": "ignored",
          "traceback": [
            "\u001b[0;31m---------------------------------------------------------------------------\u001b[0m",
            "\u001b[0;31mTypeError\u001b[0m                                 Traceback (most recent call last)",
            "\u001b[0;32m<ipython-input-20-cac7de209db9>\u001b[0m in \u001b[0;36m<module>\u001b[0;34m()\u001b[0m\n\u001b[0;32m----> 1\u001b[0;31m \u001b[0mt\u001b[0m \u001b[0;34m+\u001b[0m \u001b[0mlist_b\u001b[0m  \u001b[0;31m#ไม่สามารถเอา list มาต่อ string ได้\u001b[0m\u001b[0;34m\u001b[0m\u001b[0;34m\u001b[0m\u001b[0m\n\u001b[0m",
            "\u001b[0;31mTypeError\u001b[0m: must be str, not list"
          ]
        }
      ]
    },
    {
      "cell_type": "markdown",
      "metadata": {
        "id": "7PsxdsH7jIIq"
      },
      "source": [
        "##split string : การแบ่ง string"
      ]
    },
    {
      "cell_type": "code",
      "metadata": {
        "colab": {
          "base_uri": "https://localhost:8080/"
        },
        "id": "LNfuwOoqjKW5",
        "outputId": "a39ae82d-233a-4a73-a1fe-a047f52944ea"
      },
      "source": [
        "t.split(' ') #แบ่งคำด้วย ช่องว่าง"
      ],
      "execution_count": 21,
      "outputs": [
        {
          "output_type": "execute_result",
          "data": {
            "text/plain": [
              "['Johnny', 'Suh', 'is', 'my', 'DADDY']"
            ]
          },
          "metadata": {
            "tags": []
          },
          "execution_count": 21
        }
      ]
    },
    {
      "cell_type": "code",
      "metadata": {
        "colab": {
          "base_uri": "https://localhost:8080/"
        },
        "id": "BPXvVvQlk-g-",
        "outputId": "178580e8-c900-4376-b8c2-9bfc51c00b9d"
      },
      "source": [
        "t_sp = t.split(' ')\r\n",
        "print(t_sp)\r\n",
        "##วิธีรวมกลับ \r\n",
        "print (' '. join(t_sp))"
      ],
      "execution_count": 22,
      "outputs": [
        {
          "output_type": "stream",
          "text": [
            "['Johnny', 'Suh', 'is', 'my', 'DADDY']\n",
            "Johnny Suh is my DADDY\n"
          ],
          "name": "stdout"
        }
      ]
    },
    {
      "cell_type": "markdown",
      "metadata": {
        "id": "RIfRxWi2kqFN"
      },
      "source": [
        "###  HOME WORK \r\n",
        "คำนวนเวลาให้เป็นวินาที ต่อไปนี้โดยใช้คำสั่ง split ()  \r\n",
        "1. 12:30:15\r\n",
        "\r\n",
        "2. 13:41:07\r\n",
        "\r\n",
        "3. 12:53:15\r\n",
        "\r\n",
        "4. 00:59:25\r\n",
        "\r\n",
        "5. 11:11:11\r\n",
        "\r\n",
        "6. 16:06:09"
      ]
    },
    {
      "cell_type": "code",
      "metadata": {
        "id": "_bheBKgCxO_E"
      },
      "source": [
        "u = '12:30:15'\r\n",
        "v = '13:41:07'\r\n",
        "w = '12:53:15'\r\n",
        "x = '00:59:25'\r\n",
        "y = '11:11:11'\r\n",
        "z = '16:06:09'\r\n"
      ],
      "execution_count": null,
      "outputs": []
    },
    {
      "cell_type": "code",
      "metadata": {
        "colab": {
          "base_uri": "https://localhost:8080/"
        },
        "id": "GkPyg02s2sy5",
        "outputId": "c3fccdd4-d9a7-41e9-9e40-f692060c1606"
      },
      "source": [
        "timeu = u.split(':')\r\n",
        "timeu\r\n",
        "ux = int(timeu[0])*3600\r\n",
        "uy = int(timeu[1])*60\r\n",
        "uz = int(timeu[2])\r\n",
        "print (f' 12:30:15 เท่ากับ {ux + uy + uz} วินาที')"
      ],
      "execution_count": null,
      "outputs": [
        {
          "output_type": "stream",
          "text": [
            " 12:30:15 เท่ากับ 45015 วินาที\n"
          ],
          "name": "stdout"
        }
      ]
    },
    {
      "cell_type": "code",
      "metadata": {
        "colab": {
          "base_uri": "https://localhost:8080/"
        },
        "id": "Vt6Q6u8zylHE",
        "outputId": "a7143fe6-3944-4ee8-fdd1-ef93751b4c11"
      },
      "source": [
        "timev = v.split(':')\r\n",
        "timev\r\n",
        "vx = int(timev[0])*3600\r\n",
        "vy = int(timev[1])*60\r\n",
        "vz = int(timev[2])\r\n",
        "print (f' 13:41:07 เท่ากับ {vx + vy + vz} วินาที')"
      ],
      "execution_count": null,
      "outputs": [
        {
          "output_type": "stream",
          "text": [
            " 13:41:07 เท่ากับ 49267 วินาที\n"
          ],
          "name": "stdout"
        }
      ]
    },
    {
      "cell_type": "code",
      "metadata": {
        "colab": {
          "base_uri": "https://localhost:8080/"
        },
        "id": "1yglpc4y1oeP",
        "outputId": "5c10b523-6a98-49a9-d92c-cbad1e388afd"
      },
      "source": [
        "timew = w.split(':')\r\n",
        "timew\r\n",
        "wx = int(timew[0])*3600\r\n",
        "wy = int(timew[1])*60\r\n",
        "wz = int(timew[2])\r\n",
        "print (f' 12:53:15 เท่ากับ {wx + wy + wz} วินาที')"
      ],
      "execution_count": null,
      "outputs": [
        {
          "output_type": "stream",
          "text": [
            " 12:53:15 เท่ากับ 46395 วินาที\n"
          ],
          "name": "stdout"
        }
      ]
    },
    {
      "cell_type": "code",
      "metadata": {
        "colab": {
          "base_uri": "https://localhost:8080/"
        },
        "id": "1N7nXMZj12JC",
        "outputId": "d7a23888-32eb-4ddb-a381-7e69c17a231f"
      },
      "source": [
        "timex = x.split(':')\r\n",
        "timex\r\n",
        "xx = int(timex[0])*3600\r\n",
        "xy = int(timex[1])*60\r\n",
        "xz = int(timex[2])\r\n",
        "print (f' 00:59:25 เท่ากับ {xx + xy + xz} วินาที')"
      ],
      "execution_count": null,
      "outputs": [
        {
          "output_type": "stream",
          "text": [
            " 00:59:25 เท่ากับ 3565 วินาที\n"
          ],
          "name": "stdout"
        }
      ]
    },
    {
      "cell_type": "code",
      "metadata": {
        "colab": {
          "base_uri": "https://localhost:8080/"
        },
        "id": "9D2DeX3P2OlQ",
        "outputId": "04ea2e2d-2c2e-48b9-83d8-b76ead5dbfcd"
      },
      "source": [
        "timey = y.split(':')\r\n",
        "timey\r\n",
        "yx = int(timey[0])*3600\r\n",
        "yy = int(timey[1])*60\r\n",
        "yz = int(timey[2])\r\n",
        "print (f' 11:11:11 เท่ากับ {yx + yy + yz} วินาที')"
      ],
      "execution_count": null,
      "outputs": [
        {
          "output_type": "stream",
          "text": [
            " 11:11:11 เท่ากับ 40271 วินาที\n"
          ],
          "name": "stdout"
        }
      ]
    },
    {
      "cell_type": "code",
      "metadata": {
        "colab": {
          "base_uri": "https://localhost:8080/"
        },
        "id": "C-gtlqcA2a0U",
        "outputId": "2d544ef2-1d0b-4b51-8b96-2343d757e54a"
      },
      "source": [
        "timez = z.split(':')\r\n",
        "timez\r\n",
        "zx = int(timez[0])*3600\r\n",
        "zy = int(timez[1])*60\r\n",
        "zz = int(timez[2])\r\n",
        "print (f' 16:06:09 เท่ากับ {zx + zy + zz} วินาที')"
      ],
      "execution_count": null,
      "outputs": [
        {
          "output_type": "stream",
          "text": [
            " 12:53:15 เท่ากับ 57969 วินาที\n"
          ],
          "name": "stdout"
        }
      ]
    },
    {
      "cell_type": "markdown",
      "metadata": {
        "id": "1JRF0n7FsDgl"
      },
      "source": [
        "###ให้สร้างฟังก์ชันคำนวณเวลาเป็นวินาทีของเวลาใดๆ และ print ออกมาให้สวยงาม"
      ]
    },
    {
      "cell_type": "code",
      "metadata": {
        "id": "SX-AqyFfr8_t"
      },
      "source": [
        "def time_zh(time):\r\n",
        "  list_time = time.split ( ' : ' )\r\n",
        "  hr= (int(list_time[0])*3600)\r\n",
        "  min= (int(list_time[1])*60)\r\n",
        "  sec= (int(list_time[-1]))  \r\n",
        "  au =  f' เวลา  {time} นาฬิกา คำนวณได้ = {hr+min+sec} วินาที'\r\n",
        "  print(au)"
      ],
      "execution_count": null,
      "outputs": []
    },
    {
      "cell_type": "code",
      "metadata": {
        "colab": {
          "base_uri": "https://localhost:8080/"
        },
        "id": "gAybJwY_sTld",
        "outputId": "ecdffa36-8222-471e-d9c3-9d6f7070b46a"
      },
      "source": [
        "time_zh( '12 : 30 : 15' )\r\n",
        "time_zh( '13 : 41 : 07' )\r\n",
        "time_zh( '12 : 53 : 15' )\r\n",
        "time_zh( '00 : 59 : 25' )\r\n",
        "time_zh( '11 : 11 : 11' )\r\n",
        "time_zh( '16 : 06 : 09' )"
      ],
      "execution_count": null,
      "outputs": [
        {
          "output_type": "stream",
          "text": [
            " เวลา  12 : 30 : 15 นาฬิกา คำนวณได้ = 45015 วินาที\n",
            " เวลา  13 : 41 : 07 นาฬิกา คำนวณได้ = 49267 วินาที\n",
            " เวลา  12 : 53 : 15 นาฬิกา คำนวณได้ = 46395 วินาที\n",
            " เวลา  00 : 59 : 25 นาฬิกา คำนวณได้ = 3565 วินาที\n",
            " เวลา  11 : 11 : 11 นาฬิกา คำนวณได้ = 40271 วินาที\n",
            " เวลา  16 : 06 : 09 นาฬิกา คำนวณได้ = 57969 วินาที\n"
          ],
          "name": "stdout"
        }
      ]
    },
    {
      "cell_type": "code",
      "metadata": {
        "id": "kw9TvZjRsyff"
      },
      "source": [
        "list_timezz = ['12 : 30 : 15' ,'13 : 41 : 07' ,'12 : 53 : 15' , '00 : 59 : 25' ,'11 : 11 : 11','16 : 06 : 09']"
      ],
      "execution_count": null,
      "outputs": []
    },
    {
      "cell_type": "code",
      "metadata": {
        "colab": {
          "base_uri": "https://localhost:8080/"
        },
        "id": "nX2nfKOHs05W",
        "outputId": "1f763a96-b4ba-4f24-d76a-311ab739f7e2"
      },
      "source": [
        "for i in list_timezz :\r\n",
        "     time_zh(i)"
      ],
      "execution_count": null,
      "outputs": [
        {
          "output_type": "stream",
          "text": [
            " เวลา  12 : 30 : 15 นาฬิกา คำนวณได้ = 45015 วินาที\n",
            " เวลา  13 : 41 : 07 นาฬิกา คำนวณได้ = 49267 วินาที\n",
            " เวลา  12 : 53 : 15 นาฬิกา คำนวณได้ = 46395 วินาที\n",
            " เวลา  00 : 59 : 25 นาฬิกา คำนวณได้ = 3565 วินาที\n",
            " เวลา  11 : 11 : 11 นาฬิกา คำนวณได้ = 40271 วินาที\n",
            " เวลา  16 : 06 : 09 นาฬิกา คำนวณได้ = 57969 วินาที\n"
          ],
          "name": "stdout"
        }
      ]
    }
  ]
}