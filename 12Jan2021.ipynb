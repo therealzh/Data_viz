{
  "nbformat": 4,
  "nbformat_minor": 0,
  "metadata": {
    "colab": {
      "name": "12Jan2021.ipynb",
      "provenance": [],
      "authorship_tag": "ABX9TyOW6wc9JtwTZudIb6AwJv8r",
      "include_colab_link": true
    },
    "kernelspec": {
      "name": "python3",
      "display_name": "Python 3"
    }
  },
  "cells": [
    {
      "cell_type": "markdown",
      "metadata": {
        "id": "view-in-github",
        "colab_type": "text"
      },
      "source": [
        "<a href=\"https://colab.research.google.com/github/therealzh/Data_viz/blob/main/12Jan2021.ipynb\" target=\"_parent\"><img src=\"https://colab.research.google.com/assets/colab-badge.svg\" alt=\"Open In Colab\"/></a>"
      ]
    },
    {
      "cell_type": "markdown",
      "metadata": {
        "id": "FC58dVfAVoHH"
      },
      "source": [
        "### 12 Jan 2021"
      ]
    },
    {
      "cell_type": "code",
      "metadata": {
        "id": "joMpWxejV7Bh"
      },
      "source": [
        "ตัวอย่างการใช้คำสั่ง for ในการวนซ้ำค่าของ i เมื่อ i คือ 'Zhouhan' และคำสั่ง print(f'{i}')"
      ],
      "execution_count": null,
      "outputs": []
    },
    {
      "cell_type": "code",
      "metadata": {
        "colab": {
          "base_uri": "https://localhost:8080/",
          "height": 127
        },
        "id": "w9p332-YWOVE",
        "outputId": "ca65ee3f-358d-4b4b-9df9-150ab327bc95"
      },
      "source": [
        "Z -> /\r\n",
        "h -> /\r\n",
        "o -> /\r\n",
        "u -> /\r\n",
        "z -> /\r\n",
        "h -> /\r\n",
        "a -> /\r\n",
        "n -> /\r\n"
      ],
      "execution_count": null,
      "outputs": [
        {
          "output_type": "error",
          "ename": "SyntaxError",
          "evalue": "ignored",
          "traceback": [
            "\u001b[0;36m  File \u001b[0;32m\"<ipython-input-5-e1a53e6e4753>\"\u001b[0;36m, line \u001b[0;32m1\u001b[0m\n\u001b[0;31m    Z -> /\u001b[0m\n\u001b[0m       ^\u001b[0m\n\u001b[0;31mSyntaxError\u001b[0m\u001b[0;31m:\u001b[0m invalid syntax\n"
          ]
        }
      ]
    },
    {
      "cell_type": "code",
      "metadata": {
        "colab": {
          "base_uri": "https://localhost:8080/"
        },
        "id": "NonA1_ZxWaTP",
        "outputId": "9fb05adf-d444-42e6-ce6f-5e5acf4c5471"
      },
      "source": [
        "for i in 'Zhouzhan' :\r\n",
        "      print(f'{i} -> / ', end = ' ')  #print แบบเว้นบรรทัด"
      ],
      "execution_count": null,
      "outputs": [
        {
          "output_type": "stream",
          "text": [
            "Z -> /  h -> /  o -> /  u -> /  z -> /  h -> /  a -> /  n -> /  "
          ],
          "name": "stdout"
        }
      ]
    },
    {
      "cell_type": "code",
      "metadata": {
        "colab": {
          "base_uri": "https://localhost:8080/"
        },
        "id": "x-8wGOMMW-nh",
        "outputId": "b7bf7db9-cf65-41f1-da24-c85385373985"
      },
      "source": [
        "for i in 'Zhouzhan' :\r\n",
        "      print(f'{i} -> / ', end = ',')  #print แบบไม่เว้นบรรทัด"
      ],
      "execution_count": null,
      "outputs": [
        {
          "output_type": "stream",
          "text": [
            "Z -> / ,h -> / ,o -> / ,u -> / ,z -> / ,h -> / ,a -> / ,n -> / ,"
          ],
          "name": "stdout"
        }
      ]
    },
    {
      "cell_type": "markdown",
      "metadata": {
        "id": "Ao4LrY8JXacr"
      },
      "source": [
        "###สร้าง list ตัวเลข"
      ]
    },
    {
      "cell_type": "code",
      "metadata": {
        "colab": {
          "base_uri": "https://localhost:8080/"
        },
        "id": "Upx-UvedXZMw",
        "outputId": "67bf4dfc-8046-4c98-bee1-8bc22359c938"
      },
      "source": [
        "range5_output = range(5)\r\n",
        "print(list(range5_output))"
      ],
      "execution_count": null,
      "outputs": [
        {
          "output_type": "stream",
          "text": [
            "[0, 1, 2, 3, 4]\n"
          ],
          "name": "stdout"
        }
      ]
    },
    {
      "cell_type": "code",
      "metadata": {
        "colab": {
          "base_uri": "https://localhost:8080/"
        },
        "id": "ISgeQGGPYT_O",
        "outputId": "86dadd18-5ef1-472f-d8e1-cc7fb66f9259"
      },
      "source": [
        "for i in range(100) :\r\n",
        "    print ('งง' ,end=' '  )"
      ],
      "execution_count": null,
      "outputs": [
        {
          "output_type": "stream",
          "text": [
            "งง งง งง งง งง งง งง งง งง งง งง งง งง งง งง งง งง งง งง งง งง งง งง งง งง งง งง งง งง งง งง งง งง งง งง งง งง งง งง งง งง งง งง งง งง งง งง งง งง งง งง งง งง งง งง งง งง งง งง งง งง งง งง งง งง งง งง งง งง งง งง งง งง งง งง งง งง งง งง งง งง งง งง งง งง งง งง งง งง งง งง งง งง งง งง งง งง งง งง งง "
          ],
          "name": "stdout"
        }
      ]
    },
    {
      "cell_type": "code",
      "metadata": {
        "colab": {
          "base_uri": "https://localhost:8080/"
        },
        "id": "CMgf5aeKY0BF",
        "outputId": "d2b69035-8916-4e2b-8a57-0803f933ca26"
      },
      "source": [
        "list(range(1,11)) #เริ่มต้นที่วงกลมทึบ จบที่วงกลมโปร่ง เหมือน list slicing"
      ],
      "execution_count": null,
      "outputs": [
        {
          "output_type": "execute_result",
          "data": {
            "text/plain": [
              "[1, 2, 3, 4, 5, 6, 7, 8, 9, 10]"
            ]
          },
          "metadata": {
            "tags": []
          },
          "execution_count": 16
        }
      ]
    },
    {
      "cell_type": "code",
      "metadata": {
        "colab": {
          "base_uri": "https://localhost:8080/"
        },
        "id": "Twcww-EuckIz",
        "outputId": "9e7f2f39-3bd5-49ee-d93a-097245bca632"
      },
      "source": [
        "list(range(-3,20,4))  #เริ่มที่ -3 ไปจนถึง 20 โดยเพิ่มขึ้นที่ละ 4"
      ],
      "execution_count": null,
      "outputs": [
        {
          "output_type": "execute_result",
          "data": {
            "text/plain": [
              "[-3, 1, 5, 9, 13, 17]"
            ]
          },
          "metadata": {
            "tags": []
          },
          "execution_count": 17
        }
      ]
    },
    {
      "cell_type": "markdown",
      "metadata": {
        "id": "mhJ1Yaaxc-nR"
      },
      "source": [
        "###loop in loop\r\n",
        "สามารถใช้ loop ซ้ำ 2 รอบได้"
      ]
    },
    {
      "cell_type": "code",
      "metadata": {
        "colab": {
          "base_uri": "https://localhost:8080/",
          "height": 127
        },
        "id": "2wBvY587dDnA",
        "outputId": "5b353e32-9171-412e-a771-b6e20ff99385"
      },
      "source": [
        "for name1 in range(2,5) : \r\n",
        "      print(f'now name = ' range(2,5))\r\n",
        "      for name2 in (1,13) :\r\n",
        "            print(name1, 'x' , name2, '=', name1*name2)"
      ],
      "execution_count": null,
      "outputs": [
        {
          "output_type": "error",
          "ename": "SyntaxError",
          "evalue": "ignored",
          "traceback": [
            "\u001b[0;36m  File \u001b[0;32m\"<ipython-input-25-6c513eccd66d>\"\u001b[0;36m, line \u001b[0;32m2\u001b[0m\n\u001b[0;31m    print(f'now name = ' range(2,5))\u001b[0m\n\u001b[0m                             ^\u001b[0m\n\u001b[0;31mSyntaxError\u001b[0m\u001b[0;31m:\u001b[0m invalid syntax\n"
          ]
        }
      ]
    },
    {
      "cell_type": "markdown",
      "metadata": {
        "id": "57sfZilXgEwp"
      },
      "source": [
        "###ลุกไปเข้าห้องน้ำแป๊บเดียว  อ.ไปไวมาก  ตามไม่ทัน  จะให้เริ่มใหม่หมดก็กลัวเพื่อนด่า  เอาเป็นว่าจะตามไปเก็บเพิ่มย้อนหลังนะคะ  ขอบคุณค่ะ // กราบ"
      ]
    }
  ]
}