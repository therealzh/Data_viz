{
  "nbformat": 4,
  "nbformat_minor": 0,
  "metadata": {
    "colab": {
      "name": "More advanced data structure.ipynb",
      "provenance": [],
      "authorship_tag": "ABX9TyNTPW1D3m0R5bP/MCAN5Xxz",
      "include_colab_link": true
    },
    "kernelspec": {
      "name": "python3",
      "display_name": "Python 3"
    }
  },
  "cells": [
    {
      "cell_type": "markdown",
      "metadata": {
        "id": "view-in-github",
        "colab_type": "text"
      },
      "source": [
        "<a href=\"https://colab.research.google.com/github/therealzh/Data_viz/blob/main/More_advanced_data_structure.ipynb\" target=\"_parent\"><img src=\"https://colab.research.google.com/assets/colab-badge.svg\" alt=\"Open In Colab\"/></a>"
      ]
    },
    {
      "cell_type": "markdown",
      "metadata": {
        "id": "trRgCc7Rnbqd"
      },
      "source": [
        "# Dictionary\r\n",
        "สามารถ index ด้วยอะไรก็ได้ แต่ลำดับจะหายไป"
      ]
    },
    {
      "cell_type": "code",
      "metadata": {
        "id": "NOK-241Il_Lo"
      },
      "source": [
        "ex_dict = {'a':10, '1':1, 'zhouzhan':5} #Curly brackets ในหารบอกว่าเป็น dictionary"
      ],
      "execution_count": null,
      "outputs": []
    },
    {
      "cell_type": "code",
      "metadata": {
        "colab": {
          "base_uri": "https://localhost:8080/"
        },
        "id": "bq0VjZC7o-mh",
        "outputId": "e01f247b-3d7f-4bed-b16e-81a58544282c"
      },
      "source": [
        "ex_dict ['zhouzhan']"
      ],
      "execution_count": null,
      "outputs": [
        {
          "output_type": "execute_result",
          "data": {
            "text/plain": [
              "5"
            ]
          },
          "metadata": {
            "tags": []
          },
          "execution_count": 7
        }
      ]
    },
    {
      "cell_type": "code",
      "metadata": {
        "id": "zZ6WwRU3pZH7"
      },
      "source": [
        "ex2_dict = {1 : 'one', 2:'two', 3:'three'}"
      ],
      "execution_count": null,
      "outputs": []
    },
    {
      "cell_type": "code",
      "metadata": {
        "colab": {
          "base_uri": "https://localhost:8080/",
          "height": 36
        },
        "id": "bSH-g2q3pmMc",
        "outputId": "4d5a2901-76e3-4f94-f1f4-6f38959a7e34"
      },
      "source": [
        "ex2_dict[2]"
      ],
      "execution_count": null,
      "outputs": [
        {
          "output_type": "execute_result",
          "data": {
            "application/vnd.google.colaboratory.intrinsic+json": {
              "type": "string"
            },
            "text/plain": [
              "'two'"
            ]
          },
          "metadata": {
            "tags": []
          },
          "execution_count": 9
        }
      ]
    },
    {
      "cell_type": "markdown",
      "metadata": {
        "id": "yTvE5GmXqSWt"
      },
      "source": [
        "#การเพิ่มสมาชิกใน dictionary"
      ]
    },
    {
      "cell_type": "code",
      "metadata": {
        "id": "s2Pw2fwHqWw-"
      },
      "source": [
        "ex2_dict[0] = 'zero'"
      ],
      "execution_count": null,
      "outputs": []
    },
    {
      "cell_type": "code",
      "metadata": {
        "colab": {
          "base_uri": "https://localhost:8080/"
        },
        "id": "SDbuKzHcqvnU",
        "outputId": "d0557ed6-8979-40ec-a9f1-a81e82b88821"
      },
      "source": [
        "ex2_dict"
      ],
      "execution_count": null,
      "outputs": [
        {
          "output_type": "execute_result",
          "data": {
            "text/plain": [
              "{0: 'zero', 1: 'one', 2: 'two', 3: 'three'}"
            ]
          },
          "metadata": {
            "tags": []
          },
          "execution_count": 11
        }
      ]
    },
    {
      "cell_type": "markdown",
      "metadata": {
        "id": "TCx84kjLqyi3"
      },
      "source": [
        "คำสั่งที่ใช้บ่อย"
      ]
    },
    {
      "cell_type": "code",
      "metadata": {
        "colab": {
          "base_uri": "https://localhost:8080/"
        },
        "id": "bwXhyXuDq3Xw",
        "outputId": "e5d5f8fd-1cdc-423f-91d8-7832823fb5f6"
      },
      "source": [
        "ex2_dict.keys() #print keys ทั้งหมด"
      ],
      "execution_count": null,
      "outputs": [
        {
          "output_type": "execute_result",
          "data": {
            "text/plain": [
              "dict_keys([1, 2, 3, 0])"
            ]
          },
          "metadata": {
            "tags": []
          },
          "execution_count": 12
        }
      ]
    },
    {
      "cell_type": "code",
      "metadata": {
        "colab": {
          "base_uri": "https://localhost:8080/"
        },
        "id": "7li18XAbrGBY",
        "outputId": "8cbe10af-e14f-4c97-d38e-f7e036ec7be1"
      },
      "source": [
        "for index in ex2_dict.keys() :\r\n",
        "      print(index)"
      ],
      "execution_count": null,
      "outputs": [
        {
          "output_type": "stream",
          "text": [
            "1\n",
            "2\n",
            "3\n",
            "0\n"
          ],
          "name": "stdout"
        }
      ]
    },
    {
      "cell_type": "code",
      "metadata": {
        "colab": {
          "base_uri": "https://localhost:8080/"
        },
        "id": "gRiMezUirQf9",
        "outputId": "fc0ce50a-7422-4d4d-837f-718e937a6c99"
      },
      "source": [
        "ex2_dict.values() #ค่าของkeys (values)ทั้งหมด"
      ],
      "execution_count": null,
      "outputs": [
        {
          "output_type": "execute_result",
          "data": {
            "text/plain": [
              "dict_values(['one', 'two', 'three', 'zero'])"
            ]
          },
          "metadata": {
            "tags": []
          },
          "execution_count": 14
        }
      ]
    },
    {
      "cell_type": "markdown",
      "metadata": {
        "id": "NfKx4ZcPsrcx"
      },
      "source": [
        "dictionary เอาไปใช้ร่วมกับ dataframe ของ panda"
      ]
    },
    {
      "cell_type": "markdown",
      "metadata": {
        "id": "GzGsHVnCtB5R"
      },
      "source": [
        "#Numpy Array (array n dimensions )\r\n",
        "ืีnumpy คือ package ที่ทำงานเกี่ยวกับตัวเลข\r\n",
        "numpy ---> nnumber + python"
      ]
    },
    {
      "cell_type": "code",
      "metadata": {
        "id": "or9xUcZvr9VN"
      },
      "source": [
        "import numpy #วิธีเรียกใช้งานpackage"
      ],
      "execution_count": null,
      "outputs": []
    },
    {
      "cell_type": "code",
      "metadata": {
        "colab": {
          "base_uri": "https://localhost:8080/"
        },
        "id": "Ss8NOTCvuc3l",
        "outputId": "fb85ab31-87a7-4fed-de64-97d51f06aa32"
      },
      "source": [
        "ex_2d_array = numpy.array([[5.2,3.0,4.5],[3.1,0.1,0.3]])\r\n",
        "print(ex_2d_array)"
      ],
      "execution_count": null,
      "outputs": [
        {
          "output_type": "stream",
          "text": [
            "[[5.2 3.  4.5]\n",
            " [3.1 0.1 0.3]]\n"
          ],
          "name": "stdout"
        }
      ]
    },
    {
      "cell_type": "markdown",
      "metadata": {
        "id": "tJ_bs1njvHup"
      },
      "source": [
        "#ชี้ค่าใน numpy"
      ]
    },
    {
      "cell_type": "code",
      "metadata": {
        "colab": {
          "base_uri": "https://localhost:8080/"
        },
        "id": "_s-uD9PSvKuy",
        "outputId": "e110c6ef-66d4-43c9-dce1-212f5ccfd811"
      },
      "source": [
        "ex_2d_array[1,2] #ชี้ค่าในnumpy "
      ],
      "execution_count": null,
      "outputs": [
        {
          "output_type": "execute_result",
          "data": {
            "text/plain": [
              "0.3"
            ]
          },
          "metadata": {
            "tags": []
          },
          "execution_count": 17
        }
      ]
    },
    {
      "cell_type": "code",
      "metadata": {
        "colab": {
          "base_uri": "https://localhost:8080/"
        },
        "id": "Fz9kDkhhv8Y2",
        "outputId": "740bb59f-7afa-4139-8765-dcc2ea5ac688"
      },
      "source": [
        "list_x = [[5.2,3.0,4.5],[3.1,0.1,0.3]]\r\n",
        "print(len(list_x))\r\n"
      ],
      "execution_count": null,
      "outputs": [
        {
          "output_type": "stream",
          "text": [
            "2\n"
          ],
          "name": "stdout"
        }
      ]
    },
    {
      "cell_type": "code",
      "metadata": {
        "colab": {
          "base_uri": "https://localhost:8080/"
        },
        "id": "YUTkIdrUweTX",
        "outputId": "8dd50f48-53fd-4116-d81e-5a623aff9f52"
      },
      "source": [
        "list_x[1][2] #การชี้ค๋าในlist"
      ],
      "execution_count": null,
      "outputs": [
        {
          "output_type": "execute_result",
          "data": {
            "text/plain": [
              "0.3"
            ]
          },
          "metadata": {
            "tags": []
          },
          "execution_count": 19
        }
      ]
    },
    {
      "cell_type": "markdown",
      "metadata": {
        "id": "PL2JkVu9yAJG"
      },
      "source": [
        "#Operation"
      ]
    },
    {
      "cell_type": "code",
      "metadata": {
        "colab": {
          "base_uri": "https://localhost:8080/"
        },
        "id": "RACnCw8UxrNg",
        "outputId": "c886248f-91b1-4905-fc01-250adedbd56f"
      },
      "source": [
        "ex2_2d_array = numpy.array([[1,0,0],[0,0,1]])\r\n",
        "print(ex2_2d_array)\r\n",
        "print(ex_2d_array)"
      ],
      "execution_count": null,
      "outputs": [
        {
          "output_type": "stream",
          "text": [
            "[[1 0 0]\n",
            " [0 0 1]]\n",
            "[[5.2 3.  4.5]\n",
            " [3.1 0.1 0.3]]\n"
          ],
          "name": "stdout"
        }
      ]
    },
    {
      "cell_type": "code",
      "metadata": {
        "colab": {
          "base_uri": "https://localhost:8080/"
        },
        "id": "4M-_EuTJylA1",
        "outputId": "6581c4fa-24ad-4d91-ee52-d9955921455d"
      },
      "source": [
        "ex_2d_array.shape #ตรวจสอบขนาดของ matrix"
      ],
      "execution_count": null,
      "outputs": [
        {
          "output_type": "execute_result",
          "data": {
            "text/plain": [
              "(2, 3)"
            ]
          },
          "metadata": {
            "tags": []
          },
          "execution_count": 21
        }
      ]
    },
    {
      "cell_type": "code",
      "metadata": {
        "id": "ss7l4fVn5rEi",
        "colab": {
          "base_uri": "https://localhost:8080/"
        },
        "outputId": "77668e7e-14f8-4260-dc3f-daebe9e6ed47"
      },
      "source": [
        "ex2_2d_array + ex_2d_array"
      ],
      "execution_count": null,
      "outputs": [
        {
          "output_type": "execute_result",
          "data": {
            "text/plain": [
              "array([[6.2, 3. , 4.5],\n",
              "       [3.1, 0.1, 1.3]])"
            ]
          },
          "metadata": {
            "tags": []
          },
          "execution_count": 22
        }
      ]
    },
    {
      "cell_type": "code",
      "metadata": {
        "id": "oZKnEgUL5ul2",
        "colab": {
          "base_uri": "https://localhost:8080/"
        },
        "outputId": "3b9e935a-77db-459b-f70c-0908b5fc5060"
      },
      "source": [
        "list_x = [[5.2,3.0,4.5],[9.1,0.1,0.3]]\r\n",
        "list_x2 = [[1,0,0],[0,0,1]]\r\n",
        "list_x + list_x2"
      ],
      "execution_count": null,
      "outputs": [
        {
          "output_type": "execute_result",
          "data": {
            "text/plain": [
              "[[5.2, 3.0, 4.5], [9.1, 0.1, 0.3], [1, 0, 0], [0, 0, 1]]"
            ]
          },
          "metadata": {
            "tags": []
          },
          "execution_count": 23
        }
      ]
    },
    {
      "cell_type": "code",
      "metadata": {
        "id": "09HykEct5ywz",
        "colab": {
          "base_uri": "https://localhost:8080/"
        },
        "outputId": "26d8044d-5126-43fe-d852-c0118750fbe2"
      },
      "source": [
        "ex2_2d_array - ex_2d_array"
      ],
      "execution_count": null,
      "outputs": [
        {
          "output_type": "execute_result",
          "data": {
            "text/plain": [
              "array([[-4.2, -3. , -4.5],\n",
              "       [-3.1, -0.1,  0.7]])"
            ]
          },
          "metadata": {
            "tags": []
          },
          "execution_count": 24
        }
      ]
    },
    {
      "cell_type": "code",
      "metadata": {
        "id": "O7knTVMM51Oi",
        "colab": {
          "base_uri": "https://localhost:8080/"
        },
        "outputId": "e530b934-c2af-4345-fd6a-30710c058db7"
      },
      "source": [
        "ex2_2d_array * ex_2d_array #การคูณแบบ array เอาตำแหน่งเดียวกันมาคูณกัน"
      ],
      "execution_count": null,
      "outputs": [
        {
          "output_type": "execute_result",
          "data": {
            "text/plain": [
              "array([[5.2, 0. , 0. ],\n",
              "       [0. , 0. , 0.3]])"
            ]
          },
          "metadata": {
            "tags": []
          },
          "execution_count": 25
        }
      ]
    },
    {
      "cell_type": "markdown",
      "metadata": {
        "id": "dCM_vQEc54Y6"
      },
      "source": [
        "###matrix multiplication (dot product)"
      ]
    },
    {
      "cell_type": "code",
      "metadata": {
        "id": "obVaY1ow56Md",
        "colab": {
          "base_uri": "https://localhost:8080/"
        },
        "outputId": "a079321a-4e85-446b-cf8a-fad544b2ca67"
      },
      "source": [
        "print(ex_2d_array)\r\n",
        "print(ex_2d_array.T)"
      ],
      "execution_count": null,
      "outputs": [
        {
          "output_type": "stream",
          "text": [
            "[[5.2 3.  4.5]\n",
            " [3.1 0.1 0.3]]\n",
            "[[5.2 3.1]\n",
            " [3.  0.1]\n",
            " [4.5 0.3]]\n"
          ],
          "name": "stdout"
        }
      ]
    },
    {
      "cell_type": "code",
      "metadata": {
        "id": "oHl5wYn759MH",
        "colab": {
          "base_uri": "https://localhost:8080/"
        },
        "outputId": "0f62887d-c223-41a9-83e8-5c689f62b518"
      },
      "source": [
        "dot_mat = np.dot(ex2_2d_array,ex_2d_array.T) \r\n",
        "print(dot_mat)"
      ],
      "execution_count": null,
      "outputs": [
        {
          "output_type": "stream",
          "text": [
            "[[5.2 3.1]\n",
            " [4.5 0.3]]\n"
          ],
          "name": "stdout"
        }
      ]
    },
    {
      "cell_type": "code",
      "metadata": {
        "id": "y-kPfueL60SO",
        "colab": {
          "base_uri": "https://localhost:8080/"
        },
        "outputId": "602a92cb-7b4a-4d18-f23a-7225fa7651af"
      },
      "source": [
        "numpy.linalg.det(dot_mat)"
      ],
      "execution_count": null,
      "outputs": [
        {
          "output_type": "execute_result",
          "data": {
            "text/plain": [
              "-12.389999999999999"
            ]
          },
          "metadata": {
            "tags": []
          },
          "execution_count": 71
        }
      ]
    },
    {
      "cell_type": "markdown",
      "metadata": {
        "id": "HS9niI3163ks"
      },
      "source": [
        "###Matrix Slicing"
      ]
    },
    {
      "cell_type": "code",
      "metadata": {
        "id": "O4BSgkPZ5_qa",
        "colab": {
          "base_uri": "https://localhost:8080/"
        },
        "outputId": "b153d40b-3d3e-4c56-9d43-4635c1f5f343"
      },
      "source": [
        "print(ex_2d_array)"
      ],
      "execution_count": null,
      "outputs": [
        {
          "output_type": "stream",
          "text": [
            "[[5.2 3.  4.5]\n",
            " [3.1 0.1 0.3]]\n"
          ],
          "name": "stdout"
        }
      ]
    },
    {
      "cell_type": "code",
      "metadata": {
        "id": "3vT3-zh868Ot",
        "colab": {
          "base_uri": "https://localhost:8080/"
        },
        "outputId": "b6fc1d44-d72c-4f68-a83d-35433cbef990"
      },
      "source": [
        "ex_2d_array[1,1:]"
      ],
      "execution_count": null,
      "outputs": [
        {
          "output_type": "execute_result",
          "data": {
            "text/plain": [
              "array([0.1, 0.3])"
            ]
          },
          "metadata": {
            "tags": []
          },
          "execution_count": 38
        }
      ]
    },
    {
      "cell_type": "code",
      "metadata": {
        "id": "dV_Ia7de6_bj",
        "colab": {
          "base_uri": "https://localhost:8080/"
        },
        "outputId": "e9c5264c-615f-4a58-f16e-a86704856b17"
      },
      "source": [
        "ex_2d_array[:,:2]"
      ],
      "execution_count": null,
      "outputs": [
        {
          "output_type": "execute_result",
          "data": {
            "text/plain": [
              "array([[5.2, 3. ],\n",
              "       [3.1, 0.1]])"
            ]
          },
          "metadata": {
            "tags": []
          },
          "execution_count": 39
        }
      ]
    },
    {
      "cell_type": "markdown",
      "metadata": {
        "id": "ymkuFZA17Bze"
      },
      "source": [
        "###**HW5 เขียน Function คูณ matrix**\r\n",
        "\r\n",
        "\r\n",
        "1.   (2,3)*(3,2) = X0*Y0\r\n",
        "2.   (4,4)*(4,1) = X1*Y1\r\n",
        "3.   (2,2)*(2,2) = X2*Y2"
      ]
    },
    {
      "cell_type": "code",
      "metadata": {
        "id": "_RdS-yGh7bRK"
      },
      "source": [
        "import numpy as np"
      ],
      "execution_count": null,
      "outputs": []
    },
    {
      "cell_type": "code",
      "metadata": {
        "id": "Ro-Tx0pw9nuL",
        "colab": {
          "base_uri": "https://localhost:8080/"
        },
        "outputId": "7e660266-c006-467a-9ac1-0d43028316c1"
      },
      "source": [
        "\r\n",
        "#Matrix 2*3 : X0\r\n",
        "X0 = np.array([[1,2,7],[3,6,5]])\r\n",
        "#Matrix 3*2 : Y0\r\n",
        "Y0 = np.array([[9,4],[0,7],[2,4]])\r\n",
        "print(f'X0 = {X0} \\n\\n Y0 = {Y0}')"
      ],
      "execution_count": null,
      "outputs": [
        {
          "output_type": "stream",
          "text": [
            "X0 = [[1 2 7]\n",
            " [3 6 5]] \n",
            "\n",
            " Y0 = [[9 4]\n",
            " [0 7]\n",
            " [2 4]]\n"
          ],
          "name": "stdout"
        }
      ]
    },
    {
      "cell_type": "code",
      "metadata": {
        "id": "YpLj8Lnl-QMW",
        "colab": {
          "base_uri": "https://localhost:8080/"
        },
        "outputId": "b4a0f1ce-8355-4723-a44d-297a0f90e83a"
      },
      "source": [
        "#Matrix 4*4 : X1\r\n",
        "X1 =  np.array([[5,8,7,3],[9,1,8,3],[2,3,4,9],[6,4,7,2]])\r\n",
        "#Matrix 4*1 :  Y1\r\n",
        "Y1 = np.array([[0],[4],[7],[13]])\r\n",
        "print(f'X1 = {X1} \\n\\n Y1 = {Y1}')"
      ],
      "execution_count": null,
      "outputs": [
        {
          "output_type": "stream",
          "text": [
            "X1 = [[5 8 7 3]\n",
            " [9 1 8 3]\n",
            " [2 3 4 9]\n",
            " [6 4 7 2]] \n",
            "\n",
            " Y1 = [[ 0]\n",
            " [ 4]\n",
            " [ 7]\n",
            " [13]]\n"
          ],
          "name": "stdout"
        }
      ]
    },
    {
      "cell_type": "code",
      "metadata": {
        "id": "IWR4grxL-TpG",
        "colab": {
          "base_uri": "https://localhost:8080/"
        },
        "outputId": "ba9a86b8-473f-4fd6-fa2d-38520010800a"
      },
      "source": [
        "#Matrix 2*2 : X2\r\n",
        "X2 = np.array([[11,12],[13,14]])\r\n",
        "#Matrix 2*2 : Y2\r\n",
        "Y2 = np.array([[77,88],[66,99]])\r\n",
        "print(f'X2 = {X2} \\n\\n Y2 = {Y2}')"
      ],
      "execution_count": null,
      "outputs": [
        {
          "output_type": "stream",
          "text": [
            "X2 = [[11 12]\n",
            " [13 14]] \n",
            "\n",
            " Y2 = [[77 88]\n",
            " [66 99]]\n"
          ],
          "name": "stdout"
        }
      ]
    },
    {
      "cell_type": "code",
      "metadata": {
        "id": "6qqIdnDm_c0c"
      },
      "source": [
        "def mul_mat(x, y) :\r\n",
        "  z = [[0 for row in range(len(y[0]))] for col in range(len(y))]\r\n",
        "  for i in range(len(x)) :\r\n",
        "    for j in range(len(y[0])) :\r\n",
        "      for k in range(len(y)) :\r\n",
        "        z[i][j] += x[i][k]*y[k][j]\r\n",
        "  r = np.matrix(z)\r\n",
        "  return r"
      ],
      "execution_count": null,
      "outputs": []
    },
    {
      "cell_type": "markdown",
      "metadata": {
        "id": "uvMaXISM_YZ2"
      },
      "source": [
        "#**`การคูณ Matrix`**"
      ]
    },
    {
      "cell_type": "code",
      "metadata": {
        "id": "f9kzLHMOAd5O",
        "colab": {
          "base_uri": "https://localhost:8080/"
        },
        "outputId": "2979e3a9-0314-438d-85e8-cdf06bca6cd4"
      },
      "source": [
        "print(f' 1. X0*Y0 = {mul_mat(X0,Y0)} \\n\\n 2. X1*Y1 = {mul_mat(X1,Y1)} \\n\\n 3. X2*Y2 = {mul_mat(X2,Y2)}')"
      ],
      "execution_count": null,
      "outputs": [
        {
          "output_type": "stream",
          "text": [
            " 1. X0*Y0 = [[23 46]\n",
            " [37 74]\n",
            " [ 0  0]] \n",
            "\n",
            " 2. X1*Y1 = [[120]\n",
            " [ 99]\n",
            " [157]\n",
            " [ 91]] \n",
            "\n",
            " 3. X2*Y2 = [[1639 2156]\n",
            " [1925 2530]]\n"
          ],
          "name": "stdout"
        }
      ]
    },
    {
      "cell_type": "code",
      "metadata": {
        "id": "baNbnxakA64U",
        "colab": {
          "base_uri": "https://localhost:8080/"
        },
        "outputId": "e4bf3a7a-eeb6-4045-b987-c94ac17e4ded"
      },
      "source": [
        "#check\r\n",
        "numpy.dot(X1,Y1)"
      ],
      "execution_count": null,
      "outputs": [
        {
          "output_type": "execute_result",
          "data": {
            "text/plain": [
              "array([[120],\n",
              "       [ 99],\n",
              "       [157],\n",
              "       [ 91]])"
            ]
          },
          "metadata": {
            "tags": []
          },
          "execution_count": 75
        }
      ]
    },
    {
      "cell_type": "markdown",
      "metadata": {
        "id": "VhRIIb0CTIlv"
      },
      "source": [
        "### zeros, random"
      ]
    },
    {
      "cell_type": "code",
      "metadata": {
        "id": "9EtQ65JhWGTY"
      },
      "source": [
        "import numpy as np #import numpy แล้วตั้งชื่อเป็น np; npตั้งเป็นอะไรก็ได้ เหมือนกำหนดอักษรให้เขียนง่ายขึ้น"
      ],
      "execution_count": 1,
      "outputs": []
    },
    {
      "cell_type": "code",
      "metadata": {
        "id": "N4qavyoSWa3V",
        "outputId": "00f5efbe-b395-4c1e-ff34-b98b72412c06",
        "colab": {
          "base_uri": "https://localhost:8080/"
        }
      },
      "source": [
        "np.zeros(2)"
      ],
      "execution_count": 10,
      "outputs": [
        {
          "output_type": "execute_result",
          "data": {
            "text/plain": [
              "array([0., 0.])"
            ]
          },
          "metadata": {
            "tags": []
          },
          "execution_count": 10
        }
      ]
    },
    {
      "cell_type": "code",
      "metadata": {
        "id": "9IyA-ICMWg-i",
        "outputId": "eaedff52-1b92-4082-9c8b-af04beb715bb",
        "colab": {
          "base_uri": "https://localhost:8080/"
        }
      },
      "source": [
        "np.zeros((2,3))"
      ],
      "execution_count": 11,
      "outputs": [
        {
          "output_type": "execute_result",
          "data": {
            "text/plain": [
              "array([[0., 0., 0.],\n",
              "       [0., 0., 0.]])"
            ]
          },
          "metadata": {
            "tags": []
          },
          "execution_count": 11
        }
      ]
    },
    {
      "cell_type": "markdown",
      "metadata": {
        "id": "V2v5-4lfXafo"
      },
      "source": [
        "#ones"
      ]
    },
    {
      "cell_type": "code",
      "metadata": {
        "id": "e6q_e0BjXDaN",
        "outputId": "0ab09ea5-9e0e-47a6-f03d-5b7f16329d8f",
        "colab": {
          "base_uri": "https://localhost:8080/"
        }
      },
      "source": [
        "np.ones(2)"
      ],
      "execution_count": 12,
      "outputs": [
        {
          "output_type": "execute_result",
          "data": {
            "text/plain": [
              "array([1., 1.])"
            ]
          },
          "metadata": {
            "tags": []
          },
          "execution_count": 12
        }
      ]
    },
    {
      "cell_type": "markdown",
      "metadata": {
        "id": "mLcly5H3YDCL"
      },
      "source": [
        "###Matrix Operation (scalar multiplication)"
      ]
    },
    {
      "cell_type": "code",
      "metadata": {
        "id": "UVntWhGyXniv"
      },
      "source": [
        "M_one = np.ones((2,3))"
      ],
      "execution_count": 19,
      "outputs": []
    },
    {
      "cell_type": "code",
      "metadata": {
        "id": "KW3Xhy_KYi1Y",
        "outputId": "fa35be45-0c5d-48ec-f5cf-56c495ca3e3b",
        "colab": {
          "base_uri": "https://localhost:8080/"
        }
      },
      "source": [
        "2*M_one"
      ],
      "execution_count": 20,
      "outputs": [
        {
          "output_type": "execute_result",
          "data": {
            "text/plain": [
              "array([[2., 2., 2.],\n",
              "       [2., 2., 2.]])"
            ]
          },
          "metadata": {
            "tags": []
          },
          "execution_count": 20
        }
      ]
    },
    {
      "cell_type": "markdown",
      "metadata": {
        "id": "shgAjDweZBN4"
      },
      "source": [
        "###Random"
      ]
    },
    {
      "cell_type": "code",
      "metadata": {
        "id": "M9HAdN-UZDJi",
        "outputId": "be2274da-9934-4ce3-edd0-d1ab986d4b35",
        "colab": {
          "base_uri": "https://localhost:8080/"
        }
      },
      "source": [
        "np.random.rand(2)  #ค่าที่ได้จะอยู่ระหว่าง 0-1 // uniform landom"
      ],
      "execution_count": 29,
      "outputs": [
        {
          "output_type": "execute_result",
          "data": {
            "text/plain": [
              "array([0.26211053, 0.44690278])"
            ]
          },
          "metadata": {
            "tags": []
          },
          "execution_count": 29
        }
      ]
    },
    {
      "cell_type": "code",
      "metadata": {
        "id": "8rZ3Z5FDaGh_",
        "outputId": "72e5d5e5-df08-4cb1-beda-eefa828a030b",
        "colab": {
          "base_uri": "https://localhost:8080/"
        }
      },
      "source": [
        "np.random.randn(2,3) #ค่าที่ได้จะมี meanเป็น 0, variance เป็น 1 // normal distribution"
      ],
      "execution_count": 25,
      "outputs": [
        {
          "output_type": "execute_result",
          "data": {
            "text/plain": [
              "array([[ 0.29304534, -0.75018646,  1.06910457],\n",
              "       [ 0.52520918, -0.28892821, -0.58924784]])"
            ]
          },
          "metadata": {
            "tags": []
          },
          "execution_count": 25
        }
      ]
    },
    {
      "cell_type": "code",
      "metadata": {
        "id": "WQCIgDsfcbSI",
        "outputId": "4ccd32f0-881e-41c0-feb7-932e8bdc68ce",
        "colab": {
          "base_uri": "https://localhost:8080/"
        }
      },
      "source": [
        "np.random.choice([1,2,3,127,12],size =2 )"
      ],
      "execution_count": 38,
      "outputs": [
        {
          "output_type": "execute_result",
          "data": {
            "text/plain": [
              "array([12,  2])"
            ]
          },
          "metadata": {
            "tags": []
          },
          "execution_count": 38
        }
      ]
    },
    {
      "cell_type": "code",
      "metadata": {
        "id": "mI4hL_TPeA9P",
        "outputId": "ef670195-8d90-43f5-c9e1-ead56b7e7c11",
        "colab": {
          "base_uri": "https://localhost:8080/"
        }
      },
      "source": [
        "np.random.choice([1,2,3,127,12],size =(2,3) )"
      ],
      "execution_count": 39,
      "outputs": [
        {
          "output_type": "execute_result",
          "data": {
            "text/plain": [
              "array([[ 12,   3,   2],\n",
              "       [  3, 127,   2]])"
            ]
          },
          "metadata": {
            "tags": []
          },
          "execution_count": 39
        }
      ]
    },
    {
      "cell_type": "code",
      "metadata": {
        "id": "6vPn_tFkeKOZ",
        "outputId": "3d3ee180-63c5-44d5-b86c-b3f8d0dc0a8f",
        "colab": {
          "base_uri": "https://localhost:8080/"
        }
      },
      "source": [
        "np.random.choice([1,2,3,127,12],size =(2,3), replace=True )"
      ],
      "execution_count": 47,
      "outputs": [
        {
          "output_type": "execute_result",
          "data": {
            "text/plain": [
              "array([[ 12,  12,   1],\n",
              "       [127,  12,  12]])"
            ]
          },
          "metadata": {
            "tags": []
          },
          "execution_count": 47
        }
      ]
    },
    {
      "cell_type": "code",
      "metadata": {
        "id": "Sw3rMnnrfzyJ",
        "outputId": "db28d020-4611-4035-855a-73017b643c68",
        "colab": {
          "base_uri": "https://localhost:8080/"
        }
      },
      "source": [
        "np.random.choice([1,2,3,127,12,8],size =(2,3), replace=False, p= [0.1,0.1,0.1,0.2,0.2,0.3] )"
      ],
      "execution_count": 58,
      "outputs": [
        {
          "output_type": "execute_result",
          "data": {
            "text/plain": [
              "array([[127,   8,   3],\n",
              "       [ 12,   2,   1]])"
            ]
          },
          "metadata": {
            "tags": []
          },
          "execution_count": 58
        }
      ]
    },
    {
      "cell_type": "code",
      "metadata": {
        "id": "qWm1Y1D2hO7i"
      },
      "source": [
        ""
      ],
      "execution_count": null,
      "outputs": []
    }
  ]
}