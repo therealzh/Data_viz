{
  "nbformat": 4,
  "nbformat_minor": 0,
  "metadata": {
    "colab": {
      "name": "More advanced data structure.ipynb",
      "provenance": [],
      "authorship_tag": "ABX9TyN2PoAHNxsRpzH/YSQO26q0",
      "include_colab_link": true
    },
    "kernelspec": {
      "name": "python3",
      "display_name": "Python 3"
    }
  },
  "cells": [
    {
      "cell_type": "markdown",
      "metadata": {
        "id": "view-in-github",
        "colab_type": "text"
      },
      "source": [
        "<a href=\"https://colab.research.google.com/github/therealzh/Data_viz/blob/main/More_advanced_data_structure.ipynb\" target=\"_parent\"><img src=\"https://colab.research.google.com/assets/colab-badge.svg\" alt=\"Open In Colab\"/></a>"
      ]
    },
    {
      "cell_type": "markdown",
      "metadata": {
        "id": "trRgCc7Rnbqd"
      },
      "source": [
        "# Dictionary\r\n",
        "สามารถ index ด้วยอะไรก็ได้ แต่ลำดับจะหายไป"
      ]
    },
    {
      "cell_type": "code",
      "metadata": {
        "id": "NOK-241Il_Lo"
      },
      "source": [
        "ex_dict = {'a':10, '1':1, 'zhouzhan':5} #Curly brackets ในหารบอกว่าเป็น dictionary"
      ],
      "execution_count": 5,
      "outputs": []
    },
    {
      "cell_type": "code",
      "metadata": {
        "colab": {
          "base_uri": "https://localhost:8080/",
          "height": 0
        },
        "id": "bq0VjZC7o-mh",
        "outputId": "dc25dae7-af6a-4932-a084-6846d99a0946"
      },
      "source": [
        "ex_dict ['zhouzhan']"
      ],
      "execution_count": 6,
      "outputs": [
        {
          "output_type": "execute_result",
          "data": {
            "text/plain": [
              "5"
            ]
          },
          "metadata": {
            "tags": []
          },
          "execution_count": 6
        }
      ]
    },
    {
      "cell_type": "code",
      "metadata": {
        "id": "zZ6WwRU3pZH7"
      },
      "source": [
        "ex2_dict = {1 : 'one', 2:'two', 3:'three'}"
      ],
      "execution_count": 11,
      "outputs": []
    },
    {
      "cell_type": "code",
      "metadata": {
        "colab": {
          "base_uri": "https://localhost:8080/",
          "height": 36
        },
        "id": "bSH-g2q3pmMc",
        "outputId": "97328e6c-0539-4dcf-9cc0-36456b8a6f29"
      },
      "source": [
        "ex2_dict[2]"
      ],
      "execution_count": 12,
      "outputs": [
        {
          "output_type": "execute_result",
          "data": {
            "application/vnd.google.colaboratory.intrinsic+json": {
              "type": "string"
            },
            "text/plain": [
              "'two'"
            ]
          },
          "metadata": {
            "tags": []
          },
          "execution_count": 12
        }
      ]
    },
    {
      "cell_type": "markdown",
      "metadata": {
        "id": "yTvE5GmXqSWt"
      },
      "source": [
        "#การเพิ่มสมาชิกใน dictionary"
      ]
    },
    {
      "cell_type": "code",
      "metadata": {
        "id": "s2Pw2fwHqWw-"
      },
      "source": [
        "ex2_dict[0] = 'zero'"
      ],
      "execution_count": 13,
      "outputs": []
    },
    {
      "cell_type": "code",
      "metadata": {
        "colab": {
          "base_uri": "https://localhost:8080/",
          "height": 0
        },
        "id": "SDbuKzHcqvnU",
        "outputId": "9baa9edc-9b0d-4a91-cc8b-5d4babeb4dd4"
      },
      "source": [
        "ex2_dict"
      ],
      "execution_count": 14,
      "outputs": [
        {
          "output_type": "execute_result",
          "data": {
            "text/plain": [
              "{0: 'zero', 1: 'one', 2: 'two', 3: 'three'}"
            ]
          },
          "metadata": {
            "tags": []
          },
          "execution_count": 14
        }
      ]
    },
    {
      "cell_type": "markdown",
      "metadata": {
        "id": "TCx84kjLqyi3"
      },
      "source": [
        "คำสั่งที่ใช้บ่อย"
      ]
    },
    {
      "cell_type": "code",
      "metadata": {
        "colab": {
          "base_uri": "https://localhost:8080/",
          "height": 0
        },
        "id": "bwXhyXuDq3Xw",
        "outputId": "ff040a82-ce95-4cf4-aaca-d3295cf271e1"
      },
      "source": [
        "ex2_dict.keys() #print keys ทั้งหมด"
      ],
      "execution_count": 19,
      "outputs": [
        {
          "output_type": "execute_result",
          "data": {
            "text/plain": [
              "dict_keys([1, 2, 3, 0])"
            ]
          },
          "metadata": {
            "tags": []
          },
          "execution_count": 19
        }
      ]
    },
    {
      "cell_type": "code",
      "metadata": {
        "colab": {
          "base_uri": "https://localhost:8080/",
          "height": 0
        },
        "id": "7li18XAbrGBY",
        "outputId": "1bec3c8f-2369-4bca-edb0-bbd3fc31255d"
      },
      "source": [
        "for index in ex2_dict.keys() :\r\n",
        "      print(index)"
      ],
      "execution_count": 17,
      "outputs": [
        {
          "output_type": "stream",
          "text": [
            "1\n",
            "2\n",
            "3\n",
            "0\n"
          ],
          "name": "stdout"
        }
      ]
    },
    {
      "cell_type": "code",
      "metadata": {
        "colab": {
          "base_uri": "https://localhost:8080/",
          "height": 0
        },
        "id": "gRiMezUirQf9",
        "outputId": "fe66c095-d022-469c-d7f5-0a8aa408c28e"
      },
      "source": [
        "ex2_dict.values() #ค่าของkeys (values)ทั้งหมด"
      ],
      "execution_count": 20,
      "outputs": [
        {
          "output_type": "execute_result",
          "data": {
            "text/plain": [
              "dict_values(['one', 'two', 'three', 'zero'])"
            ]
          },
          "metadata": {
            "tags": []
          },
          "execution_count": 20
        }
      ]
    },
    {
      "cell_type": "markdown",
      "metadata": {
        "id": "NfKx4ZcPsrcx"
      },
      "source": [
        "dictionary เอาไปใช้ร่วมกับ dataframe ของ panda"
      ]
    },
    {
      "cell_type": "markdown",
      "metadata": {
        "id": "GzGsHVnCtB5R"
      },
      "source": [
        "#Numpy Array (array n dimensions )\r\n",
        "ืีnumpy คือ package ที่ทำงานเกี่ยวกับตัวเลข\r\n",
        "numpy ---> nnumber + python"
      ]
    },
    {
      "cell_type": "code",
      "metadata": {
        "id": "or9xUcZvr9VN"
      },
      "source": [
        "import numpy #วิธีเรียกใช้งานpackage"
      ],
      "execution_count": 21,
      "outputs": []
    },
    {
      "cell_type": "code",
      "metadata": {
        "colab": {
          "base_uri": "https://localhost:8080/",
          "height": 0
        },
        "id": "Ss8NOTCvuc3l",
        "outputId": "bde2ba87-bc1b-4e6b-f885-05af1aa595f6"
      },
      "source": [
        "ex_2d_array = numpy.array([[5.2,3.0,4.5],[3.1,0.1,0.3]])\r\n",
        "print(ex_2d_array)"
      ],
      "execution_count": 26,
      "outputs": [
        {
          "output_type": "stream",
          "text": [
            "[[5.2 3.  4.5]\n",
            " [3.1 0.1 0.3]]\n"
          ],
          "name": "stdout"
        }
      ]
    },
    {
      "cell_type": "markdown",
      "metadata": {
        "id": "tJ_bs1njvHup"
      },
      "source": [
        "#ชี้ค่าใน numpy"
      ]
    },
    {
      "cell_type": "code",
      "metadata": {
        "colab": {
          "base_uri": "https://localhost:8080/",
          "height": 0
        },
        "id": "_s-uD9PSvKuy",
        "outputId": "3a6bb54c-e45f-4d78-eb2d-d806bf3a9ed2"
      },
      "source": [
        "ex_2d_array[1,2] #ชี้ค่าในnumpy "
      ],
      "execution_count": 27,
      "outputs": [
        {
          "output_type": "execute_result",
          "data": {
            "text/plain": [
              "0.3"
            ]
          },
          "metadata": {
            "tags": []
          },
          "execution_count": 27
        }
      ]
    },
    {
      "cell_type": "code",
      "metadata": {
        "colab": {
          "base_uri": "https://localhost:8080/",
          "height": 0
        },
        "id": "Fz9kDkhhv8Y2",
        "outputId": "2917309e-ea9d-4c73-fd29-b15727598115"
      },
      "source": [
        "list_x = [[5.2,3.0,4.5],[3.1,0.1,0.3]]\r\n",
        "print(len(list_x))\r\n"
      ],
      "execution_count": 34,
      "outputs": [
        {
          "output_type": "stream",
          "text": [
            "2\n"
          ],
          "name": "stdout"
        }
      ]
    },
    {
      "cell_type": "code",
      "metadata": {
        "colab": {
          "base_uri": "https://localhost:8080/",
          "height": 0
        },
        "id": "YUTkIdrUweTX",
        "outputId": "7a3777cc-2e30-44e8-def4-d0bcf433c0b7"
      },
      "source": [
        "list_x[1][2] #การชี้ค๋าในlist"
      ],
      "execution_count": 40,
      "outputs": [
        {
          "output_type": "execute_result",
          "data": {
            "text/plain": [
              "0.3"
            ]
          },
          "metadata": {
            "tags": []
          },
          "execution_count": 40
        }
      ]
    },
    {
      "cell_type": "markdown",
      "metadata": {
        "id": "PL2JkVu9yAJG"
      },
      "source": [
        "#Operation"
      ]
    },
    {
      "cell_type": "code",
      "metadata": {
        "colab": {
          "base_uri": "https://localhost:8080/"
        },
        "id": "RACnCw8UxrNg",
        "outputId": "eced2962-5b2c-40c4-a3ea-8f3bc2b58873"
      },
      "source": [
        "ex2_2d_array = numpy.array([[1,0,0],[0,0,1]])\r\n",
        "print(ex2_2d_array)\r\n",
        "print(ex_2d_array)"
      ],
      "execution_count": 42,
      "outputs": [
        {
          "output_type": "stream",
          "text": [
            "[[1 0 0]\n",
            " [0 0 1]]\n",
            "[[5.2 3.  4.5]\n",
            " [3.1 0.1 0.3]]\n"
          ],
          "name": "stdout"
        }
      ]
    },
    {
      "cell_type": "code",
      "metadata": {
        "colab": {
          "base_uri": "https://localhost:8080/"
        },
        "id": "4M-_EuTJylA1",
        "outputId": "69921560-ecef-4415-99f2-1df1ac731918"
      },
      "source": [
        "ex_2d_array.shape #ตรวจสอบขนาดของ matrix"
      ],
      "execution_count": 43,
      "outputs": [
        {
          "output_type": "execute_result",
          "data": {
            "text/plain": [
              "(2, 3)"
            ]
          },
          "metadata": {
            "tags": []
          },
          "execution_count": 43
        }
      ]
    }
  ]
}