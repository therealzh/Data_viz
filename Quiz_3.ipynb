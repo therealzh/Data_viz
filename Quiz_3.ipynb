{
  "nbformat": 4,
  "nbformat_minor": 0,
  "metadata": {
    "colab": {
      "name": "Quiz 3",
      "provenance": [],
      "authorship_tag": "ABX9TyN+/g7PceMQHDpalpvLwxjB",
      "include_colab_link": true
    },
    "kernelspec": {
      "name": "python3",
      "display_name": "Python 3"
    }
  },
  "cells": [
    {
      "cell_type": "markdown",
      "metadata": {
        "id": "view-in-github",
        "colab_type": "text"
      },
      "source": [
        "<a href=\"https://colab.research.google.com/github/therealzh/Data_viz/blob/main/Quiz_3.ipynb\" target=\"_parent\"><img src=\"https://colab.research.google.com/assets/colab-badge.svg\" alt=\"Open In Colab\"/></a>"
      ]
    },
    {
      "cell_type": "code",
      "metadata": {
        "id": "hH-Zd4sy-JWl"
      },
      "source": [
        "import pandas as pd\r\n",
        "import os"
      ],
      "execution_count": null,
      "outputs": []
    },
    {
      "cell_type": "code",
      "metadata": {
        "colab": {
          "base_uri": "https://localhost:8080/"
        },
        "id": "1uceAxCz-8x_",
        "outputId": "91844d02-8ec8-479f-a035-9009e0daa07c"
      },
      "source": [
        "from google.colab import drive\r\n",
        "drive.mount('/content/drive')"
      ],
      "execution_count": null,
      "outputs": [
        {
          "output_type": "stream",
          "text": [
            "Mounted at /content/drive\n"
          ],
          "name": "stdout"
        }
      ]
    },
    {
      "cell_type": "code",
      "metadata": {
        "id": "1PsNy7IT-8_9"
      },
      "source": [
        "path = '/content/drive/My Drive/Data viz'"
      ],
      "execution_count": null,
      "outputs": []
    },
    {
      "cell_type": "code",
      "metadata": {
        "id": "A29g5agA-9Ki"
      },
      "source": [
        "data_path = os.path.join(path,'-.57-.58-1.xls')"
      ],
      "execution_count": null,
      "outputs": []
    },
    {
      "cell_type": "code",
      "metadata": {
        "colab": {
          "base_uri": "https://localhost:8080/",
          "height": 204
        },
        "id": "uA7NCD3Q-9Nf",
        "outputId": "5bcb4875-a5c2-47aa-ec23-7b70f30fa47c"
      },
      "source": [
        "data1_df = pd.read_excel(data_path,header=4,skipfooter=20)\r\n",
        "data1_df.head()"
      ],
      "execution_count": null,
      "outputs": [
        {
          "output_type": "execute_result",
          "data": {
            "text/html": [
              "<div>\n",
              "<style scoped>\n",
              "    .dataframe tbody tr th:only-of-type {\n",
              "        vertical-align: middle;\n",
              "    }\n",
              "\n",
              "    .dataframe tbody tr th {\n",
              "        vertical-align: top;\n",
              "    }\n",
              "\n",
              "    .dataframe thead th {\n",
              "        text-align: right;\n",
              "    }\n",
              "</style>\n",
              "<table border=\"1\" class=\"dataframe\">\n",
              "  <thead>\n",
              "    <tr style=\"text-align: right;\">\n",
              "      <th></th>\n",
              "      <th>ลำดับ</th>\n",
              "      <th>งานจัดซื้อ</th>\n",
              "      <th>วงเงินงบประมาณ</th>\n",
              "      <th>วิธีซื้อ</th>\n",
              "      <th>ผู้เสนอราคาและราคาที่เสนอ</th>\n",
              "      <th>Unnamed: 5</th>\n",
              "      <th>ผู้ได้รับการคัดเลือกและราคา</th>\n",
              "      <th>Unnamed: 7</th>\n",
              "      <th>เหตุผลที่คัดเลือกโดยสรุป</th>\n",
              "    </tr>\n",
              "  </thead>\n",
              "  <tbody>\n",
              "    <tr>\n",
              "      <th>0</th>\n",
              "      <td>ที่</td>\n",
              "      <td>NaN</td>\n",
              "      <td>(ราคากลาง)</td>\n",
              "      <td>NaN</td>\n",
              "      <td>NaN</td>\n",
              "      <td>NaN</td>\n",
              "      <td>NaN</td>\n",
              "      <td>NaN</td>\n",
              "      <td>NaN</td>\n",
              "    </tr>\n",
              "    <tr>\n",
              "      <th>1</th>\n",
              "      <td>1</td>\n",
              "      <td>จัดซื้อน้ำดิ่มบรรจุถังใส PC จำนวน 10 ถัง ประจำ...</td>\n",
              "      <td>350</td>\n",
              "      <td>ตกลงราคา</td>\n",
              "      <td>บริษัท ชลบุรี เลี่ยงเฮงไถ่ จำกัด</td>\n",
              "      <td>350.00</td>\n",
              "      <td>บริษัท ชลบุรี เลี่ยงเฮงไถ่ จำกัด</td>\n",
              "      <td>350.00</td>\n",
              "      <td>เป็นผู้ให้บริการจำหน่าย</td>\n",
              "    </tr>\n",
              "    <tr>\n",
              "      <th>2</th>\n",
              "      <td>2</td>\n",
              "      <td>จัดซื้อน้ำมันชั้อเพลิงใช้สำหรับรถยนต์ราชการ</td>\n",
              "      <td>47251.4</td>\n",
              "      <td>ตกลงราคา</td>\n",
              "      <td>สถานีบริการน้ำมันเชื้อเพลิงสวัสดิการ</td>\n",
              "      <td>47251.38</td>\n",
              "      <td>สถานีบริการน้ำมันเชื้อเพลิงสวัสดิการ</td>\n",
              "      <td>47251.38</td>\n",
              "      <td>เป็นผู้ให้บริการจำหน่าย</td>\n",
              "    </tr>\n",
              "    <tr>\n",
              "      <th>3</th>\n",
              "      <td>3</td>\n",
              "      <td>จัดซื้อหนังสือพิมพ์ เดือน ก.ย.57</td>\n",
              "      <td>4730</td>\n",
              "      <td>ตกลงราคา</td>\n",
              "      <td>บ.รุ่งโรฒน์บริการ</td>\n",
              "      <td>4730.00</td>\n",
              "      <td>บ.รุ่งโรฒน์บริการ</td>\n",
              "      <td>4730.00</td>\n",
              "      <td>เป็นผู้ให้บริการจำหน่าย</td>\n",
              "    </tr>\n",
              "    <tr>\n",
              "      <th>4</th>\n",
              "      <td>4</td>\n",
              "      <td>จัดซื้อหนังสือพิมพ์ เดือน ก.ย.57</td>\n",
              "      <td>2160</td>\n",
              "      <td>ตกลงราคา</td>\n",
              "      <td>บ.รุ่งโรฒน์บริการ</td>\n",
              "      <td>2160.00</td>\n",
              "      <td>บ.รุ่งโรฒน์บริการ</td>\n",
              "      <td>2160.00</td>\n",
              "      <td>เป็นผู้ให้บริการจำหน่าย</td>\n",
              "    </tr>\n",
              "  </tbody>\n",
              "</table>\n",
              "</div>"
            ],
            "text/plain": [
              "  ลำดับ  ... เหตุผลที่คัดเลือกโดยสรุป\n",
              "0   ที่  ...                      NaN\n",
              "1     1  ...  เป็นผู้ให้บริการจำหน่าย\n",
              "2     2  ...  เป็นผู้ให้บริการจำหน่าย\n",
              "3     3  ...  เป็นผู้ให้บริการจำหน่าย\n",
              "4     4  ...  เป็นผู้ให้บริการจำหน่าย\n",
              "\n",
              "[5 rows x 9 columns]"
            ]
          },
          "metadata": {
            "tags": []
          },
          "execution_count": 7
        }
      ]
    },
    {
      "cell_type": "code",
      "metadata": {
        "colab": {
          "base_uri": "https://localhost:8080/",
          "height": 204
        },
        "id": "osfEoMy--9Sm",
        "outputId": "92afe2bf-17a3-4636-ecf3-f8e17f6c221a"
      },
      "source": [
        "data2_df = pd.read_excel(data_path,sheet_name='พย.57',header=4,skipfooter=30)\r\n",
        "data2_df.head()"
      ],
      "execution_count": null,
      "outputs": [
        {
          "output_type": "execute_result",
          "data": {
            "text/html": [
              "<div>\n",
              "<style scoped>\n",
              "    .dataframe tbody tr th:only-of-type {\n",
              "        vertical-align: middle;\n",
              "    }\n",
              "\n",
              "    .dataframe tbody tr th {\n",
              "        vertical-align: top;\n",
              "    }\n",
              "\n",
              "    .dataframe thead th {\n",
              "        text-align: right;\n",
              "    }\n",
              "</style>\n",
              "<table border=\"1\" class=\"dataframe\">\n",
              "  <thead>\n",
              "    <tr style=\"text-align: right;\">\n",
              "      <th></th>\n",
              "      <th>ลำดับ</th>\n",
              "      <th>งานจัดซื้อ</th>\n",
              "      <th>วงเงินงบประมาณ</th>\n",
              "      <th>วิธีซื้อ</th>\n",
              "      <th>ผู้เสนอราคาและราคาที่เสนอ</th>\n",
              "      <th>Unnamed: 5</th>\n",
              "      <th>ผู้ได้รับการคัดเลือกและราคา</th>\n",
              "      <th>Unnamed: 7</th>\n",
              "      <th>เหตุผลที่คัดเลือกโดยสรุป</th>\n",
              "    </tr>\n",
              "  </thead>\n",
              "  <tbody>\n",
              "    <tr>\n",
              "      <th>0</th>\n",
              "      <td>ที่</td>\n",
              "      <td>NaN</td>\n",
              "      <td>(ราคากลาง)</td>\n",
              "      <td>NaN</td>\n",
              "      <td>NaN</td>\n",
              "      <td>NaN</td>\n",
              "      <td>NaN</td>\n",
              "      <td>NaN</td>\n",
              "      <td>NaN</td>\n",
              "    </tr>\n",
              "    <tr>\n",
              "      <th>1</th>\n",
              "      <td>1</td>\n",
              "      <td>จัดซื้อวัสดุสำนักงาน จำนวน 17 รายการ</td>\n",
              "      <td>13090.4</td>\n",
              "      <td>ตกลงราคา</td>\n",
              "      <td>หจก.ไมโคร ซัม เอ็นเตอร์ไพร์ส</td>\n",
              "      <td>13090.38</td>\n",
              "      <td>หจก.ไมโคร ซัม เอ็นเตอร์ไพร์ส</td>\n",
              "      <td>13090.38</td>\n",
              "      <td>เป็นผู้ให้บริการจำหน่าย</td>\n",
              "    </tr>\n",
              "    <tr>\n",
              "      <th>2</th>\n",
              "      <td>2</td>\n",
              "      <td>จัดซื้อวัสดุคอมฯ จำนวน 1 รายการ</td>\n",
              "      <td>15729</td>\n",
              "      <td>ตกลงราคา</td>\n",
              "      <td>บริษัท พีแอนด์เจ พรีเวย์ เทรดดิ้ง จำกัด</td>\n",
              "      <td>15729.00</td>\n",
              "      <td>บริษัท พีแอนด์เจ พรีเวย์ เทรดดิ้ง จำกัด</td>\n",
              "      <td>15729.00</td>\n",
              "      <td>เป็นผู้จำหน่าย</td>\n",
              "    </tr>\n",
              "    <tr>\n",
              "      <th>3</th>\n",
              "      <td>3</td>\n",
              "      <td>จัดซื้อวัสดุสำนักงาน จำนวน 3 รายการ</td>\n",
              "      <td>43623.9</td>\n",
              "      <td>ตกลงราคา</td>\n",
              "      <td>บริษัท วินเนอร์ เปเปอร์ จำกัด</td>\n",
              "      <td>43623.90</td>\n",
              "      <td>บริษัท วินเนอร์ เปเปอร์ จำกัด</td>\n",
              "      <td>43623.90</td>\n",
              "      <td>เป็นผู้จำหน่าย</td>\n",
              "    </tr>\n",
              "    <tr>\n",
              "      <th>4</th>\n",
              "      <td>4</td>\n",
              "      <td>จัดซื้อเครื่องโทรศัพท์เคลื่อนที่ (มือถือ) จำนว...</td>\n",
              "      <td>30000</td>\n",
              "      <td>ตกลงราคา</td>\n",
              "      <td>บริษัท รามอินทรา อินเตอร์เทรด จำกัด</td>\n",
              "      <td>29990.00</td>\n",
              "      <td>บริษัท รามอินทรา อินเตอร์เทรด จำกัด</td>\n",
              "      <td>29990.00</td>\n",
              "      <td>เป็นผู้จำหน่าย</td>\n",
              "    </tr>\n",
              "  </tbody>\n",
              "</table>\n",
              "</div>"
            ],
            "text/plain": [
              "  ลำดับ  ... เหตุผลที่คัดเลือกโดยสรุป\n",
              "0   ที่  ...                      NaN\n",
              "1     1  ...  เป็นผู้ให้บริการจำหน่าย\n",
              "2     2  ...           เป็นผู้จำหน่าย\n",
              "3     3  ...           เป็นผู้จำหน่าย\n",
              "4     4  ...           เป็นผู้จำหน่าย\n",
              "\n",
              "[5 rows x 9 columns]"
            ]
          },
          "metadata": {
            "tags": []
          },
          "execution_count": 8
        }
      ]
    },
    {
      "cell_type": "code",
      "metadata": {
        "id": "F824KgAs9tH5"
      },
      "source": [
        "oct_re57 = data1_df.rename(columns={'Unnamed: 5':'ราคาเสนอ','Unnamed: 7':'ราคาซื้อ'})\r\n",
        "nov_re57 = data2_df.rename(columns={'Unnamed: 5':'ราคาเสนอ','Unnamed: 7':'ราคาซื้อ'})"
      ],
      "execution_count": null,
      "outputs": []
    },
    {
      "cell_type": "code",
      "metadata": {
        "colab": {
          "base_uri": "https://localhost:8080/",
          "height": 419
        },
        "id": "qHEmQ3Js--C4",
        "outputId": "232f6344-810f-4729-f921-a6f7ac3864dd"
      },
      "source": [
        "data_all = pd.concat([oct_re57,nov_re57])\r\n",
        "data_all"
      ],
      "execution_count": null,
      "outputs": [
        {
          "output_type": "execute_result",
          "data": {
            "text/html": [
              "<div>\n",
              "<style scoped>\n",
              "    .dataframe tbody tr th:only-of-type {\n",
              "        vertical-align: middle;\n",
              "    }\n",
              "\n",
              "    .dataframe tbody tr th {\n",
              "        vertical-align: top;\n",
              "    }\n",
              "\n",
              "    .dataframe thead th {\n",
              "        text-align: right;\n",
              "    }\n",
              "</style>\n",
              "<table border=\"1\" class=\"dataframe\">\n",
              "  <thead>\n",
              "    <tr style=\"text-align: right;\">\n",
              "      <th></th>\n",
              "      <th>ลำดับ</th>\n",
              "      <th>งานจัดซื้อ</th>\n",
              "      <th>วงเงินงบประมาณ</th>\n",
              "      <th>วิธีซื้อ</th>\n",
              "      <th>ผู้เสนอราคาและราคาที่เสนอ</th>\n",
              "      <th>ราคาเสนอ</th>\n",
              "      <th>ผู้ได้รับการคัดเลือกและราคา</th>\n",
              "      <th>ราคาซื้อ</th>\n",
              "      <th>เหตุผลที่คัดเลือกโดยสรุป</th>\n",
              "    </tr>\n",
              "  </thead>\n",
              "  <tbody>\n",
              "    <tr>\n",
              "      <th>0</th>\n",
              "      <td>ที่</td>\n",
              "      <td>NaN</td>\n",
              "      <td>(ราคากลาง)</td>\n",
              "      <td>NaN</td>\n",
              "      <td>NaN</td>\n",
              "      <td>NaN</td>\n",
              "      <td>NaN</td>\n",
              "      <td>NaN</td>\n",
              "      <td>NaN</td>\n",
              "    </tr>\n",
              "    <tr>\n",
              "      <th>1</th>\n",
              "      <td>1</td>\n",
              "      <td>จัดซื้อน้ำดิ่มบรรจุถังใส PC จำนวน 10 ถัง ประจำ...</td>\n",
              "      <td>350</td>\n",
              "      <td>ตกลงราคา</td>\n",
              "      <td>บริษัท ชลบุรี เลี่ยงเฮงไถ่ จำกัด</td>\n",
              "      <td>350.00</td>\n",
              "      <td>บริษัท ชลบุรี เลี่ยงเฮงไถ่ จำกัด</td>\n",
              "      <td>350.00</td>\n",
              "      <td>เป็นผู้ให้บริการจำหน่าย</td>\n",
              "    </tr>\n",
              "    <tr>\n",
              "      <th>2</th>\n",
              "      <td>2</td>\n",
              "      <td>จัดซื้อน้ำมันชั้อเพลิงใช้สำหรับรถยนต์ราชการ</td>\n",
              "      <td>47251.4</td>\n",
              "      <td>ตกลงราคา</td>\n",
              "      <td>สถานีบริการน้ำมันเชื้อเพลิงสวัสดิการ</td>\n",
              "      <td>47251.38</td>\n",
              "      <td>สถานีบริการน้ำมันเชื้อเพลิงสวัสดิการ</td>\n",
              "      <td>47251.38</td>\n",
              "      <td>เป็นผู้ให้บริการจำหน่าย</td>\n",
              "    </tr>\n",
              "    <tr>\n",
              "      <th>3</th>\n",
              "      <td>3</td>\n",
              "      <td>จัดซื้อหนังสือพิมพ์ เดือน ก.ย.57</td>\n",
              "      <td>4730</td>\n",
              "      <td>ตกลงราคา</td>\n",
              "      <td>บ.รุ่งโรฒน์บริการ</td>\n",
              "      <td>4730.00</td>\n",
              "      <td>บ.รุ่งโรฒน์บริการ</td>\n",
              "      <td>4730.00</td>\n",
              "      <td>เป็นผู้ให้บริการจำหน่าย</td>\n",
              "    </tr>\n",
              "    <tr>\n",
              "      <th>4</th>\n",
              "      <td>4</td>\n",
              "      <td>จัดซื้อหนังสือพิมพ์ เดือน ก.ย.57</td>\n",
              "      <td>2160</td>\n",
              "      <td>ตกลงราคา</td>\n",
              "      <td>บ.รุ่งโรฒน์บริการ</td>\n",
              "      <td>2160.00</td>\n",
              "      <td>บ.รุ่งโรฒน์บริการ</td>\n",
              "      <td>2160.00</td>\n",
              "      <td>เป็นผู้ให้บริการจำหน่าย</td>\n",
              "    </tr>\n",
              "    <tr>\n",
              "      <th>...</th>\n",
              "      <td>...</td>\n",
              "      <td>...</td>\n",
              "      <td>...</td>\n",
              "      <td>...</td>\n",
              "      <td>...</td>\n",
              "      <td>...</td>\n",
              "      <td>...</td>\n",
              "      <td>...</td>\n",
              "      <td>...</td>\n",
              "    </tr>\n",
              "    <tr>\n",
              "      <th>46</th>\n",
              "      <td>33</td>\n",
              "      <td>NaN</td>\n",
              "      <td>NaN</td>\n",
              "      <td>ตกลงราคา</td>\n",
              "      <td>NaN</td>\n",
              "      <td>NaN</td>\n",
              "      <td>NaN</td>\n",
              "      <td>NaN</td>\n",
              "      <td>เป็นผู้จำหน่าย</td>\n",
              "    </tr>\n",
              "    <tr>\n",
              "      <th>47</th>\n",
              "      <td>34</td>\n",
              "      <td>NaN</td>\n",
              "      <td>NaN</td>\n",
              "      <td>ตกลงราคา</td>\n",
              "      <td>NaN</td>\n",
              "      <td>NaN</td>\n",
              "      <td>NaN</td>\n",
              "      <td>NaN</td>\n",
              "      <td>เป็นผู้จำหน่าย</td>\n",
              "    </tr>\n",
              "    <tr>\n",
              "      <th>48</th>\n",
              "      <td>35</td>\n",
              "      <td>NaN</td>\n",
              "      <td>NaN</td>\n",
              "      <td>ตกลงราคา</td>\n",
              "      <td>NaN</td>\n",
              "      <td>NaN</td>\n",
              "      <td>NaN</td>\n",
              "      <td>NaN</td>\n",
              "      <td>เป็นผู้จำหน่าย</td>\n",
              "    </tr>\n",
              "    <tr>\n",
              "      <th>49</th>\n",
              "      <td>36</td>\n",
              "      <td>NaN</td>\n",
              "      <td>NaN</td>\n",
              "      <td>ตกลงราคา</td>\n",
              "      <td>NaN</td>\n",
              "      <td>NaN</td>\n",
              "      <td>NaN</td>\n",
              "      <td>NaN</td>\n",
              "      <td>เป็นผู้จำหน่าย</td>\n",
              "    </tr>\n",
              "    <tr>\n",
              "      <th>50</th>\n",
              "      <td>37</td>\n",
              "      <td>NaN</td>\n",
              "      <td>NaN</td>\n",
              "      <td>ตกลงราคา</td>\n",
              "      <td>NaN</td>\n",
              "      <td>NaN</td>\n",
              "      <td>NaN</td>\n",
              "      <td>NaN</td>\n",
              "      <td>เป็นผู้จำหน่าย</td>\n",
              "    </tr>\n",
              "  </tbody>\n",
              "</table>\n",
              "<p>67 rows × 9 columns</p>\n",
              "</div>"
            ],
            "text/plain": [
              "   ลำดับ  ... เหตุผลที่คัดเลือกโดยสรุป\n",
              "0    ที่  ...                      NaN\n",
              "1      1  ...  เป็นผู้ให้บริการจำหน่าย\n",
              "2      2  ...  เป็นผู้ให้บริการจำหน่าย\n",
              "3      3  ...  เป็นผู้ให้บริการจำหน่าย\n",
              "4      4  ...  เป็นผู้ให้บริการจำหน่าย\n",
              "..   ...  ...                      ...\n",
              "46    33  ...           เป็นผู้จำหน่าย\n",
              "47    34  ...           เป็นผู้จำหน่าย\n",
              "48    35  ...           เป็นผู้จำหน่าย\n",
              "49    36  ...           เป็นผู้จำหน่าย\n",
              "50    37  ...           เป็นผู้จำหน่าย\n",
              "\n",
              "[67 rows x 9 columns]"
            ]
          },
          "metadata": {
            "tags": []
          },
          "execution_count": 14
        }
      ]
    },
    {
      "cell_type": "code",
      "metadata": {
        "id": "h3rB8_56_x8z"
      },
      "source": [
        ""
      ],
      "execution_count": null,
      "outputs": []
    }
  ]
}